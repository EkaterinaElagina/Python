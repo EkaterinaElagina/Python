{
  "nbformat": 4,
  "nbformat_minor": 0,
  "metadata": {
    "colab": {
      "provenance": []
    },
    "kernelspec": {
      "name": "python3",
      "display_name": "Python 3"
    },
    "language_info": {
      "name": "python"
    }
  },
  "cells": [
    {
      "cell_type": "code",
      "execution_count": 1,
      "metadata": {
        "id": "EPl3TywSdXRb"
      },
      "outputs": [],
      "source": [
        "phrase_1 = 'Насколько проще было бы писать программы, если бы не заказчики'\n",
        "phrase_2 = '640Кб должно хватить для любых задач. Билл Гейтс (по легенде)'"
      ]
    },
    {
      "cell_type": "code",
      "source": [
        "if phrase_1 > phrase_2:\n",
        "  print ('Фраза 1 длиннее фразы 2')\n",
        "else:\n",
        "  print ('Фраза 2 длиннее фразы 1')"
      ],
      "metadata": {
        "colab": {
          "base_uri": "https://localhost:8080/"
        },
        "id": "ScgaWy-0da--",
        "outputId": "e01451fe-2622-4c58-c2b1-cd1fc8f25284"
      },
      "execution_count": 3,
      "outputs": [
        {
          "output_type": "stream",
          "name": "stdout",
          "text": [
            "Фраза 1 длиннее фразы 2\n"
          ]
        }
      ]
    },
    {
      "cell_type": "code",
      "source": [
        "year = int (input())\n",
        "if year % 4 == 0:\n",
        "  print ('високосный год')\n",
        "else:\n",
        "  print('невисокосный год')"
      ],
      "metadata": {
        "colab": {
          "base_uri": "https://localhost:8080/"
        },
        "id": "HhMe61mRd23V",
        "outputId": "74db77de-6a44-4b9b-a320-ec8f1b2fb059"
      },
      "execution_count": 4,
      "outputs": [
        {
          "output_type": "stream",
          "name": "stdout",
          "text": [
            "2020\n",
            "високосный год\n"
          ]
        }
      ]
    },
    {
      "cell_type": "code",
      "source": [
        "day = int (input ('Введите день рождения: '))\n",
        "month = str (input ('Введите месяц рождения: '))\n",
        "print ()\n",
        "print ('Ваш знак зодиака:')\n",
        "if day > 31:\n",
        "  print('некорректный ввод данных!!!')\n",
        "if month == 'январь':\n",
        "  if day <= 19 and day <= 31:\n",
        "    print('козерог')\n",
        "  elif day <= 31:\n",
        "      print('водолей')\n",
        "elif month == 'февраль':\n",
        "  if day <= 18 and day <= 31:\n",
        "    print('водолей')\n",
        "  elif day <= 31:\n",
        "      print('рыбы')\n",
        "elif month == 'март':\n",
        "  if day <= 20 and day <= 31:\n",
        "    print('рыбы')\n",
        "  elif day <= 31:\n",
        "      print('овен')\n",
        "elif month == 'апрель':\n",
        "  if day <= 21 and day < 31:\n",
        "    print('овен')\n",
        "  elif day <= 31:\n",
        "      print('телец')\n",
        "elif month == 'май':\n",
        "  if day <= 20 and day < 31:\n",
        "    print('телец')\n",
        "  elif day <= 31:\n",
        "      print('близнецы')\n",
        "elif month == 'июнь':\n",
        "  if day <= 20 and day < 31:\n",
        "    print('близнецы')\n",
        "  elif day <= 31:\n",
        "      print('рак')\n",
        "elif month == 'июль':\n",
        "  if day <= 22 and day < 31:\n",
        "    print('рак')\n",
        "  elif day <= 31:\n",
        "      print('лев')\n",
        "elif month == 'август':\n",
        "  if day <= 23 and day < 31:\n",
        "    print('лев')\n",
        "  elif day <= 31:\n",
        "      print('дева')\n",
        "elif month == 'сентябрь':\n",
        "  if day <= 23 and day < 31:\n",
        "    print('дева')\n",
        "  elif day <= 31:\n",
        "      print('весы')\n",
        "elif month == 'ноябрь':\n",
        "  if day <= 21 and day < 31:\n",
        "    print('козерог')\n",
        "  elif day <= 31:\n",
        "      print('стрелец')\n",
        "elif month == 'декабрь':\n",
        "  if day < 19 and day < 31:\n",
        "    print('стрелец')\n",
        "  elif day <= 31:\n",
        "      print('козерог')\n",
        "else:\n",
        "  print('неверно введены данные')"
      ],
      "metadata": {
        "colab": {
          "base_uri": "https://localhost:8080/"
        },
        "id": "q1_gDHNCimrd",
        "outputId": "3e628678-942f-493d-9c49-70e003d3783b"
      },
      "execution_count": 22,
      "outputs": [
        {
          "output_type": "stream",
          "name": "stdout",
          "text": [
            "Введите день рождения: 29\n",
            "Введите месяц рождения: ноябрь\n",
            "Ваш знак зодиака:\n",
            "стрелец\n"
          ]
        }
      ]
    },
    {
      "cell_type": "code",
      "source": [
        "ticket = int (input('Введите номер билета: '))\n",
        "tick1 = ticket // 1000\n",
        "tick2 = ticket % 1000\n",
        "\n",
        "count = 0\n",
        "for i in str(tick1):\n",
        "  count += int(i)\n",
        "\n",
        "\n",
        "count2 = 0\n",
        "for j in str(tick2):\n",
        "  count2 += int(j)\n",
        "\n",
        "if count == count2:\n",
        "   print('Ваш билет счастливый!')\n",
        "else:\n",
        "  print ('Ваш билет не счастливый')\n"
      ],
      "metadata": {
        "colab": {
          "base_uri": "https://localhost:8080/"
        },
        "id": "iFPPfaS4pkOs",
        "outputId": "6ef5a840-5e6b-4177-a02a-0aba6ed24175"
      },
      "execution_count": 38,
      "outputs": [
        {
          "output_type": "stream",
          "name": "stdout",
          "text": [
            "345633\n",
            "12\n",
            "12\n",
            "Ваш билет счастливый!\n"
          ]
        }
      ]
    },
    {
      "cell_type": "code",
      "source": [
        "fig = str (input ('Введите название фигуры (круг, теугольник или прямоугольник): '))\n",
        "\n",
        "if fig == 'круг':\n",
        "  r = int (input ('Введите радиус круга: '))\n",
        "  S = 3.14*r**2\n",
        "  print(S)  \n",
        "elif fig == 'треугольник':\n",
        "  a = int(input('Введите сторону a: '))\n",
        "  b = int(input('Введите сторону b: '))\n",
        "  c = int(input('Введите сторону c: '))\n",
        "  p = (a+b+c)/2\n",
        "  S = ((p-a)*(p-b)*(p-c))**(0.5)\n",
        "  print(S)  \n",
        "elif fig == 'прямоугольник':\n",
        "  a = int(input('Введите сторону a: '))\n",
        "  b = int(input('Введите сторону b: '))\n",
        "  S = a*b\n",
        "  print(S)  \n",
        "else ('неправильно введены данные!')\n"
      ],
      "metadata": {
        "colab": {
          "base_uri": "https://localhost:8080/"
        },
        "id": "HZEVh6Fpr21H",
        "outputId": "ec124dcc-c28f-4d54-b545-8b56ab7b0d12"
      },
      "execution_count": 51,
      "outputs": [
        {
          "output_type": "stream",
          "name": "stdout",
          "text": [
            "Введите название фигуры (круг, теугольник или прямоугольник): треугольник\n",
            "Введите сторону a: 4\n",
            "Введите сторону b: 5\n",
            "Введите сторону c: 3\n",
            "2.449489742783178\n"
          ]
        }
      ]
    }
  ]
}