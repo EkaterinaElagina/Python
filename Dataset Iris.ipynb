{
 "cells": [
  {
   "cell_type": "code",
   "execution_count": 1,
   "metadata": {
    "id": "AaT2G9AUS6IN"
   },
   "outputs": [],
   "source": [
    "import matplotlib.pyplot as plt \n",
    "import numpy as np \n",
    "import seaborn as sns \n",
    "import pandas as pd "
   ]
  }, 
  {
   "cell_type": "code",
   "execution_count": 2,
   "metadata": {
    "id": "SwhvinejSXbs"
   },
   "outputs": [
    {
     "name": "stdout",
     "output_type": "stream",
     "text": [
      "[[5.1 3.5 1.4 0.2]\n",
      " [4.9 3.  1.4 0.2]\n",
      " [4.7 3.2 1.3 0.2]\n",
      " [4.6 3.1 1.5 0.2]\n",
      " [5.  3.6 1.4 0.2]\n",
      " [5.4 3.9 1.7 0.4]\n",
      " [4.6 3.4 1.4 0.3]\n",
      " [5.  3.4 1.5 0.2]\n",
      " [4.4 2.9 1.4 0.2]\n",
      " [4.9 3.1 1.5 0.1]\n",
      " [5.4 3.7 1.5 0.2]\n",
      " [4.8 3.4 1.6 0.2]\n",
      " [4.8 3.  1.4 0.1]\n",
      " [4.3 3.  1.1 0.1]\n",
      " [5.8 4.  1.2 0.2]\n",
      " [5.7 4.4 1.5 0.4]\n",
      " [5.4 3.9 1.3 0.4]\n",
      " [5.1 3.5 1.4 0.3]\n",
      " [5.7 3.8 1.7 0.3]\n",
      " [5.1 3.8 1.5 0.3]\n",
      " [5.4 3.4 1.7 0.2]\n",
      " [5.1 3.7 1.5 0.4]\n",
      " [4.6 3.6 1.  0.2]\n",
      " [5.1 3.3 1.7 0.5]\n",
      " [4.8 3.4 1.9 0.2]\n",
      " [5.  3.  1.6 0.2]\n",
      " [5.  3.4 1.6 0.4]\n",
      " [5.2 3.5 1.5 0.2]\n",
      " [5.2 3.4 1.4 0.2]\n",
      " [4.7 3.2 1.6 0.2]\n",
      " [4.8 3.1 1.6 0.2]\n",
      " [5.4 3.4 1.5 0.4]\n",
      " [5.2 4.1 1.5 0.1]\n",
      " [5.5 4.2 1.4 0.2]\n",
      " [4.9 3.1 1.5 0.2]\n",
      " [5.  3.2 1.2 0.2]\n",
      " [5.5 3.5 1.3 0.2]\n",
      " [4.9 3.6 1.4 0.1]\n",
      " [4.4 3.  1.3 0.2]\n",
      " [5.1 3.4 1.5 0.2]\n",
      " [5.  3.5 1.3 0.3]\n",
      " [4.5 2.3 1.3 0.3]\n",
      " [4.4 3.2 1.3 0.2]\n",
      " [5.  3.5 1.6 0.6]\n",
      " [5.1 3.8 1.9 0.4]\n",
      " [4.8 3.  1.4 0.3]\n",
      " [5.1 3.8 1.6 0.2]\n",
      " [4.6 3.2 1.4 0.2]\n",
      " [5.3 3.7 1.5 0.2]\n",
      " [5.  3.3 1.4 0.2]\n",
      " [7.  3.2 4.7 1.4]\n",
      " [6.4 3.2 4.5 1.5]\n",
      " [6.9 3.1 4.9 1.5]\n",
      " [5.5 2.3 4.  1.3]\n",
      " [6.5 2.8 4.6 1.5]\n",
      " [5.7 2.8 4.5 1.3]\n",
      " [6.3 3.3 4.7 1.6]\n",
      " [4.9 2.4 3.3 1. ]\n",
      " [6.6 2.9 4.6 1.3]\n",
      " [5.2 2.7 3.9 1.4]\n",
      " [5.  2.  3.5 1. ]\n",
      " [5.9 3.  4.2 1.5]\n",
      " [6.  2.2 4.  1. ]\n",
      " [6.1 2.9 4.7 1.4]\n",
      " [5.6 2.9 3.6 1.3]\n",
      " [6.7 3.1 4.4 1.4]\n",
      " [5.6 3.  4.5 1.5]\n",
      " [5.8 2.7 4.1 1. ]\n",
      " [6.2 2.2 4.5 1.5]\n",
      " [5.6 2.5 3.9 1.1]\n",
      " [5.9 3.2 4.8 1.8]\n",
      " [6.1 2.8 4.  1.3]\n",
      " [6.3 2.5 4.9 1.5]\n",
      " [6.1 2.8 4.7 1.2]\n",
      " [6.4 2.9 4.3 1.3]\n",
      " [6.6 3.  4.4 1.4]\n",
      " [6.8 2.8 4.8 1.4]\n",
      " [6.7 3.  5.  1.7]\n",
      " [6.  2.9 4.5 1.5]\n",
      " [5.7 2.6 3.5 1. ]\n",
      " [5.5 2.4 3.8 1.1]\n",
      " [5.5 2.4 3.7 1. ]\n",
      " [5.8 2.7 3.9 1.2]\n",
      " [6.  2.7 5.1 1.6]\n",
      " [5.4 3.  4.5 1.5]\n",
      " [6.  3.4 4.5 1.6]\n",
      " [6.7 3.1 4.7 1.5]\n",
      " [6.3 2.3 4.4 1.3]\n",
      " [5.6 3.  4.1 1.3]\n",
      " [5.5 2.5 4.  1.3]\n",
      " [5.5 2.6 4.4 1.2]\n",
      " [6.1 3.  4.6 1.4]\n",
      " [5.8 2.6 4.  1.2]\n",
      " [5.  2.3 3.3 1. ]\n",
      " [5.6 2.7 4.2 1.3]\n",
      " [5.7 3.  4.2 1.2]\n",
      " [5.7 2.9 4.2 1.3]\n",
      " [6.2 2.9 4.3 1.3]\n",
      " [5.1 2.5 3.  1.1]\n",
      " [5.7 2.8 4.1 1.3]\n",
      " [6.3 3.3 6.  2.5]\n",
      " [5.8 2.7 5.1 1.9]\n",
      " [7.1 3.  5.9 2.1]\n",
      " [6.3 2.9 5.6 1.8]\n",
      " [6.5 3.  5.8 2.2]\n",
      " [7.6 3.  6.6 2.1]\n",
      " [4.9 2.5 4.5 1.7]\n",
      " [7.3 2.9 6.3 1.8]\n",
      " [6.7 2.5 5.8 1.8]\n",
      " [7.2 3.6 6.1 2.5]\n",
      " [6.5 3.2 5.1 2. ]\n",
      " [6.4 2.7 5.3 1.9]\n",
      " [6.8 3.  5.5 2.1]\n",
      " [5.7 2.5 5.  2. ]\n",
      " [5.8 2.8 5.1 2.4]\n",
      " [6.4 3.2 5.3 2.3]\n",
      " [6.5 3.  5.5 1.8]\n",
      " [7.7 3.8 6.7 2.2]\n",
      " [7.7 2.6 6.9 2.3]\n",
      " [6.  2.2 5.  1.5]\n",
      " [6.9 3.2 5.7 2.3]\n",
      " [5.6 2.8 4.9 2. ]\n",
      " [7.7 2.8 6.7 2. ]\n",
      " [6.3 2.7 4.9 1.8]\n",
      " [6.7 3.3 5.7 2.1]\n",
      " [7.2 3.2 6.  1.8]\n",
      " [6.2 2.8 4.8 1.8]\n",
      " [6.1 3.  4.9 1.8]\n",
      " [6.4 2.8 5.6 2.1]\n",
      " [7.2 3.  5.8 1.6]\n",
      " [7.4 2.8 6.1 1.9]\n",
      " [7.9 3.8 6.4 2. ]\n",
      " [6.4 2.8 5.6 2.2]\n",
      " [6.3 2.8 5.1 1.5]\n",
      " [6.1 2.6 5.6 1.4]\n",
      " [7.7 3.  6.1 2.3]\n",
      " [6.3 3.4 5.6 2.4]\n",
      " [6.4 3.1 5.5 1.8]\n",
      " [6.  3.  4.8 1.8]\n",
      " [6.9 3.1 5.4 2.1]\n",
      " [6.7 3.1 5.6 2.4]\n",
      " [6.9 3.1 5.1 2.3]\n",
      " [5.8 2.7 5.1 1.9]\n",
      " [6.8 3.2 5.9 2.3]\n",
      " [6.7 3.3 5.7 2.5]\n",
      " [6.7 3.  5.2 2.3]\n",
      " [6.3 2.5 5.  1.9]\n",
      " [6.5 3.  5.2 2. ]\n",
      " [6.2 3.4 5.4 2.3]\n",
      " [5.9 3.  5.1 1.8]]\n",
      "[0 0 0 0 0 0 0 0 0 0 0 0 0 0 0 0 0 0 0 0 0 0 0 0 0 0 0 0 0 0 0 0 0 0 0 0 0\n",
      " 0 0 0 0 0 0 0 0 0 0 0 0 0 1 1 1 1 1 1 1 1 1 1 1 1 1 1 1 1 1 1 1 1 1 1 1 1\n",
      " 1 1 1 1 1 1 1 1 1 1 1 1 1 1 1 1 1 1 1 1 1 1 1 1 1 1 2 2 2 2 2 2 2 2 2 2 2\n",
      " 2 2 2 2 2 2 2 2 2 2 2 2 2 2 2 2 2 2 2 2 2 2 2 2 2 2 2 2 2 2 2 2 2 2 2 2 2\n",
      " 2 2]\n",
      "['setosa' 'versicolor' 'virginica']\n"
     ]
    }
   ],
   "source": [
    "#Выведите гистограммы признаков \n",
    "\n",
    "from sklearn import datasets\n",
    "data = datasets.load_iris(return_X_y=False)\n",
    "X = data.data\n",
    "y = data.target\n",
    "names = data.target_names\n",
    "print(X)\n",
    "print(y)\n",
    "print(names)"
   ]
  },
  {
   "cell_type": "code",
   "execution_count": 4,
   "metadata": {},
   "outputs": [
    {
     "data": {
      "text/plain": [
       "array(['setosa', 'versicolor', 'virginica'], dtype='<U10')"
      ]
     },
     "execution_count": 4,
     "metadata": {},
     "output_type": "execute_result"
    }
   ],
   "source": [
    "names"
   ]
  },
  {
   "cell_type": "code",
   "execution_count": 12,
   "metadata": {},
   "outputs": [
    {
     "data": {
      "text/plain": [
       "['sepal length (cm)',\n",
       " 'sepal width (cm)',\n",
       " 'petal length (cm)',\n",
       " 'petal width (cm)']"
      ]
     },
     "execution_count": 12,
     "metadata": {},
     "output_type": "execute_result"
    }
   ],
   "source": [
    "data.feature_names"
   ]
  },
  {
   "cell_type": "code",
   "execution_count": 5,
   "metadata": {
    "colab": {
     "base_uri": "https://localhost:8080/",
     "height": 295
    },
    "id": "8dJkUT2ESXi4",
    "outputId": "cc8062d2-33e0-4c7a-8d17-6d8c5d86b8a5"
   },
   "outputs": [
    {
     "data": {
      "image/png": "[encoded data removed]",
      "text/plain": [
       "<Figure size 432x288 with 1 Axes>"
      ]
     },
     "metadata": {
      "needs_background": "light"
     },
     "output_type": "display_data"
    }
   ],
   "source": [
    "#Постройте гистограмму первого признака (sepal length)\n",
    "\n",
    "plt.hist(X[:50,0])\n",
    "plt.hist(X[50:100,0],alpha=0.3) #alpha - коэффициент прозрачности\n",
    "plt.hist(X[100:150,0],alpha=0.3)\n",
    "\n",
    "plt.title('Первый признак')\n",
    "\n",
    "plt.xlabel('Длина чашелистника')\n",
    "\n",
    "plt.ylabel('количество экземпляров')\n",
    "\n",
    "plt.legend(names)\n",
    "plt.show()"
   ]
  },
  {
   "cell_type": "code",
   "execution_count": 21,
   "metadata": {
    "colab": {
     "base_uri": "https://localhost:8080/",
     "height": 295
    },
    "id": "7o1is8H1SXpp",
    "outputId": "90c96b00-0c19-4728-fb1c-09e7a7e79fca"
   },
   "outputs": [
    {
     "data": {
      "image/png": "[encoded data removed]",
      "text/plain": [
       "<Figure size 432x288 with 1 Axes>"
      ]
     },
     "metadata": {
      "needs_background": "light"
     },
     "output_type": "display_data"
    }
   ],
   "source": [
    "#Постройте гистограмму первого признака (sepal width)\n",
    "\n",
    "plt.hist(X[:50,1])\n",
    "plt.hist(X[50:100,1],alpha=0.5)\n",
    "plt.hist(X[100:150,1],alpha=0.5)\n",
    "\n",
    "\n",
    "plt.title('Гистограмма второго признака')\n",
    "\n",
    "plt.xlabel('Ширина чашелистика')\n",
    "\n",
    "plt.ylabel('количество экземпляров')\n",
    "\n",
    "plt.legend(names)\n",
    "plt.show()"
   ]
  },
  {
   "cell_type": "code",
   "execution_count": 88,
   "metadata": {
    "id": "LpUj2xqOskg4"
   },
   "outputs": [],
   "source": [
    "#Постройте гистограмму (hist) для плотности вероятности"
   ]
  },
  {
   "cell_type": "markdown",
   "metadata": {
    "id": "ab_B5KRat7ZQ"
   },
   "source": [
    "![image.png](data:image/png;base64,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)"
   ]
  },
  {
   "cell_type": "code",
   "execution_count": 6,
   "metadata": {
    "id": "j1e3c9pMSXy_"
   },
   "outputs": [],
   "source": [
    "#Создайте список из 1000 случайных чисел.\n",
    "#mu = 4\n",
    "#СКО = 6\n",
    "\n",
    "sp1 = np.random.normal(4,6,1000)"
   ]
  },
  {
   "cell_type": "code",
   "execution_count": 7,
   "metadata": {},
   "outputs": [
    {
     "data": {
      "text/plain": [
       "array([ 5.07127112e+00, -4.72349341e+00,  1.35599127e+01,  2.19094818e+00,\n",
       "        1.13062367e+01,  4.18421790e+00,  8.10811054e-01,  8.75101134e+00,\n",
       "        2.72220387e-01,  9.16423971e+00,  6.59543468e-01, -1.56103358e+00,\n",
       "        9.48140428e+00,  1.46611876e+01, -1.25639035e+00,  4.36090798e+00,\n",
       "       -2.76787908e+00, -1.23817196e+00,  1.99289257e+00, -1.64989999e+00,\n",
       "       -1.79378600e+00,  1.29066646e+01,  4.81503766e-01,  4.07118216e+00,\n",
       "        9.00771535e+00,  2.68655927e+00,  2.95563338e-01,  1.72050815e+00,\n",
       "       -4.03149010e+00,  9.39808624e+00,  7.46230811e+00, -5.47381849e+00,\n",
       "        7.75341874e+00,  8.29172980e+00,  2.29194806e+00, -5.43828963e+00,\n",
       "        9.90291448e+00,  2.49996567e+00,  1.19025386e+01,  1.46553908e-01,\n",
       "        2.44484956e+00,  3.50416480e+00,  4.49361359e+00,  3.06885341e+00,\n",
       "       -3.94887896e+00, -2.04636609e+00,  9.07593678e+00,  3.90107636e+00,\n",
       "        1.91349550e+00,  1.04715435e+00,  1.60453415e+01, -9.83132202e-01,\n",
       "        4.82220935e+00,  6.19857982e+00,  7.24561721e+00,  8.24119278e+00,\n",
       "        8.73211444e+00,  2.54350684e+00,  7.00235386e+00, -8.27862311e+00,\n",
       "        2.20850625e+00,  4.62387186e+00,  5.82688463e+00, -8.13063675e+00,\n",
       "        6.59703638e+00, -2.74870674e+00, -6.49091406e+00, -6.43960647e-01,\n",
       "        1.34958568e+01,  1.21728886e+01,  5.86848561e+00,  4.38290397e+00,\n",
       "        3.20628593e-01,  5.28736204e+00,  1.44776046e+01,  6.79958630e+00,\n",
       "        5.39480607e+00,  7.18039247e+00,  7.36984404e+00,  2.62250726e+00,\n",
       "        1.01502652e+01,  7.94198859e+00, -2.77186036e+00,  2.73024580e+00,\n",
       "        1.27211141e+01,  7.55495434e-01, -4.91497554e-01, -6.53089566e+00,\n",
       "        4.08924785e+00,  4.75889472e+00,  4.46706656e+00, -1.29905851e+00,\n",
       "        5.75048726e+00,  1.52099777e+00, -1.53812887e+00,  4.44347305e+00,\n",
       "        8.94926758e-01,  5.75519141e+00,  3.24510958e+00,  8.88880956e+00,\n",
       "        5.53428334e+00, -2.25669339e+00,  3.74679716e+00,  8.34930093e-01,\n",
       "        7.78499668e-01,  1.32711446e+01, -9.50398430e-02,  5.64021756e-01,\n",
       "        4.42403395e+00,  6.16032566e+00,  1.26368371e+01,  1.03619225e+01,\n",
       "        5.28221568e+00, -5.59474373e-01, -4.93734323e+00,  6.20035693e+00,\n",
       "       -2.57185729e+00,  8.06161876e+00, -3.57047915e+00,  1.30929977e+01,\n",
       "        3.70997200e-01,  3.74565743e-01,  7.97615331e+00,  1.72927661e+01,\n",
       "        3.74935685e+00,  1.18998185e+01,  6.09925168e+00,  9.76559394e+00,\n",
       "       -6.56919146e+00, -9.28842810e-02,  5.22091062e-02,  9.21346156e+00,\n",
       "        6.14173268e+00,  1.44790610e+01,  2.01126206e+00, -2.34000755e+00,\n",
       "        8.40312361e+00,  2.30992831e+00,  3.33045522e+00, -1.75880747e+00,\n",
       "        3.99463627e+00,  1.29804997e+01,  8.06210637e-01, -2.77184243e+00,\n",
       "        9.10718693e+00, -3.50930526e+00, -1.55343107e+00, -8.33090455e+00,\n",
       "        3.78247650e+00, -1.31881649e+00,  5.98330181e+00,  1.22276083e+01,\n",
       "        6.28573477e+00,  9.59512988e+00,  1.09398623e+00,  1.02940720e+01,\n",
       "        6.24953984e+00,  3.58420086e+00, -1.12401712e+01,  1.00255752e+01,\n",
       "       -2.28364389e+00, -6.67605466e+00,  1.05242775e+01,  5.90956257e-01,\n",
       "        3.57400117e+00,  4.26043290e+00,  8.12085697e+00,  1.71239076e+01,\n",
       "       -2.14814526e+00,  8.16912830e-01,  1.00308339e+01,  1.19014907e+01,\n",
       "        3.79795835e+00,  1.03960400e+01,  1.61309430e+00, -5.59992904e+00,\n",
       "        3.54827743e+00, -1.43846021e+00, -3.36869933e+00,  1.12782764e+01,\n",
       "       -2.14480540e+00,  1.28447756e+01,  8.15012813e+00,  1.17429989e+01,\n",
       "        1.93311663e+00,  1.68907668e+00, -8.56861489e-01,  2.40620483e+00,\n",
       "        1.42154528e+01,  6.77499371e+00,  1.02806066e+00, -2.10851608e-01,\n",
       "       -2.28244385e+00, -5.45060813e+00,  9.64621300e+00,  2.46954275e+00,\n",
       "        1.12866744e+00,  8.69069421e+00, -3.23596268e-01,  6.53242321e+00,\n",
       "        1.02019692e+01, -6.73457900e+00, -7.00430131e+00,  4.95620696e+00,\n",
       "        4.49429310e+00,  3.70271055e+00,  1.11480869e+01,  5.15262835e+00,\n",
       "       -1.18615073e+00, -2.20954979e+00,  8.64236125e-01,  5.55334596e+00,\n",
       "        1.32668969e+01,  7.85273119e-01,  2.44978977e+00, -3.39165463e+00,\n",
       "        5.18037423e+00, -8.49699856e-01,  8.27060243e+00,  1.21180836e+01,\n",
       "        2.58971124e+00,  7.04773268e+00,  1.19044910e+01,  8.46626118e+00,\n",
       "        2.92246789e+00, -7.95237315e+00,  1.27471132e+01,  1.07369901e+01,\n",
       "       -5.58824035e+00,  1.49061188e+00, -1.54519623e+00,  1.50898283e+01,\n",
       "        2.53080294e+00,  8.06556291e+00,  8.47331311e+00,  1.14115005e+01,\n",
       "        8.15112279e+00,  1.11911552e+01,  3.77228006e+00, -3.43985923e+00,\n",
       "        3.20164234e+00, -3.55354964e+00,  5.94849029e+00,  2.22091993e+00,\n",
       "        6.21771294e+00,  1.07045729e+01, -2.72061067e+00, -1.82128921e+00,\n",
       "        3.43488790e+00,  6.00634809e+00,  3.68106588e+00,  1.12218776e+01,\n",
       "        9.03622072e+00, -1.31945222e+00,  8.88845951e+00,  1.09058737e+01,\n",
       "        3.30621577e+00,  6.71627585e+00, -3.91181106e+00,  9.09672379e+00,\n",
       "       -3.44298660e+00,  2.90059480e+00,  6.93345961e+00,  4.84306647e+00,\n",
       "        2.84707522e+00,  4.50351234e+00,  3.67992834e+00,  1.17122065e+01,\n",
       "        6.28143054e+00,  5.86714965e+00,  8.47849651e+00,  1.53015457e+01,\n",
       "        1.44085177e+01,  3.69436182e+00,  6.02164126e+00,  6.92129405e+00,\n",
       "        9.05550976e+00,  1.84498177e+00,  6.78172733e+00,  9.86276742e+00,\n",
       "        1.27140327e+01,  1.50430136e+00,  1.03932975e+01,  4.60791428e+00,\n",
       "        1.27637765e+01,  9.14594457e+00,  1.25568842e+01, -1.31931545e+00,\n",
       "        1.31122292e+00,  1.21010730e+01,  1.30977065e+00,  7.54686839e+00,\n",
       "        1.21262357e+01, -7.50861608e+00,  3.75909906e+00, -1.06356623e+00,\n",
       "       -6.02727987e+00, -4.38515320e+00,  9.94266789e+00, -3.26732358e+00,\n",
       "        2.39949626e+00,  1.29685464e+01, -4.27584295e-02, -9.53174879e+00,\n",
       "       -4.56877114e-02, -2.50592509e+00,  3.45372563e+00,  3.29061130e+00,\n",
       "        4.21964147e+00,  1.55422109e+00,  9.78811732e-01,  3.86835890e+00,\n",
       "       -3.19201543e-01,  1.30050510e+01,  6.09871389e+00,  1.03535450e+01,\n",
       "       -1.72524244e+00, -3.10003207e-01, -3.02772327e+00,  3.41160776e+00,\n",
       "        2.86959518e-01,  1.44758788e-01,  1.23814061e+01, -5.54600330e+00,\n",
       "        8.34536958e+00, -3.75714344e+00, -4.76429910e-01,  3.48518558e+00,\n",
       "        6.35003704e-01,  1.05715082e+01,  3.42936981e+00,  1.22897327e+01,\n",
       "        6.11141173e+00,  1.88255498e+01,  9.19942127e+00, -4.06022149e+00,\n",
       "       -2.57023341e-01,  5.13811787e+00,  2.02248211e+00,  1.06835171e+01,\n",
       "        9.60765111e+00,  3.00329932e+00,  4.39453915e+00,  7.18253167e+00,\n",
       "        2.58162924e+00, -1.35061481e+00, -2.42969348e+00,  2.76225829e-01,\n",
       "        8.19749061e+00,  8.07845067e+00,  3.01067244e+00,  5.58984722e+00,\n",
       "        1.29069768e+00,  3.67552770e+00,  5.10310519e-01, -6.55578425e+00,\n",
       "        9.01870418e+00,  5.14104305e+00,  1.07766843e+01,  3.95804141e-02,\n",
       "        4.26888621e+00, -5.84069031e+00, -1.31400442e+01,  3.57732063e+00,\n",
       "       -4.95444483e+00,  4.07288795e+00,  5.80133611e+00,  3.30966069e+00,\n",
       "        4.19707299e+00,  6.88690024e+00,  3.84803872e+00, -8.90398814e-01,\n",
       "       -3.41781517e+00,  9.00781734e+00,  1.01615859e+00,  6.40520662e+00,\n",
       "        1.53038520e+01,  1.45528982e+01,  6.87702774e+00,  7.69955917e+00,\n",
       "        1.10765201e+01,  1.92725620e+00,  7.92411391e-01,  7.44540445e+00,\n",
       "        6.02571045e+00,  2.72741934e+00,  1.72456923e+00, -9.82382102e+00,\n",
       "       -1.64784590e+00,  7.59091122e+00, -3.29476910e+00,  1.06861582e+00,\n",
       "        4.77294410e+00,  6.70958562e+00,  7.06764662e+00, -1.86083860e+00,\n",
       "        6.71846826e+00,  2.54200278e+00,  1.23392531e+01,  2.96915184e+00,\n",
       "       -6.78788252e+00,  1.98494606e+00,  7.64782601e+00,  1.09800323e+00,\n",
       "        3.65510092e+00, -3.19937525e+00,  6.92054838e+00,  4.99163093e+00,\n",
       "        3.68740014e+00,  1.79170377e-01, -6.45023872e+00, -1.68960894e+00,\n",
       "        5.18608840e+00,  3.85684290e+00,  2.29452007e+00, -1.12633361e+01,\n",
       "       -7.89950066e+00,  2.11562144e+00,  4.56944571e+00,  3.71147524e-01,\n",
       "        4.43061724e+00, -1.33878086e+00,  1.21086984e-01, -2.18053063e+00,\n",
       "       -6.56644504e+00,  1.01104048e+01,  1.29559197e+01,  2.22016229e+01,\n",
       "        5.40347788e-01,  1.82740075e+00, -2.83527860e+00,  2.71313561e-01,\n",
       "        5.06671913e+00,  9.47428812e-01, -1.48050675e+00, -4.75234626e-01,\n",
       "        1.34222365e+01,  3.83132804e+00,  3.50012531e+00,  1.30020334e+01,\n",
       "        5.32660423e+00,  3.38329444e+00,  4.95169481e+00,  2.38548911e+00,\n",
       "       -9.79104160e-02,  9.27910053e+00, -2.65059096e+00,  7.34065028e+00,\n",
       "        3.03266062e+00,  1.31215516e+01,  1.08280699e+01, -1.01767874e+00,\n",
       "       -6.14263260e+00,  9.39642243e+00,  1.81732407e+01,  1.05406148e+01,\n",
       "        7.27477209e+00, -4.66879712e+00,  3.42581473e+00,  6.71286387e+00,\n",
       "       -2.30673402e+00,  4.66908463e+00,  3.02586869e+00, -6.03907059e+00,\n",
       "        1.05844947e+01,  6.11393939e+00,  1.39501445e+01,  7.21726320e-01,\n",
       "        3.68968156e+00,  9.75042196e+00, -4.33424884e+00,  1.10021802e-01,\n",
       "        1.55382631e+00,  3.13061629e+00,  5.86285377e+00, -1.43201323e+00,\n",
       "        2.46849429e+00,  1.02921297e+01,  9.49640383e+00,  4.01495918e+00,\n",
       "        1.44743523e+01,  1.29568506e+01, -2.36003142e+00,  7.76904887e+00,\n",
       "        5.21324971e+00, -5.78621614e+00, -9.24395305e-02, -2.30234513e+00,\n",
       "        3.96261358e+00,  7.23861180e+00,  5.10851478e+00, -3.17526143e+00,\n",
       "       -1.01655873e+00,  1.17337826e+01,  1.01212483e+01,  9.77825430e-01,\n",
       "        8.89585410e+00,  1.00247624e+01, -5.22609631e-01,  6.12305855e+00,\n",
       "        7.84005797e+00,  4.52573346e+00,  3.86366213e+00,  1.71940334e+00,\n",
       "        1.83930081e+01,  7.33330134e+00, -3.95696989e+00,  5.87363163e+00,\n",
       "        6.46805527e+00, -9.63177360e-01,  7.98868586e+00,  1.19334243e+01,\n",
       "        1.90414942e+00,  6.63017284e+00,  4.39253076e+00, -6.93184407e-01,\n",
       "        3.49280137e+00,  7.11164288e+00,  5.40721064e+00, -2.25440059e+00,\n",
       "        1.98314146e+00,  9.03095664e-01, -1.58103811e+00,  9.65409230e+00,\n",
       "       -1.19044971e+00,  6.42684894e+00,  4.30206125e+00,  4.51555061e-01,\n",
       "        1.39960025e+01,  7.25910831e+00,  5.76344012e+00, -1.01495141e-01,\n",
       "        1.43757527e+01,  2.63567483e+00, -1.26117711e+00,  7.32065007e+00,\n",
       "        3.73969465e+00,  9.36845899e+00,  1.16285738e+01,  5.32609458e+00,\n",
       "        7.93026180e-01,  1.03778357e+01,  3.62772334e+00,  1.53110983e+00,\n",
       "        1.10860486e+00,  6.84166788e+00,  1.05382998e+01,  6.21800153e+00,\n",
       "        6.27991616e+00,  1.66688482e-01, -3.70640640e+00,  1.42139674e+01,\n",
       "        6.79172036e+00,  7.55418574e+00,  9.91576375e+00, -4.64577521e-01,\n",
       "        9.26563166e+00,  5.33581542e+00,  2.76204612e+00,  7.11061677e+00,\n",
       "       -4.19559480e+00, -1.73686398e+00,  5.21834143e+00,  8.02677059e+00,\n",
       "        4.69114987e+00, -8.73658966e+00,  7.21918227e+00,  7.56527638e+00,\n",
       "        7.65728094e+00, -2.83696522e+00, -1.66895226e+00,  1.11386622e+01,\n",
       "        7.68122224e+00,  6.18116107e+00, -3.64640712e+00,  1.60467549e+01,\n",
       "        5.85996209e+00,  1.71665094e+01, -2.11980469e+00,  1.78807345e+00,\n",
       "        1.16782025e+00,  4.91747913e+00,  6.82198078e-01,  1.18615635e+00,\n",
       "        4.32773348e+00,  1.37480147e+01,  2.30356168e+00, -8.08795559e-01,\n",
       "       -6.26250780e+00,  1.02147102e+00,  1.14989371e+01,  9.54404124e-01,\n",
       "        7.35322219e+00, -1.78554227e+00,  9.01129667e+00,  1.51055412e+01,\n",
       "        1.15385464e+01,  2.32743819e+00,  6.99570257e-01,  7.54456051e+00,\n",
       "       -5.63945292e+00,  3.59768452e+00,  1.10071128e+01, -5.05325598e+00,\n",
       "        1.13699770e+01,  3.15044941e+00,  8.80114678e+00,  1.63417875e+01,\n",
       "        4.56901704e-01,  5.82013722e+00,  1.27663547e+01,  1.44102828e+01,\n",
       "        9.62531980e+00, -4.13337348e+00, -4.94692465e+00,  9.71880085e-01,\n",
       "        1.34247822e+01, -2.03902249e+00, -5.90091616e+00,  1.16429654e+01,\n",
       "       -7.34311894e+00, -4.67775729e+00,  7.16376139e+00,  3.44582081e+00,\n",
       "        6.33474204e+00,  1.05680127e+01,  2.33837645e-01,  1.17199713e+00,\n",
       "        2.23309285e+00,  1.38018016e+01,  8.86918654e+00,  7.57449453e+00,\n",
       "        9.31028174e+00,  7.34753653e+00,  1.32903747e+01, -1.11441016e+00,\n",
       "       -1.70122570e+00,  5.19315642e+00,  3.17635906e+00,  7.31305658e+00,\n",
       "        6.35433079e+00,  1.74155366e+00, -4.16685626e+00,  1.93965401e+00,\n",
       "        4.87505154e+00,  3.16669163e+00,  4.19405157e+00, -5.47297499e-01,\n",
       "        6.63564582e+00, -3.45318460e+00, -5.39880770e+00,  7.06520666e+00,\n",
       "        2.02435448e+01, -4.64503815e+00,  8.84848985e+00,  1.03883089e+01,\n",
       "       -4.71637767e+00,  5.93733298e+00,  8.14578368e-01,  1.07152585e+01,\n",
       "        7.92677239e+00, -7.55558907e-01,  8.93771632e+00,  9.96157958e+00,\n",
       "        9.63529397e-01,  1.03333165e+01,  1.52433569e+00, -7.49133558e+00,\n",
       "       -1.35898189e+01,  7.37456033e+00,  7.65463657e+00,  6.78313946e+00,\n",
       "       -1.01862983e+01,  3.62239376e+00, -2.68360239e+00, -4.57324324e+00,\n",
       "       -3.91197208e-01,  8.69176305e+00,  3.49964833e+00,  5.30424589e+00,\n",
       "        5.40612417e+00, -2.78268677e-01, -1.41751069e+00,  3.64238672e+00,\n",
       "       -1.76791092e+00,  2.29647575e+00,  8.61143884e+00,  1.09193349e+01,\n",
       "        3.87030278e+00,  4.09376391e+00, -3.50128080e+00,  1.01982446e+01,\n",
       "       -2.71144794e+00,  1.46915352e+01,  8.43200814e+00,  7.23935719e+00,\n",
       "        1.28790828e-01,  5.49065691e+00,  3.10695447e+00,  3.40144062e+00,\n",
       "        7.85337752e+00,  1.76217494e+01,  1.05003199e+01,  6.70381015e+00,\n",
       "        9.66096261e+00, -5.72515422e+00,  1.67115881e+00, -5.21514703e+00,\n",
       "        1.19389008e+01,  3.07318732e+00,  6.29026768e+00,  8.60438905e+00,\n",
       "       -1.49810399e+00,  1.35512146e+01,  4.91585773e+00,  1.58010620e+01,\n",
       "        8.20269898e+00, -6.66551725e-01,  7.37176621e+00,  2.77232352e+00,\n",
       "        1.43212368e+01,  1.17104151e+01,  9.66833531e+00,  2.93715008e+00,\n",
       "        3.49961110e-01, -1.90005337e-01, -1.54662622e+00, -3.05168193e+00,\n",
       "       -6.34746234e+00, -2.86599131e+00,  9.49609557e+00,  6.24017388e+00,\n",
       "       -6.50283850e+00, -1.79137749e+00,  9.77572039e+00,  1.20673756e+01,\n",
       "       -2.22739395e+00,  3.85300669e+00, -9.03044432e-01,  1.40399428e+00,\n",
       "       -3.51049824e+00,  4.71797407e+00, -1.33076273e-01,  9.66972049e+00,\n",
       "       -4.27334728e+00,  5.78159121e-01,  8.41487034e+00,  3.20401636e+00,\n",
       "        5.25325435e+00,  9.45402624e+00,  2.10066527e+00,  8.07503512e+00,\n",
       "        5.12538009e+00,  1.06712150e+01,  1.59780794e+01,  8.06130573e+00,\n",
       "        2.16412921e+00,  8.50749727e+00,  6.19498561e+00,  2.00843120e+01,\n",
       "       -2.94728171e+00,  5.75128221e+00,  4.68218143e-01, -4.00605045e+00,\n",
       "        1.12858199e+01, -5.21809890e+00,  3.90781974e+00, -6.67397724e+00,\n",
       "        1.42705706e+00,  4.04526152e+00,  8.23490509e+00,  9.38333619e+00,\n",
       "        7.43416078e+00, -1.72384565e+00, -3.69807331e+00,  1.13589709e+00,\n",
       "        8.67930744e+00, -4.08629940e+00, -8.49948444e+00, -1.10219540e+00,\n",
       "        1.04075920e+01,  8.54053473e+00,  1.21884337e+01,  1.08226298e+01,\n",
       "        4.19290070e+00,  1.05189929e+01,  8.21130342e+00, -5.09808824e+00,\n",
       "        4.26261792e+00,  1.09275214e+01,  4.60391469e-01, -4.32770310e-01,\n",
       "        4.29824801e+00,  8.65319193e-01,  7.15890513e+00, -2.17346165e+00,\n",
       "       -9.64235289e+00,  6.18548991e+00,  2.65628385e+00,  3.38849669e+00,\n",
       "        2.64900097e+00,  3.75641415e+00,  1.69179905e+00,  7.85970053e+00,\n",
       "       -4.33864435e-01,  7.94461936e+00,  8.10298690e-01,  3.63465425e-01,\n",
       "        3.91870378e+00,  8.12245080e+00, -2.34710570e-01,  1.85784634e+01,\n",
       "        8.55792024e+00, -9.37473382e+00,  1.20250881e+01,  3.75355378e+00,\n",
       "        5.56109779e+00,  6.20184904e+00, -3.49058178e-01,  1.06865907e+01,\n",
       "        7.61577634e-01,  9.47682333e+00, -5.08886539e+00,  1.00498851e+01,\n",
       "        5.02658104e+00,  2.83037595e-01,  1.02028716e+01,  3.79684566e+00,\n",
       "       -6.91146324e-02, -2.32475224e+00,  8.36487090e+00, -1.63976455e-01,\n",
       "        6.36567323e+00,  4.65254841e+00, -4.09977631e+00,  1.12762731e+01,\n",
       "       -4.45402540e+00,  7.63631178e+00, -3.62948447e+00, -9.02653937e+00,\n",
       "        3.63571362e+00, -3.37020373e+00,  9.08332809e+00,  4.14807294e+00,\n",
       "        7.35856378e+00,  9.01911079e+00, -1.80519528e+00,  1.03305744e+01,\n",
       "        1.22161991e+00, -4.23948236e-01, -5.38708906e+00,  6.14399879e+00,\n",
       "        9.02690112e-02,  1.20767090e+01, -1.34077928e+00,  4.48049667e+00,\n",
       "        3.62943090e+00,  3.53878211e+00,  9.54721019e+00, -5.47157328e-01,\n",
       "        7.76449536e+00,  6.48976163e-02,  5.50834074e+00,  1.00670236e+01,\n",
       "       -9.32490570e-01,  6.45240754e+00,  1.84979323e+00,  1.13898283e+01,\n",
       "        8.37570756e+00,  7.94958901e+00,  6.87892468e+00,  6.31708161e-01,\n",
       "       -1.92786208e+00,  6.65762214e+00,  3.44429957e+00,  2.61605068e+00,\n",
       "        6.25979881e+00,  7.76421003e+00,  2.82761280e+00,  9.12820583e+00,\n",
       "       -4.54462143e+00,  4.66664311e+00, -1.27159263e-01, -4.39932267e+00,\n",
       "        2.28137225e+00,  1.37665057e+00,  2.00259664e+00,  5.85765004e+00,\n",
       "        9.56207851e+00,  1.17091837e+01,  5.42662475e+00, -2.61613575e+00,\n",
       "        1.60387111e+01, -6.37999659e-02,  6.20963918e+00,  2.64384740e+00,\n",
       "        9.85819134e+00,  1.23401031e+01,  1.00696083e+01,  9.52509890e+00,\n",
       "        4.61909316e+00,  6.26020379e+00,  5.85563778e+00,  6.40266168e+00,\n",
       "        7.13151789e+00,  4.42640435e+00,  7.19163240e+00, -1.70896486e+00,\n",
       "       -1.51116683e+00,  4.00954423e+00,  1.45030605e+01,  1.06987850e+01,\n",
       "        1.10279772e+01, -4.72182480e+00,  3.01735030e-01, -8.59008876e-01,\n",
       "        3.62896772e-01, -9.67005172e+00,  1.79197662e+01,  1.27473581e+01,\n",
       "        7.62052384e+00, -5.08855527e+00,  8.74940484e+00,  8.05350323e+00,\n",
       "        1.37827091e+00,  9.77914595e+00,  8.71353033e-01,  6.78471915e+00,\n",
       "       -1.06313989e+01,  3.18948987e+00, -5.65074605e+00,  1.01370294e+01,\n",
       "        1.79026941e+00,  1.60776070e+01,  3.93096001e+00,  8.40171599e+00,\n",
       "       -1.49511477e+00,  4.97972056e+00,  8.24988969e+00, -2.30942481e-01,\n",
       "        4.51249787e+00,  5.32904958e+00,  2.65323610e+00, -7.86283243e-01,\n",
       "       -9.44962684e+00, -4.45067328e+00,  3.90281100e+00,  4.44352660e+00,\n",
       "       -5.61400960e-01,  7.17342183e+00, -3.06281793e+00,  1.16571239e-01,\n",
       "        6.82518004e+00,  5.37623758e-01,  4.97308812e+00, -2.51588432e+00,\n",
       "        2.84442786e+00, -9.70318939e+00, -1.94726987e+00,  1.30273273e+01,\n",
       "       -5.12017835e+00,  5.08809345e+00, -2.49404894e+00,  1.41162479e+00,\n",
       "       -2.89565194e+00,  4.41692364e-01,  3.09214619e+00, -1.96389788e-02,\n",
       "        8.45130966e+00, -6.90907573e+00,  4.43278311e+00,  5.48373622e+00,\n",
       "        6.59027622e+00,  7.02967493e+00, -1.60388776e+00,  1.11403105e+01,\n",
       "        6.53347194e+00,  1.53443475e+00,  5.87025820e+00, -7.67126472e+00,\n",
       "        1.77189688e+01,  1.19443747e+01,  8.05052602e+00,  1.03400972e+01,\n",
       "        7.26464725e-02,  7.19365149e+00,  7.84818681e+00, -1.20354002e+00,\n",
       "        4.90443140e+00, -1.65037573e+00,  5.20477384e+00,  1.47447673e+01,\n",
       "        8.59393008e+00,  1.35851911e+00,  1.94612979e+00,  6.96825880e+00,\n",
       "       -9.37158217e-01,  3.31288249e+00,  5.83507956e+00,  9.68107338e+00])"
      ]
     },
     "execution_count": 7,
     "metadata": {},
     "output_type": "execute_result"
    }
   ],
   "source": [
    "sp1"
   ]
  },
  {
   "cell_type": "code",
   "execution_count": 8,
   "metadata": {
    "colab": {
     "base_uri": "https://localhost:8080/",
     "height": 265
    },
    "id": "ehzCV9rbSX70",
    "outputId": "eb85a72c-f132-4dfd-daa4-ccc870e952d8",
    "scrolled": true
   },
   "outputs": [
    {
     "data": {
      "image/png": "[encoded data removed]",
      "text/plain": [
       "<Figure size 432x288 with 1 Axes>"
      ]
     },
     "metadata": {
      "needs_background": "light"
     },
     "output_type": "display_data"
    }
   ],
   "source": [
    "#Постройте гистограмму распределения\n",
    "dist = plt.hist(sp1,20,density=True)"
   ]
  },
  {
   "cell_type": "code",
   "execution_count": 9,
   "metadata": {
    "id": "SuZufkSJMtvf"
   },
   "outputs": [
    {
     "ename": "FileNotFoundError",
     "evalue": "[Errno 2] No such file or directory: 'AirPassengers.csv'",
     "output_type": "error",
     "traceback": [
      "\u001b[1;31m---------------------------------------------------------------------------\u001b[0m",
      "\u001b[1;31mFileNotFoundError\u001b[0m                         Traceback (most recent call last)",
      "Input \u001b[1;32mIn [9]\u001b[0m, in \u001b[0;36m<cell line: 4>\u001b[1;34m()\u001b[0m\n\u001b[0;32m      1\u001b[0m \u001b[38;5;66;03m#Задача - вывести диаграмму роста ежемесячного числа пассажиров в виде столбцов bar\u001b[39;00m\n\u001b[0;32m      2\u001b[0m \u001b[38;5;66;03m#Датасет задан.\u001b[39;00m\n\u001b[0;32m      3\u001b[0m \u001b[38;5;66;03m#Загрузите базу данных AirPassangers.csv\u001b[39;00m\n\u001b[1;32m----> 4\u001b[0m df \u001b[38;5;241m=\u001b[39m \u001b[43mpd\u001b[49m\u001b[38;5;241;43m.\u001b[39;49m\u001b[43mread_csv\u001b[49m\u001b[43m(\u001b[49m\u001b[38;5;124;43m'\u001b[39;49m\u001b[38;5;124;43mAirPassengers.csv\u001b[39;49m\u001b[38;5;124;43m'\u001b[39;49m\u001b[43m)\u001b[49m\n",
      "File \u001b[1;32m~\\anaconda3\\lib\\site-packages\\pandas\\util\\_decorators.py:311\u001b[0m, in \u001b[0;36mdeprecate_nonkeyword_arguments.<locals>.decorate.<locals>.wrapper\u001b[1;34m(*args, **kwargs)\u001b[0m\n\u001b[0;32m    305\u001b[0m \u001b[38;5;28;01mif\u001b[39;00m \u001b[38;5;28mlen\u001b[39m(args) \u001b[38;5;241m>\u001b[39m num_allow_args:\n\u001b[0;32m    306\u001b[0m     warnings\u001b[38;5;241m.\u001b[39mwarn(\n\u001b[0;32m    307\u001b[0m         msg\u001b[38;5;241m.\u001b[39mformat(arguments\u001b[38;5;241m=\u001b[39marguments),\n\u001b[0;32m    308\u001b[0m         \u001b[38;5;167;01mFutureWarning\u001b[39;00m,\n\u001b[0;32m    309\u001b[0m         stacklevel\u001b[38;5;241m=\u001b[39mstacklevel,\n\u001b[0;32m    310\u001b[0m     )\n\u001b[1;32m--> 311\u001b[0m \u001b[38;5;28;01mreturn\u001b[39;00m func(\u001b[38;5;241m*\u001b[39margs, \u001b[38;5;241m*\u001b[39m\u001b[38;5;241m*\u001b[39mkwargs)\n",
      "File \u001b[1;32m~\\anaconda3\\lib\\site-packages\\pandas\\io\\parsers\\readers.py:680\u001b[0m, in \u001b[0;36mread_csv\u001b[1;34m(filepath_or_buffer, sep, delimiter, header, names, index_col, usecols, squeeze, prefix, mangle_dupe_cols, dtype, engine, converters, true_values, false_values, skipinitialspace, skiprows, skipfooter, nrows, na_values, keep_default_na, na_filter, verbose, skip_blank_lines, parse_dates, infer_datetime_format, keep_date_col, date_parser, dayfirst, cache_dates, iterator, chunksize, compression, thousands, decimal, lineterminator, quotechar, quoting, doublequote, escapechar, comment, encoding, encoding_errors, dialect, error_bad_lines, warn_bad_lines, on_bad_lines, delim_whitespace, low_memory, memory_map, float_precision, storage_options)\u001b[0m\n\u001b[0;32m    665\u001b[0m kwds_defaults \u001b[38;5;241m=\u001b[39m _refine_defaults_read(\n\u001b[0;32m    666\u001b[0m     dialect,\n\u001b[0;32m    667\u001b[0m     delimiter,\n\u001b[1;32m   (...)\u001b[0m\n\u001b[0;32m    676\u001b[0m     defaults\u001b[38;5;241m=\u001b[39m{\u001b[38;5;124m\"\u001b[39m\u001b[38;5;124mdelimiter\u001b[39m\u001b[38;5;124m\"\u001b[39m: \u001b[38;5;124m\"\u001b[39m\u001b[38;5;124m,\u001b[39m\u001b[38;5;124m\"\u001b[39m},\n\u001b[0;32m    677\u001b[0m )\n\u001b[0;32m    678\u001b[0m kwds\u001b[38;5;241m.\u001b[39mupdate(kwds_defaults)\n\u001b[1;32m--> 680\u001b[0m \u001b[38;5;28;01mreturn\u001b[39;00m \u001b[43m_read\u001b[49m\u001b[43m(\u001b[49m\u001b[43mfilepath_or_buffer\u001b[49m\u001b[43m,\u001b[49m\u001b[43m \u001b[49m\u001b[43mkwds\u001b[49m\u001b[43m)\u001b[49m\n",
      "File \u001b[1;32m~\\anaconda3\\lib\\site-packages\\pandas\\io\\parsers\\readers.py:575\u001b[0m, in \u001b[0;36m_read\u001b[1;34m(filepath_or_buffer, kwds)\u001b[0m\n\u001b[0;32m    572\u001b[0m _validate_names(kwds\u001b[38;5;241m.\u001b[39mget(\u001b[38;5;124m\"\u001b[39m\u001b[38;5;124mnames\u001b[39m\u001b[38;5;124m\"\u001b[39m, \u001b[38;5;28;01mNone\u001b[39;00m))\n\u001b[0;32m    574\u001b[0m \u001b[38;5;66;03m# Create the parser.\u001b[39;00m\n\u001b[1;32m--> 575\u001b[0m parser \u001b[38;5;241m=\u001b[39m TextFileReader(filepath_or_buffer, \u001b[38;5;241m*\u001b[39m\u001b[38;5;241m*\u001b[39mkwds)\n\u001b[0;32m    577\u001b[0m \u001b[38;5;28;01mif\u001b[39;00m chunksize \u001b[38;5;129;01mor\u001b[39;00m iterator:\n\u001b[0;32m    578\u001b[0m     \u001b[38;5;28;01mreturn\u001b[39;00m parser\n",
      "File \u001b[1;32m~\\anaconda3\\lib\\site-packages\\pandas\\io\\parsers\\readers.py:933\u001b[0m, in \u001b[0;36mTextFileReader.__init__\u001b[1;34m(self, f, engine, **kwds)\u001b[0m\n\u001b[0;32m    930\u001b[0m     \u001b[38;5;28mself\u001b[39m\u001b[38;5;241m.\u001b[39moptions[\u001b[38;5;124m\"\u001b[39m\u001b[38;5;124mhas_index_names\u001b[39m\u001b[38;5;124m\"\u001b[39m] \u001b[38;5;241m=\u001b[39m kwds[\u001b[38;5;124m\"\u001b[39m\u001b[38;5;124mhas_index_names\u001b[39m\u001b[38;5;124m\"\u001b[39m]\n\u001b[0;32m    932\u001b[0m \u001b[38;5;28mself\u001b[39m\u001b[38;5;241m.\u001b[39mhandles: IOHandles \u001b[38;5;241m|\u001b[39m \u001b[38;5;28;01mNone\u001b[39;00m \u001b[38;5;241m=\u001b[39m \u001b[38;5;28;01mNone\u001b[39;00m\n\u001b[1;32m--> 933\u001b[0m \u001b[38;5;28mself\u001b[39m\u001b[38;5;241m.\u001b[39m_engine \u001b[38;5;241m=\u001b[39m \u001b[38;5;28;43mself\u001b[39;49m\u001b[38;5;241;43m.\u001b[39;49m\u001b[43m_make_engine\u001b[49m\u001b[43m(\u001b[49m\u001b[43mf\u001b[49m\u001b[43m,\u001b[49m\u001b[43m \u001b[49m\u001b[38;5;28;43mself\u001b[39;49m\u001b[38;5;241;43m.\u001b[39;49m\u001b[43mengine\u001b[49m\u001b[43m)\u001b[49m\n",
      "File \u001b[1;32m~\\anaconda3\\lib\\site-packages\\pandas\\io\\parsers\\readers.py:1217\u001b[0m, in \u001b[0;36mTextFileReader._make_engine\u001b[1;34m(self, f, engine)\u001b[0m\n\u001b[0;32m   1213\u001b[0m     mode \u001b[38;5;241m=\u001b[39m \u001b[38;5;124m\"\u001b[39m\u001b[38;5;124mrb\u001b[39m\u001b[38;5;124m\"\u001b[39m\n\u001b[0;32m   1214\u001b[0m \u001b[38;5;66;03m# error: No overload variant of \"get_handle\" matches argument types\u001b[39;00m\n\u001b[0;32m   1215\u001b[0m \u001b[38;5;66;03m# \"Union[str, PathLike[str], ReadCsvBuffer[bytes], ReadCsvBuffer[str]]\"\u001b[39;00m\n\u001b[0;32m   1216\u001b[0m \u001b[38;5;66;03m# , \"str\", \"bool\", \"Any\", \"Any\", \"Any\", \"Any\", \"Any\"\u001b[39;00m\n\u001b[1;32m-> 1217\u001b[0m \u001b[38;5;28mself\u001b[39m\u001b[38;5;241m.\u001b[39mhandles \u001b[38;5;241m=\u001b[39m \u001b[43mget_handle\u001b[49m\u001b[43m(\u001b[49m\u001b[43m  \u001b[49m\u001b[38;5;66;43;03m# type: ignore[call-overload]\u001b[39;49;00m\n\u001b[0;32m   1218\u001b[0m \u001b[43m    \u001b[49m\u001b[43mf\u001b[49m\u001b[43m,\u001b[49m\n\u001b[0;32m   1219\u001b[0m \u001b[43m    \u001b[49m\u001b[43mmode\u001b[49m\u001b[43m,\u001b[49m\n\u001b[0;32m   1220\u001b[0m \u001b[43m    \u001b[49m\u001b[43mencoding\u001b[49m\u001b[38;5;241;43m=\u001b[39;49m\u001b[38;5;28;43mself\u001b[39;49m\u001b[38;5;241;43m.\u001b[39;49m\u001b[43moptions\u001b[49m\u001b[38;5;241;43m.\u001b[39;49m\u001b[43mget\u001b[49m\u001b[43m(\u001b[49m\u001b[38;5;124;43m\"\u001b[39;49m\u001b[38;5;124;43mencoding\u001b[39;49m\u001b[38;5;124;43m\"\u001b[39;49m\u001b[43m,\u001b[49m\u001b[43m \u001b[49m\u001b[38;5;28;43;01mNone\u001b[39;49;00m\u001b[43m)\u001b[49m\u001b[43m,\u001b[49m\n\u001b[0;32m   1221\u001b[0m \u001b[43m    \u001b[49m\u001b[43mcompression\u001b[49m\u001b[38;5;241;43m=\u001b[39;49m\u001b[38;5;28;43mself\u001b[39;49m\u001b[38;5;241;43m.\u001b[39;49m\u001b[43moptions\u001b[49m\u001b[38;5;241;43m.\u001b[39;49m\u001b[43mget\u001b[49m\u001b[43m(\u001b[49m\u001b[38;5;124;43m\"\u001b[39;49m\u001b[38;5;124;43mcompression\u001b[39;49m\u001b[38;5;124;43m\"\u001b[39;49m\u001b[43m,\u001b[49m\u001b[43m \u001b[49m\u001b[38;5;28;43;01mNone\u001b[39;49;00m\u001b[43m)\u001b[49m\u001b[43m,\u001b[49m\n\u001b[0;32m   1222\u001b[0m \u001b[43m    \u001b[49m\u001b[43mmemory_map\u001b[49m\u001b[38;5;241;43m=\u001b[39;49m\u001b[38;5;28;43mself\u001b[39;49m\u001b[38;5;241;43m.\u001b[39;49m\u001b[43moptions\u001b[49m\u001b[38;5;241;43m.\u001b[39;49m\u001b[43mget\u001b[49m\u001b[43m(\u001b[49m\u001b[38;5;124;43m\"\u001b[39;49m\u001b[38;5;124;43mmemory_map\u001b[39;49m\u001b[38;5;124;43m\"\u001b[39;49m\u001b[43m,\u001b[49m\u001b[43m \u001b[49m\u001b[38;5;28;43;01mFalse\u001b[39;49;00m\u001b[43m)\u001b[49m\u001b[43m,\u001b[49m\n\u001b[0;32m   1223\u001b[0m \u001b[43m    \u001b[49m\u001b[43mis_text\u001b[49m\u001b[38;5;241;43m=\u001b[39;49m\u001b[43mis_text\u001b[49m\u001b[43m,\u001b[49m\n\u001b[0;32m   1224\u001b[0m \u001b[43m    \u001b[49m\u001b[43merrors\u001b[49m\u001b[38;5;241;43m=\u001b[39;49m\u001b[38;5;28;43mself\u001b[39;49m\u001b[38;5;241;43m.\u001b[39;49m\u001b[43moptions\u001b[49m\u001b[38;5;241;43m.\u001b[39;49m\u001b[43mget\u001b[49m\u001b[43m(\u001b[49m\u001b[38;5;124;43m\"\u001b[39;49m\u001b[38;5;124;43mencoding_errors\u001b[39;49m\u001b[38;5;124;43m\"\u001b[39;49m\u001b[43m,\u001b[49m\u001b[43m \u001b[49m\u001b[38;5;124;43m\"\u001b[39;49m\u001b[38;5;124;43mstrict\u001b[39;49m\u001b[38;5;124;43m\"\u001b[39;49m\u001b[43m)\u001b[49m\u001b[43m,\u001b[49m\n\u001b[0;32m   1225\u001b[0m \u001b[43m    \u001b[49m\u001b[43mstorage_options\u001b[49m\u001b[38;5;241;43m=\u001b[39;49m\u001b[38;5;28;43mself\u001b[39;49m\u001b[38;5;241;43m.\u001b[39;49m\u001b[43moptions\u001b[49m\u001b[38;5;241;43m.\u001b[39;49m\u001b[43mget\u001b[49m\u001b[43m(\u001b[49m\u001b[38;5;124;43m\"\u001b[39;49m\u001b[38;5;124;43mstorage_options\u001b[39;49m\u001b[38;5;124;43m\"\u001b[39;49m\u001b[43m,\u001b[49m\u001b[43m \u001b[49m\u001b[38;5;28;43;01mNone\u001b[39;49;00m\u001b[43m)\u001b[49m\u001b[43m,\u001b[49m\n\u001b[0;32m   1226\u001b[0m \u001b[43m\u001b[49m\u001b[43m)\u001b[49m\n\u001b[0;32m   1227\u001b[0m \u001b[38;5;28;01massert\u001b[39;00m \u001b[38;5;28mself\u001b[39m\u001b[38;5;241m.\u001b[39mhandles \u001b[38;5;129;01mis\u001b[39;00m \u001b[38;5;129;01mnot\u001b[39;00m \u001b[38;5;28;01mNone\u001b[39;00m\n\u001b[0;32m   1228\u001b[0m f \u001b[38;5;241m=\u001b[39m \u001b[38;5;28mself\u001b[39m\u001b[38;5;241m.\u001b[39mhandles\u001b[38;5;241m.\u001b[39mhandle\n",
      "File \u001b[1;32m~\\anaconda3\\lib\\site-packages\\pandas\\io\\common.py:789\u001b[0m, in \u001b[0;36mget_handle\u001b[1;34m(path_or_buf, mode, encoding, compression, memory_map, is_text, errors, storage_options)\u001b[0m\n\u001b[0;32m    784\u001b[0m \u001b[38;5;28;01melif\u001b[39;00m \u001b[38;5;28misinstance\u001b[39m(handle, \u001b[38;5;28mstr\u001b[39m):\n\u001b[0;32m    785\u001b[0m     \u001b[38;5;66;03m# Check whether the filename is to be opened in binary mode.\u001b[39;00m\n\u001b[0;32m    786\u001b[0m     \u001b[38;5;66;03m# Binary mode does not support 'encoding' and 'newline'.\u001b[39;00m\n\u001b[0;32m    787\u001b[0m     \u001b[38;5;28;01mif\u001b[39;00m ioargs\u001b[38;5;241m.\u001b[39mencoding \u001b[38;5;129;01mand\u001b[39;00m \u001b[38;5;124m\"\u001b[39m\u001b[38;5;124mb\u001b[39m\u001b[38;5;124m\"\u001b[39m \u001b[38;5;129;01mnot\u001b[39;00m \u001b[38;5;129;01min\u001b[39;00m ioargs\u001b[38;5;241m.\u001b[39mmode:\n\u001b[0;32m    788\u001b[0m         \u001b[38;5;66;03m# Encoding\u001b[39;00m\n\u001b[1;32m--> 789\u001b[0m         handle \u001b[38;5;241m=\u001b[39m \u001b[38;5;28;43mopen\u001b[39;49m\u001b[43m(\u001b[49m\n\u001b[0;32m    790\u001b[0m \u001b[43m            \u001b[49m\u001b[43mhandle\u001b[49m\u001b[43m,\u001b[49m\n\u001b[0;32m    791\u001b[0m \u001b[43m            \u001b[49m\u001b[43mioargs\u001b[49m\u001b[38;5;241;43m.\u001b[39;49m\u001b[43mmode\u001b[49m\u001b[43m,\u001b[49m\n\u001b[0;32m    792\u001b[0m \u001b[43m            \u001b[49m\u001b[43mencoding\u001b[49m\u001b[38;5;241;43m=\u001b[39;49m\u001b[43mioargs\u001b[49m\u001b[38;5;241;43m.\u001b[39;49m\u001b[43mencoding\u001b[49m\u001b[43m,\u001b[49m\n\u001b[0;32m    793\u001b[0m \u001b[43m            \u001b[49m\u001b[43merrors\u001b[49m\u001b[38;5;241;43m=\u001b[39;49m\u001b[43merrors\u001b[49m\u001b[43m,\u001b[49m\n\u001b[0;32m    794\u001b[0m \u001b[43m            \u001b[49m\u001b[43mnewline\u001b[49m\u001b[38;5;241;43m=\u001b[39;49m\u001b[38;5;124;43m\"\u001b[39;49m\u001b[38;5;124;43m\"\u001b[39;49m\u001b[43m,\u001b[49m\n\u001b[0;32m    795\u001b[0m \u001b[43m        \u001b[49m\u001b[43m)\u001b[49m\n\u001b[0;32m    796\u001b[0m     \u001b[38;5;28;01melse\u001b[39;00m:\n\u001b[0;32m    797\u001b[0m         \u001b[38;5;66;03m# Binary mode\u001b[39;00m\n\u001b[0;32m    798\u001b[0m         handle \u001b[38;5;241m=\u001b[39m \u001b[38;5;28mopen\u001b[39m(handle, ioargs\u001b[38;5;241m.\u001b[39mmode)\n",
      "\u001b[1;31mFileNotFoundError\u001b[0m: [Errno 2] No such file or directory: 'AirPassengers.csv'"
     ]
    }
   ],
   "source": [
    "#Задача - вывести диаграмму роста ежемесячного числа пассажиров в виде столбцов bar\n",
    "#Датасет задан.\n",
    "#Загрузите базу данных AirPassangers.csv\n",
    "df = pd.read_csv('AirPassengers.csv') "
   ]
  },
  {
   "cell_type": "code",
   "execution_count": 41,
   "metadata": {},
   "outputs": [
    {
     "data": {
      "text/html": [
       "<div>\n",
       "<style scoped>\n",
       "    .dataframe tbody tr th:only-of-type {\n",
       "        vertical-align: middle;\n",
       "    }\n",
       "\n",
       "    .dataframe tbody tr th {\n",
       "        vertical-align: top;\n",
       "    }\n",
       "\n",
       "    .dataframe thead th {\n",
       "        text-align: right;\n",
       "    }\n",
       "</style>\n",
       "<table border=\"1\" class=\"dataframe\">\n",
       "  <thead>\n",
       "    <tr style=\"text-align: right;\">\n",
       "      <th></th>\n",
       "      <th>Month</th>\n",
       "      <th>#Passengers</th>\n",
       "    </tr>\n",
       "  </thead>\n",
       "  <tbody>\n",
       "    <tr>\n",
       "      <th>0</th>\n",
       "      <td>1949-01</td>\n",
       "      <td>112</td>\n",
       "    </tr>\n",
       "    <tr>\n",
       "      <th>1</th>\n",
       "      <td>1949-02</td>\n",
       "      <td>118</td>\n",
       "    </tr>\n",
       "    <tr>\n",
       "      <th>2</th>\n",
       "      <td>1949-03</td>\n",
       "      <td>132</td>\n",
       "    </tr>\n",
       "    <tr>\n",
       "      <th>3</th>\n",
       "      <td>1949-04</td>\n",
       "      <td>129</td>\n",
       "    </tr>\n",
       "    <tr>\n",
       "      <th>4</th>\n",
       "      <td>1949-05</td>\n",
       "      <td>121</td>\n",
       "    </tr>\n",
       "    <tr>\n",
       "      <th>...</th>\n",
       "      <td>...</td>\n",
       "      <td>...</td>\n",
       "    </tr>\n",
       "    <tr>\n",
       "      <th>139</th>\n",
       "      <td>1960-08</td>\n",
       "      <td>606</td>\n",
       "    </tr>\n",
       "    <tr>\n",
       "      <th>140</th>\n",
       "      <td>1960-09</td>\n",
       "      <td>508</td>\n",
       "    </tr>\n",
       "    <tr>\n",
       "      <th>141</th>\n",
       "      <td>1960-10</td>\n",
       "      <td>461</td>\n",
       "    </tr>\n",
       "    <tr>\n",
       "      <th>142</th>\n",
       "      <td>1960-11</td>\n",
       "      <td>390</td>\n",
       "    </tr>\n",
       "    <tr>\n",
       "      <th>143</th>\n",
       "      <td>1960-12</td>\n",
       "      <td>432</td>\n",
       "    </tr>\n",
       "  </tbody>\n",
       "</table>\n",
       "<p>144 rows × 2 columns</p>\n",
       "</div>"
      ],
      "text/plain": [
       "       Month  #Passengers\n",
       "0    1949-01          112\n",
       "1    1949-02          118\n",
       "2    1949-03          132\n",
       "3    1949-04          129\n",
       "4    1949-05          121\n",
       "..       ...          ...\n",
       "139  1960-08          606\n",
       "140  1960-09          508\n",
       "141  1960-10          461\n",
       "142  1960-11          390\n",
       "143  1960-12          432\n",
       "\n",
       "[144 rows x 2 columns]"
      ]
     },
     "execution_count": 41,
     "metadata": {},
     "output_type": "execute_result"
    }
   ],
   "source": [
    "df"
   ]
  },
  {
   "cell_type": "code",
   "execution_count": 42,
   "metadata": {
    "colab": {
     "base_uri": "https://localhost:8080/",
     "height": 175
    },
    "id": "aW2D-XHhMmUa",
    "outputId": "1adcbdf0-3f24-47da-ec58-a1c02803464a"
   },
   "outputs": [
    {
     "data": {
      "text/html": [
       "<div>\n",
       "<style scoped>\n",
       "    .dataframe tbody tr th:only-of-type {\n",
       "        vertical-align: middle;\n",
       "    }\n",
       "\n",
       "    .dataframe tbody tr th {\n",
       "        vertical-align: top;\n",
       "    }\n",
       "\n",
       "    .dataframe thead th {\n",
       "        text-align: right;\n",
       "    }\n",
       "</style>\n",
       "<table border=\"1\" class=\"dataframe\">\n",
       "  <thead>\n",
       "    <tr style=\"text-align: right;\">\n",
       "      <th></th>\n",
       "      <th>Month</th>\n",
       "      <th>#Passengers</th>\n",
       "    </tr>\n",
       "  </thead>\n",
       "  <tbody>\n",
       "    <tr>\n",
       "      <th>0</th>\n",
       "      <td>1949-01</td>\n",
       "      <td>112</td>\n",
       "    </tr>\n",
       "    <tr>\n",
       "      <th>1</th>\n",
       "      <td>1949-02</td>\n",
       "      <td>118</td>\n",
       "    </tr>\n",
       "    <tr>\n",
       "      <th>2</th>\n",
       "      <td>1949-03</td>\n",
       "      <td>132</td>\n",
       "    </tr>\n",
       "    <tr>\n",
       "      <th>3</th>\n",
       "      <td>1949-04</td>\n",
       "      <td>129</td>\n",
       "    </tr>\n",
       "  </tbody>\n",
       "</table>\n",
       "</div>"
      ],
      "text/plain": [
       "     Month  #Passengers\n",
       "0  1949-01          112\n",
       "1  1949-02          118\n",
       "2  1949-03          132\n",
       "3  1949-04          129"
      ]
     },
     "execution_count": 42,
     "metadata": {},
     "output_type": "execute_result"
    }
   ],
   "source": [
    "#Смотрим на первые 4 строки\n",
    "df.head(4)"
   ]
  },
  {
   "cell_type": "code",
   "execution_count": 43,
   "metadata": {
    "colab": {
     "base_uri": "https://localhost:8080/",
     "height": 283
    },
    "id": "rA1cM6fR4ykO",
    "outputId": "a03296b6-1d87-4992-97e7-e2cd1196f0d1",
    "scrolled": false
   },
   "outputs": [
    {
     "data": {
      "text/plain": [
       "<BarContainer object of 144 artists>"
      ]
     },
     "execution_count": 43,
     "metadata": {},
     "output_type": "execute_result"
    },
    {
     "data": {
      "image/png": "[encoded data removed]",
      "text/plain": [
       "<Figure size 432x288 with 1 Axes>"
      ]
     },
     "metadata": {
      "needs_background": "light"
     },
     "output_type": "display_data"
    }
   ],
   "source": [
    "#Выводим диаграмму\n",
    "plt.bar(df['Month'],df['#Passengers'],align='center',color='r',linewidth=15)"
   ]
  },
  {
   "cell_type": "code",
   "execution_count": 45,
   "metadata": {
    "id": "Sxwm872D5KkC"
   },
   "outputs": [],
   "source": [
    "# Преобразуем колонку Month в формат DateTime Index\n",
    "df.index = pd.to_datetime(df.Month)"
   ]
  },
  {
   "cell_type": "code",
   "execution_count": 46,
   "metadata": {
    "colab": {
     "base_uri": "https://localhost:8080/",
     "height": 551
    },
    "id": "7sfbbk0I7oAc",
    "outputId": "7375ab08-5f97-4d45-c92c-3ded193d34a0"
   },
   "outputs": [
    {
     "data": {
      "text/html": [
       "<div>\n",
       "<style scoped>\n",
       "    .dataframe tbody tr th:only-of-type {\n",
       "        vertical-align: middle;\n",
       "    }\n",
       "\n",
       "    .dataframe tbody tr th {\n",
       "        vertical-align: top;\n",
       "    }\n",
       "\n",
       "    .dataframe thead th {\n",
       "        text-align: right;\n",
       "    }\n",
       "</style>\n",
       "<table border=\"1\" class=\"dataframe\">\n",
       "  <thead>\n",
       "    <tr style=\"text-align: right;\">\n",
       "      <th></th>\n",
       "      <th>Month</th>\n",
       "      <th>#Passengers</th>\n",
       "    </tr>\n",
       "    <tr>\n",
       "      <th>Month</th>\n",
       "      <th></th>\n",
       "      <th></th>\n",
       "    </tr>\n",
       "  </thead>\n",
       "  <tbody>\n",
       "    <tr>\n",
       "      <th>1949-01-01</th>\n",
       "      <td>1949-01</td>\n",
       "      <td>112</td>\n",
       "    </tr>\n",
       "    <tr>\n",
       "      <th>1949-02-01</th>\n",
       "      <td>1949-02</td>\n",
       "      <td>118</td>\n",
       "    </tr>\n",
       "    <tr>\n",
       "      <th>1949-03-01</th>\n",
       "      <td>1949-03</td>\n",
       "      <td>132</td>\n",
       "    </tr>\n",
       "    <tr>\n",
       "      <th>1949-04-01</th>\n",
       "      <td>1949-04</td>\n",
       "      <td>129</td>\n",
       "    </tr>\n",
       "    <tr>\n",
       "      <th>1949-05-01</th>\n",
       "      <td>1949-05</td>\n",
       "      <td>121</td>\n",
       "    </tr>\n",
       "  </tbody>\n",
       "</table>\n",
       "</div>"
      ],
      "text/plain": [
       "              Month  #Passengers\n",
       "Month                           \n",
       "1949-01-01  1949-01          112\n",
       "1949-02-01  1949-02          118\n",
       "1949-03-01  1949-03          132\n",
       "1949-04-01  1949-04          129\n",
       "1949-05-01  1949-05          121"
      ]
     },
     "execution_count": 46,
     "metadata": {},
     "output_type": "execute_result"
    }
   ],
   "source": [
    "df.head(5)"
   ]
  },
  {
   "cell_type": "code",
   "execution_count": 47,
   "metadata": {
    "id": "GitN9UxY8F6r"
   },
   "outputs": [],
   "source": [
    "# Удаляем ненужный столбец\n",
    "df.drop(columns='Month',inplace=True)"
   ]
  },
  {
   "cell_type": "code",
   "execution_count": 48,
   "metadata": {},
   "outputs": [
    {
     "data": {
      "text/html": [
       "<div>\n",
       "<style scoped>\n",
       "    .dataframe tbody tr th:only-of-type {\n",
       "        vertical-align: middle;\n",
       "    }\n",
       "\n",
       "    .dataframe tbody tr th {\n",
       "        vertical-align: top;\n",
       "    }\n",
       "\n",
       "    .dataframe thead th {\n",
       "        text-align: right;\n",
       "    }\n",
       "</style>\n",
       "<table border=\"1\" class=\"dataframe\">\n",
       "  <thead>\n",
       "    <tr style=\"text-align: right;\">\n",
       "      <th></th>\n",
       "      <th>#Passengers</th>\n",
       "    </tr>\n",
       "    <tr>\n",
       "      <th>Month</th>\n",
       "      <th></th>\n",
       "    </tr>\n",
       "  </thead>\n",
       "  <tbody>\n",
       "    <tr>\n",
       "      <th>1949-01-01</th>\n",
       "      <td>112</td>\n",
       "    </tr>\n",
       "    <tr>\n",
       "      <th>1949-02-01</th>\n",
       "      <td>118</td>\n",
       "    </tr>\n",
       "    <tr>\n",
       "      <th>1949-03-01</th>\n",
       "      <td>132</td>\n",
       "    </tr>\n",
       "    <tr>\n",
       "      <th>1949-04-01</th>\n",
       "      <td>129</td>\n",
       "    </tr>\n",
       "    <tr>\n",
       "      <th>1949-05-01</th>\n",
       "      <td>121</td>\n",
       "    </tr>\n",
       "    <tr>\n",
       "      <th>1949-06-01</th>\n",
       "      <td>135</td>\n",
       "    </tr>\n",
       "  </tbody>\n",
       "</table>\n",
       "</div>"
      ],
      "text/plain": [
       "            #Passengers\n",
       "Month                  \n",
       "1949-01-01          112\n",
       "1949-02-01          118\n",
       "1949-03-01          132\n",
       "1949-04-01          129\n",
       "1949-05-01          121\n",
       "1949-06-01          135"
      ]
     },
     "execution_count": 48,
     "metadata": {},
     "output_type": "execute_result"
    }
   ],
   "source": [
    "df.head(6)"
   ]
  },
  {
   "cell_type": "code",
   "execution_count": 49,
   "metadata": {
    "id": "Gf8O8I1-AWzq"
   },
   "outputs": [],
   "source": [
    "#группировка по годам\n",
    "df = df.resample('Y').sum()"
   ]
  },
  {
   "cell_type": "code",
   "execution_count": 50,
   "metadata": {},
   "outputs": [
    {
     "data": {
      "text/html": [
       "<div>\n",
       "<style scoped>\n",
       "    .dataframe tbody tr th:only-of-type {\n",
       "        vertical-align: middle;\n",
       "    }\n",
       "\n",
       "    .dataframe tbody tr th {\n",
       "        vertical-align: top;\n",
       "    }\n",
       "\n",
       "    .dataframe thead th {\n",
       "        text-align: right;\n",
       "    }\n",
       "</style>\n",
       "<table border=\"1\" class=\"dataframe\">\n",
       "  <thead>\n",
       "    <tr style=\"text-align: right;\">\n",
       "      <th></th>\n",
       "      <th>#Passengers</th>\n",
       "    </tr>\n",
       "    <tr>\n",
       "      <th>Month</th>\n",
       "      <th></th>\n",
       "    </tr>\n",
       "  </thead>\n",
       "  <tbody>\n",
       "    <tr>\n",
       "      <th>1949-12-31</th>\n",
       "      <td>1520</td>\n",
       "    </tr>\n",
       "    <tr>\n",
       "      <th>1950-12-31</th>\n",
       "      <td>1676</td>\n",
       "    </tr>\n",
       "    <tr>\n",
       "      <th>1951-12-31</th>\n",
       "      <td>2042</td>\n",
       "    </tr>\n",
       "    <tr>\n",
       "      <th>1952-12-31</th>\n",
       "      <td>2364</td>\n",
       "    </tr>\n",
       "    <tr>\n",
       "      <th>1953-12-31</th>\n",
       "      <td>2700</td>\n",
       "    </tr>\n",
       "    <tr>\n",
       "      <th>1954-12-31</th>\n",
       "      <td>2867</td>\n",
       "    </tr>\n",
       "  </tbody>\n",
       "</table>\n",
       "</div>"
      ],
      "text/plain": [
       "            #Passengers\n",
       "Month                  \n",
       "1949-12-31         1520\n",
       "1950-12-31         1676\n",
       "1951-12-31         2042\n",
       "1952-12-31         2364\n",
       "1953-12-31         2700\n",
       "1954-12-31         2867"
      ]
     },
     "execution_count": 50,
     "metadata": {},
     "output_type": "execute_result"
    }
   ],
   "source": [
    "df.head(6)"
   ]
  },
  {
   "cell_type": "code",
   "execution_count": 51,
   "metadata": {
    "colab": {
     "base_uri": "https://localhost:8080/",
     "height": 279
    },
    "id": "OqrlvTT1BQRD",
    "outputId": "030e5e2d-8788-488f-a70d-a88dc3775798",
    "scrolled": true
   },
   "outputs": [
    {
     "data": {
      "text/plain": [
       "<AxesSubplot:xlabel='Month', ylabel='#Passengers'>"
      ]
     },
     "execution_count": 51,
     "metadata": {},
     "output_type": "execute_result"
    },
    {
     "data": {
      "image/png": "[encoded data removed]",
      "text/plain": [
       "<Figure size 432x288 with 1 Axes>"
      ]
     },
     "metadata": {
      "needs_background": "light"
     },
     "output_type": "display_data"
    }
   ],
   "source": [
    "#Постройте bar plot. По оси X будут года, по оси Y - количество пассажиров\n",
    "sns.barplot(x=df.index.year,y=df['#Passengers'],color='g')"
   ]
  },
  {
   "cell_type": "code",
   "execution_count": 59,
   "metadata": {
    "colab": {
     "base_uri": "https://localhost:8080/",
     "height": 283
    },
    "id": "n_tB5SKACqht",
    "outputId": "be6ee9ee-42a4-433d-d7f0-765dbda7fca5"
   },
   "outputs": [
    {
     "data": {
      "text/plain": [
       "<BarContainer object of 12 artists>"
      ]
     },
     "execution_count": 59,
     "metadata": {},
     "output_type": "execute_result"
    },
    {
     "data": {
      "image/png": "[encoded data removed]",
      "text/plain": [
       "<Figure size 432x288 with 1 Axes>"
      ]
     },
     "metadata": {
      "needs_background": "light"
     },
     "output_type": "display_data"
    }
   ],
   "source": [
    "#Постройте график bar, используя mayplotlib\n",
    "plt.bar(df.index.year,df['#Passengers'],align='center',color='r',linewidth=15)"
   ]
  },
  {
   "cell_type": "code",
   "execution_count": 63,
   "metadata": {
    "scrolled": false
   },
   "outputs": [
    {
     "data": {
      "text/html": [
       "<div>\n",
       "<style scoped>\n",
       "    .dataframe tbody tr th:only-of-type {\n",
       "        vertical-align: middle;\n",
       "    }\n",
       "\n",
       "    .dataframe tbody tr th {\n",
       "        vertical-align: top;\n",
       "    }\n",
       "\n",
       "    .dataframe thead th {\n",
       "        text-align: right;\n",
       "    }\n",
       "</style>\n",
       "<table border=\"1\" class=\"dataframe\">\n",
       "  <thead>\n",
       "    <tr style=\"text-align: right;\">\n",
       "      <th></th>\n",
       "      <th>year</th>\n",
       "      <th>month</th>\n",
       "      <th>passengers</th>\n",
       "    </tr>\n",
       "  </thead>\n",
       "  <tbody>\n",
       "    <tr>\n",
       "      <th>0</th>\n",
       "      <td>1949</td>\n",
       "      <td>Jan</td>\n",
       "      <td>112</td>\n",
       "    </tr>\n",
       "    <tr>\n",
       "      <th>1</th>\n",
       "      <td>1949</td>\n",
       "      <td>Feb</td>\n",
       "      <td>118</td>\n",
       "    </tr>\n",
       "    <tr>\n",
       "      <th>2</th>\n",
       "      <td>1949</td>\n",
       "      <td>Mar</td>\n",
       "      <td>132</td>\n",
       "    </tr>\n",
       "    <tr>\n",
       "      <th>3</th>\n",
       "      <td>1949</td>\n",
       "      <td>Apr</td>\n",
       "      <td>129</td>\n",
       "    </tr>\n",
       "    <tr>\n",
       "      <th>4</th>\n",
       "      <td>1949</td>\n",
       "      <td>May</td>\n",
       "      <td>121</td>\n",
       "    </tr>\n",
       "    <tr>\n",
       "      <th>...</th>\n",
       "      <td>...</td>\n",
       "      <td>...</td>\n",
       "      <td>...</td>\n",
       "    </tr>\n",
       "    <tr>\n",
       "      <th>139</th>\n",
       "      <td>1960</td>\n",
       "      <td>Aug</td>\n",
       "      <td>606</td>\n",
       "    </tr>\n",
       "    <tr>\n",
       "      <th>140</th>\n",
       "      <td>1960</td>\n",
       "      <td>Sep</td>\n",
       "      <td>508</td>\n",
       "    </tr>\n",
       "    <tr>\n",
       "      <th>141</th>\n",
       "      <td>1960</td>\n",
       "      <td>Oct</td>\n",
       "      <td>461</td>\n",
       "    </tr>\n",
       "    <tr>\n",
       "      <th>142</th>\n",
       "      <td>1960</td>\n",
       "      <td>Nov</td>\n",
       "      <td>390</td>\n",
       "    </tr>\n",
       "    <tr>\n",
       "      <th>143</th>\n",
       "      <td>1960</td>\n",
       "      <td>Dec</td>\n",
       "      <td>432</td>\n",
       "    </tr>\n",
       "  </tbody>\n",
       "</table>\n",
       "<p>144 rows × 3 columns</p>\n",
       "</div>"
      ],
      "text/plain": [
       "     year month  passengers\n",
       "0    1949   Jan         112\n",
       "1    1949   Feb         118\n",
       "2    1949   Mar         132\n",
       "3    1949   Apr         129\n",
       "4    1949   May         121\n",
       "..    ...   ...         ...\n",
       "139  1960   Aug         606\n",
       "140  1960   Sep         508\n",
       "141  1960   Oct         461\n",
       "142  1960   Nov         390\n",
       "143  1960   Dec         432\n",
       "\n",
       "[144 rows x 3 columns]"
      ]
     },
     "execution_count": 63,
     "metadata": {},
     "output_type": "execute_result"
    }
   ],
   "source": [
    "df"
   ]
  },
  {
   "cell_type": "markdown",
   "metadata": {},
   "source": [
    "# Создайте два датафрейма:\n",
    "1) subject_id, Имя, Фамилия ['563522', '657433', '112234', '865463', '563522', '112234','634366','112234'],\n",
    "                    ['Леонид', 'Юрий', 'Светлана', 'Дмитрий', 'Станислав', 'Всеволод','Виктор','Иван'], \n",
    "                   ['Долматов', 'Иванов', 'Герман', 'Долгорукий', 'Лем', 'Кудряшев','Тепляков','Воронов']\n",
    "2) subject_id, название курса, описание курса ['563522', '112234', '865463', '657433'],\n",
    "                   ['Теория вероятностей', 'Программирование', 'Анализ данных', 'Базы данных'], \n",
    "                   ['методики расчета и обработки статистических данных', 'расширенный курс по С# ',\\\n",
    "                            'анализ фондовых рынков', 'введение в построение баз данных предприятий']"
   ]
  },
  {
   "cell_type": "code",
   "execution_count": 68,
   "metadata": {
    "colab": {
     "base_uri": "https://localhost:8080/",
     "height": 300
    },
    "id": "ITKUoyHSGdgl",
    "outputId": "96d30e32-ed4e-4e19-87b4-08f57fc1c7e2"
   },
   "outputs": [
    {
     "data": {
      "text/html": [
       "<div>\n",
       "<style scoped>\n",
       "    .dataframe tbody tr th:only-of-type {\n",
       "        vertical-align: middle;\n",
       "    }\n",
       "\n",
       "    .dataframe tbody tr th {\n",
       "        vertical-align: top;\n",
       "    }\n",
       "\n",
       "    .dataframe thead th {\n",
       "        text-align: right;\n",
       "    }\n",
       "</style>\n",
       "<table border=\"1\" class=\"dataframe\">\n",
       "  <thead>\n",
       "    <tr style=\"text-align: right;\">\n",
       "      <th></th>\n",
       "      <th>subject_id</th>\n",
       "      <th>Имя</th>\n",
       "      <th>Фамилия</th>\n",
       "    </tr>\n",
       "  </thead>\n",
       "  <tbody>\n",
       "    <tr>\n",
       "      <th>0</th>\n",
       "      <td>563522</td>\n",
       "      <td>Леонид</td>\n",
       "      <td>Долматов</td>\n",
       "    </tr>\n",
       "    <tr>\n",
       "      <th>1</th>\n",
       "      <td>657433</td>\n",
       "      <td>Юрий</td>\n",
       "      <td>Иванов</td>\n",
       "    </tr>\n",
       "    <tr>\n",
       "      <th>2</th>\n",
       "      <td>112234</td>\n",
       "      <td>Светлана</td>\n",
       "      <td>Герман</td>\n",
       "    </tr>\n",
       "    <tr>\n",
       "      <th>3</th>\n",
       "      <td>865463</td>\n",
       "      <td>Дмитрий</td>\n",
       "      <td>Долгорукий</td>\n",
       "    </tr>\n",
       "    <tr>\n",
       "      <th>4</th>\n",
       "      <td>563522</td>\n",
       "      <td>Станислав</td>\n",
       "      <td>Лем</td>\n",
       "    </tr>\n",
       "    <tr>\n",
       "      <th>5</th>\n",
       "      <td>112234</td>\n",
       "      <td>Всеволод</td>\n",
       "      <td>Кудряшев</td>\n",
       "    </tr>\n",
       "    <tr>\n",
       "      <th>6</th>\n",
       "      <td>634366</td>\n",
       "      <td>Виктор</td>\n",
       "      <td>Тепляков</td>\n",
       "    </tr>\n",
       "    <tr>\n",
       "      <th>7</th>\n",
       "      <td>112234</td>\n",
       "      <td>Иван</td>\n",
       "      <td>Воронов</td>\n",
       "    </tr>\n",
       "  </tbody>\n",
       "</table>\n",
       "</div>"
      ],
      "text/plain": [
       "  subject_id        Имя     Фамилия\n",
       "0     563522     Леонид    Долматов\n",
       "1     657433       Юрий      Иванов\n",
       "2     112234   Светлана      Герман\n",
       "3     865463    Дмитрий  Долгорукий\n",
       "4     563522  Станислав         Лем\n",
       "5     112234   Всеволод    Кудряшев\n",
       "6     634366     Виктор    Тепляков\n",
       "7     112234       Иван     Воронов"
      ]
     },
     "execution_count": 68,
     "metadata": {},
     "output_type": "execute_result"
    }
   ],
   "source": [
    "data_1 = np.array([['563522', '657433', '112234', '865463', '563522', '112234','634366','112234'],\n",
    "                   ['Леонид', 'Юрий', 'Светлана', 'Дмитрий', 'Станислав', 'Всеволод','Виктор','Иван'], \n",
    "                   ['Долматов', 'Иванов', 'Герман', 'Долгорукий', 'Лем', 'Кудряшев','Тепляков','Воронов']])\n",
    "\n",
    "names = pd.DataFrame(data_1.T,columns = ['subject_id','Имя','Фамилия'])\n",
    "names"
   ]
  },
  {
   "cell_type": "code",
   "execution_count": 69,
   "metadata": {
    "colab": {
     "base_uri": "https://localhost:8080/",
     "height": 175
    },
    "id": "QOsdiBpfFQhw",
    "outputId": "945011ac-0b82-4a2c-a86b-60c59e89fa30"
   },
   "outputs": [
    {
     "data": {
      "text/html": [
       "<div>\n",
       "<style scoped>\n",
       "    .dataframe tbody tr th:only-of-type {\n",
       "        vertical-align: middle;\n",
       "    }\n",
       "\n",
       "    .dataframe tbody tr th {\n",
       "        vertical-align: top;\n",
       "    }\n",
       "\n",
       "    .dataframe thead th {\n",
       "        text-align: right;\n",
       "    }\n",
       "</style>\n",
       "<table border=\"1\" class=\"dataframe\">\n",
       "  <thead>\n",
       "    <tr style=\"text-align: right;\">\n",
       "      <th></th>\n",
       "      <th>subject_id</th>\n",
       "      <th>название курса</th>\n",
       "      <th>описание курса</th>\n",
       "    </tr>\n",
       "  </thead>\n",
       "  <tbody>\n",
       "    <tr>\n",
       "      <th>0</th>\n",
       "      <td>563522</td>\n",
       "      <td>Теория вероятностей</td>\n",
       "      <td>методики расчета и обработки статистических да...</td>\n",
       "    </tr>\n",
       "    <tr>\n",
       "      <th>1</th>\n",
       "      <td>112234</td>\n",
       "      <td>Программирование</td>\n",
       "      <td>расширенный курс по С#</td>\n",
       "    </tr>\n",
       "    <tr>\n",
       "      <th>2</th>\n",
       "      <td>865463</td>\n",
       "      <td>Анализ данных</td>\n",
       "      <td>анализ фондовых рынков</td>\n",
       "    </tr>\n",
       "    <tr>\n",
       "      <th>3</th>\n",
       "      <td>657433</td>\n",
       "      <td>Базы данных</td>\n",
       "      <td>введение в построение баз данных предприятий</td>\n",
       "    </tr>\n",
       "  </tbody>\n",
       "</table>\n",
       "</div>"
      ],
      "text/plain": [
       "  subject_id       название курса  \\\n",
       "0     563522  Теория вероятностей   \n",
       "1     112234     Программирование   \n",
       "2     865463        Анализ данных   \n",
       "3     657433          Базы данных   \n",
       "\n",
       "                                      описание курса  \n",
       "0  методики расчета и обработки статистических да...  \n",
       "1                            расширенный курс по С#   \n",
       "2                             анализ фондовых рынков  \n",
       "3       введение в построение баз данных предприятий  "
      ]
     },
     "execution_count": 69,
     "metadata": {},
     "output_type": "execute_result"
    }
   ],
   "source": [
    "data_2 = np.array([['563522', '112234', '865463', '657433'],\n",
    "                   ['Теория вероятностей', 'Программирование', 'Анализ данных', 'Базы данных'], \n",
    "                   ['методики расчета и обработки статистических данных', 'расширенный курс по С# ',\\\n",
    "                            'анализ фондовых рынков', 'введение в построение баз данных предприятий']])\n",
    "\n",
    "subjects = pd.DataFrame(data_2.T,columns=['subject_id','название курса','описание курса'])\n",
    "subjects"
   ]
  },
  {
   "cell_type": "code",
   "execution_count": 71,
   "metadata": {
    "colab": {
     "base_uri": "https://localhost:8080/",
     "height": 300
    },
    "id": "x873PuBVYR3e",
    "outputId": "22a1f126-1499-4965-ef7f-950d21174544"
   },
   "outputs": [
    {
     "data": {
      "text/html": [
       "<div>\n",
       "<style scoped>\n",
       "    .dataframe tbody tr th:only-of-type {\n",
       "        vertical-align: middle;\n",
       "    }\n",
       "\n",
       "    .dataframe tbody tr th {\n",
       "        vertical-align: top;\n",
       "    }\n",
       "\n",
       "    .dataframe thead th {\n",
       "        text-align: right;\n",
       "    }\n",
       "</style>\n",
       "<table border=\"1\" class=\"dataframe\">\n",
       "  <thead>\n",
       "    <tr style=\"text-align: right;\">\n",
       "      <th></th>\n",
       "      <th>subject_id</th>\n",
       "      <th>Имя</th>\n",
       "      <th>Фамилия</th>\n",
       "      <th>название курса</th>\n",
       "      <th>описание курса</th>\n",
       "    </tr>\n",
       "  </thead>\n",
       "  <tbody>\n",
       "    <tr>\n",
       "      <th>0</th>\n",
       "      <td>563522</td>\n",
       "      <td>Леонид</td>\n",
       "      <td>Долматов</td>\n",
       "      <td>Теория вероятностей</td>\n",
       "      <td>методики расчета и обработки статистических да...</td>\n",
       "    </tr>\n",
       "    <tr>\n",
       "      <th>1</th>\n",
       "      <td>657433</td>\n",
       "      <td>Юрий</td>\n",
       "      <td>Иванов</td>\n",
       "      <td>Базы данных</td>\n",
       "      <td>введение в построение баз данных предприятий</td>\n",
       "    </tr>\n",
       "    <tr>\n",
       "      <th>2</th>\n",
       "      <td>112234</td>\n",
       "      <td>Светлана</td>\n",
       "      <td>Герман</td>\n",
       "      <td>Программирование</td>\n",
       "      <td>расширенный курс по С#</td>\n",
       "    </tr>\n",
       "    <tr>\n",
       "      <th>3</th>\n",
       "      <td>865463</td>\n",
       "      <td>Дмитрий</td>\n",
       "      <td>Долгорукий</td>\n",
       "      <td>Анализ данных</td>\n",
       "      <td>анализ фондовых рынков</td>\n",
       "    </tr>\n",
       "    <tr>\n",
       "      <th>4</th>\n",
       "      <td>563522</td>\n",
       "      <td>Станислав</td>\n",
       "      <td>Лем</td>\n",
       "      <td>Теория вероятностей</td>\n",
       "      <td>методики расчета и обработки статистических да...</td>\n",
       "    </tr>\n",
       "    <tr>\n",
       "      <th>5</th>\n",
       "      <td>112234</td>\n",
       "      <td>Всеволод</td>\n",
       "      <td>Кудряшев</td>\n",
       "      <td>Программирование</td>\n",
       "      <td>расширенный курс по С#</td>\n",
       "    </tr>\n",
       "    <tr>\n",
       "      <th>6</th>\n",
       "      <td>634366</td>\n",
       "      <td>Виктор</td>\n",
       "      <td>Тепляков</td>\n",
       "      <td>NaN</td>\n",
       "      <td>NaN</td>\n",
       "    </tr>\n",
       "    <tr>\n",
       "      <th>7</th>\n",
       "      <td>112234</td>\n",
       "      <td>Иван</td>\n",
       "      <td>Воронов</td>\n",
       "      <td>Программирование</td>\n",
       "      <td>расширенный курс по С#</td>\n",
       "    </tr>\n",
       "  </tbody>\n",
       "</table>\n",
       "</div>"
      ],
      "text/plain": [
       "  subject_id        Имя     Фамилия       название курса  \\\n",
       "0     563522     Леонид    Долматов  Теория вероятностей   \n",
       "1     657433       Юрий      Иванов          Базы данных   \n",
       "2     112234   Светлана      Герман     Программирование   \n",
       "3     865463    Дмитрий  Долгорукий        Анализ данных   \n",
       "4     563522  Станислав         Лем  Теория вероятностей   \n",
       "5     112234   Всеволод    Кудряшев     Программирование   \n",
       "6     634366     Виктор    Тепляков                  NaN   \n",
       "7     112234       Иван     Воронов     Программирование   \n",
       "\n",
       "                                      описание курса  \n",
       "0  методики расчета и обработки статистических да...  \n",
       "1       введение в построение баз данных предприятий  \n",
       "2                            расширенный курс по С#   \n",
       "3                             анализ фондовых рынков  \n",
       "4  методики расчета и обработки статистических да...  \n",
       "5                            расширенный курс по С#   \n",
       "6                                                NaN  \n",
       "7                            расширенный курс по С#   "
      ]
     },
     "execution_count": 71,
     "metadata": {},
     "output_type": "execute_result"
    }
   ],
   "source": [
    "# Объедините два датафрейма по столбцу subject_id (join-left)\n",
    "names.merge(subjects,on='subject_id',how='left')"
   ]
  },
  {
   "cell_type": "code",
   "execution_count": 72,
   "metadata": {
    "colab": {
     "base_uri": "https://localhost:8080/",
     "height": 269
    },
    "id": "xajyBLKYYUrA",
    "outputId": "a866ff7f-2ad9-4d09-9077-ad57e59cca2c"
   },
   "outputs": [
    {
     "data": {
      "text/html": [
       "<div>\n",
       "<style scoped>\n",
       "    .dataframe tbody tr th:only-of-type {\n",
       "        vertical-align: middle;\n",
       "    }\n",
       "\n",
       "    .dataframe tbody tr th {\n",
       "        vertical-align: top;\n",
       "    }\n",
       "\n",
       "    .dataframe thead th {\n",
       "        text-align: right;\n",
       "    }\n",
       "</style>\n",
       "<table border=\"1\" class=\"dataframe\">\n",
       "  <thead>\n",
       "    <tr style=\"text-align: right;\">\n",
       "      <th></th>\n",
       "      <th>subject_id</th>\n",
       "      <th>Имя</th>\n",
       "      <th>Фамилия</th>\n",
       "      <th>название курса</th>\n",
       "      <th>описание курса</th>\n",
       "    </tr>\n",
       "  </thead>\n",
       "  <tbody>\n",
       "    <tr>\n",
       "      <th>0</th>\n",
       "      <td>563522</td>\n",
       "      <td>Леонид</td>\n",
       "      <td>Долматов</td>\n",
       "      <td>Теория вероятностей</td>\n",
       "      <td>методики расчета и обработки статистических да...</td>\n",
       "    </tr>\n",
       "    <tr>\n",
       "      <th>1</th>\n",
       "      <td>563522</td>\n",
       "      <td>Станислав</td>\n",
       "      <td>Лем</td>\n",
       "      <td>Теория вероятностей</td>\n",
       "      <td>методики расчета и обработки статистических да...</td>\n",
       "    </tr>\n",
       "    <tr>\n",
       "      <th>2</th>\n",
       "      <td>112234</td>\n",
       "      <td>Светлана</td>\n",
       "      <td>Герман</td>\n",
       "      <td>Программирование</td>\n",
       "      <td>расширенный курс по С#</td>\n",
       "    </tr>\n",
       "    <tr>\n",
       "      <th>3</th>\n",
       "      <td>112234</td>\n",
       "      <td>Всеволод</td>\n",
       "      <td>Кудряшев</td>\n",
       "      <td>Программирование</td>\n",
       "      <td>расширенный курс по С#</td>\n",
       "    </tr>\n",
       "    <tr>\n",
       "      <th>4</th>\n",
       "      <td>112234</td>\n",
       "      <td>Иван</td>\n",
       "      <td>Воронов</td>\n",
       "      <td>Программирование</td>\n",
       "      <td>расширенный курс по С#</td>\n",
       "    </tr>\n",
       "    <tr>\n",
       "      <th>5</th>\n",
       "      <td>865463</td>\n",
       "      <td>Дмитрий</td>\n",
       "      <td>Долгорукий</td>\n",
       "      <td>Анализ данных</td>\n",
       "      <td>анализ фондовых рынков</td>\n",
       "    </tr>\n",
       "    <tr>\n",
       "      <th>6</th>\n",
       "      <td>657433</td>\n",
       "      <td>Юрий</td>\n",
       "      <td>Иванов</td>\n",
       "      <td>Базы данных</td>\n",
       "      <td>введение в построение баз данных предприятий</td>\n",
       "    </tr>\n",
       "  </tbody>\n",
       "</table>\n",
       "</div>"
      ],
      "text/plain": [
       "  subject_id        Имя     Фамилия       название курса  \\\n",
       "0     563522     Леонид    Долматов  Теория вероятностей   \n",
       "1     563522  Станислав         Лем  Теория вероятностей   \n",
       "2     112234   Светлана      Герман     Программирование   \n",
       "3     112234   Всеволод    Кудряшев     Программирование   \n",
       "4     112234       Иван     Воронов     Программирование   \n",
       "5     865463    Дмитрий  Долгорукий        Анализ данных   \n",
       "6     657433       Юрий      Иванов          Базы данных   \n",
       "\n",
       "                                      описание курса  \n",
       "0  методики расчета и обработки статистических да...  \n",
       "1  методики расчета и обработки статистических да...  \n",
       "2                            расширенный курс по С#   \n",
       "3                            расширенный курс по С#   \n",
       "4                            расширенный курс по С#   \n",
       "5                             анализ фондовых рынков  \n",
       "6       введение в построение баз данных предприятий  "
      ]
     },
     "execution_count": 72,
     "metadata": {},
     "output_type": "execute_result"
    }
   ],
   "source": [
    "# Объедините два датафрейма по столбцу subject_id (справа)\n",
    "names.merge(subjects,on='subject_id',how='right')"
   ]
  },
  {
   "cell_type": "code",
   "execution_count": 75,
   "metadata": {
    "colab": {
     "base_uri": "https://localhost:8080/",
     "height": 269
    },
    "id": "470-Ex1jnL_U",
    "outputId": "d616338d-6460-4425-f448-c6e394692a5b"
   },
   "outputs": [
    {
     "data": {
      "text/html": [
       "<div>\n",
       "<style scoped>\n",
       "    .dataframe tbody tr th:only-of-type {\n",
       "        vertical-align: middle;\n",
       "    }\n",
       "\n",
       "    .dataframe tbody tr th {\n",
       "        vertical-align: top;\n",
       "    }\n",
       "\n",
       "    .dataframe thead th {\n",
       "        text-align: right;\n",
       "    }\n",
       "</style>\n",
       "<table border=\"1\" class=\"dataframe\">\n",
       "  <thead>\n",
       "    <tr style=\"text-align: right;\">\n",
       "      <th></th>\n",
       "      <th>subject_id</th>\n",
       "      <th>Имя</th>\n",
       "      <th>Фамилия</th>\n",
       "      <th>название курса</th>\n",
       "      <th>описание курса</th>\n",
       "    </tr>\n",
       "  </thead>\n",
       "  <tbody>\n",
       "    <tr>\n",
       "      <th>0</th>\n",
       "      <td>563522</td>\n",
       "      <td>Леонид</td>\n",
       "      <td>Долматов</td>\n",
       "      <td>Теория вероятностей</td>\n",
       "      <td>методики расчета и обработки статистических да...</td>\n",
       "    </tr>\n",
       "    <tr>\n",
       "      <th>1</th>\n",
       "      <td>563522</td>\n",
       "      <td>Станислав</td>\n",
       "      <td>Лем</td>\n",
       "      <td>Теория вероятностей</td>\n",
       "      <td>методики расчета и обработки статистических да...</td>\n",
       "    </tr>\n",
       "    <tr>\n",
       "      <th>2</th>\n",
       "      <td>657433</td>\n",
       "      <td>Юрий</td>\n",
       "      <td>Иванов</td>\n",
       "      <td>Базы данных</td>\n",
       "      <td>введение в построение баз данных предприятий</td>\n",
       "    </tr>\n",
       "    <tr>\n",
       "      <th>3</th>\n",
       "      <td>112234</td>\n",
       "      <td>Светлана</td>\n",
       "      <td>Герман</td>\n",
       "      <td>Программирование</td>\n",
       "      <td>расширенный курс по С#</td>\n",
       "    </tr>\n",
       "    <tr>\n",
       "      <th>4</th>\n",
       "      <td>112234</td>\n",
       "      <td>Всеволод</td>\n",
       "      <td>Кудряшев</td>\n",
       "      <td>Программирование</td>\n",
       "      <td>расширенный курс по С#</td>\n",
       "    </tr>\n",
       "    <tr>\n",
       "      <th>5</th>\n",
       "      <td>112234</td>\n",
       "      <td>Иван</td>\n",
       "      <td>Воронов</td>\n",
       "      <td>Программирование</td>\n",
       "      <td>расширенный курс по С#</td>\n",
       "    </tr>\n",
       "    <tr>\n",
       "      <th>6</th>\n",
       "      <td>865463</td>\n",
       "      <td>Дмитрий</td>\n",
       "      <td>Долгорукий</td>\n",
       "      <td>Анализ данных</td>\n",
       "      <td>анализ фондовых рынков</td>\n",
       "    </tr>\n",
       "  </tbody>\n",
       "</table>\n",
       "</div>"
      ],
      "text/plain": [
       "  subject_id        Имя     Фамилия       название курса  \\\n",
       "0     563522     Леонид    Долматов  Теория вероятностей   \n",
       "1     563522  Станислав         Лем  Теория вероятностей   \n",
       "2     657433       Юрий      Иванов          Базы данных   \n",
       "3     112234   Светлана      Герман     Программирование   \n",
       "4     112234   Всеволод    Кудряшев     Программирование   \n",
       "5     112234       Иван     Воронов     Программирование   \n",
       "6     865463    Дмитрий  Долгорукий        Анализ данных   \n",
       "\n",
       "                                      описание курса  \n",
       "0  методики расчета и обработки статистических да...  \n",
       "1  методики расчета и обработки статистических да...  \n",
       "2       введение в построение баз данных предприятий  \n",
       "3                            расширенный курс по С#   \n",
       "4                            расширенный курс по С#   \n",
       "5                            расширенный курс по С#   \n",
       "6                             анализ фондовых рынков  "
      ]
     },
     "execution_count": 75,
     "metadata": {},
     "output_type": "execute_result"
    }
   ],
   "source": [
    "# Объедините два датафрейма по столбцу subject_id (внутреннее пересечение)\n",
    "names.merge(subjects,on='subject_id',how='inner')"
   ]
  },
  {
   "cell_type": "code",
   "execution_count": 76,
   "metadata": {
    "colab": {
     "base_uri": "https://localhost:8080/",
     "height": 300
    },
    "id": "S7Hqzy22nMGw",
    "outputId": "57c08ec2-6d27-455f-ad1a-36b00ea4d6a4"
   },
   "outputs": [
    {
     "data": {
      "text/html": [
       "<div>\n",
       "<style scoped>\n",
       "    .dataframe tbody tr th:only-of-type {\n",
       "        vertical-align: middle;\n",
       "    }\n",
       "\n",
       "    .dataframe tbody tr th {\n",
       "        vertical-align: top;\n",
       "    }\n",
       "\n",
       "    .dataframe thead th {\n",
       "        text-align: right;\n",
       "    }\n",
       "</style>\n",
       "<table border=\"1\" class=\"dataframe\">\n",
       "  <thead>\n",
       "    <tr style=\"text-align: right;\">\n",
       "      <th></th>\n",
       "      <th>subject_id</th>\n",
       "      <th>Имя</th>\n",
       "      <th>Фамилия</th>\n",
       "      <th>название курса</th>\n",
       "      <th>описание курса</th>\n",
       "    </tr>\n",
       "  </thead>\n",
       "  <tbody>\n",
       "    <tr>\n",
       "      <th>0</th>\n",
       "      <td>563522</td>\n",
       "      <td>Леонид</td>\n",
       "      <td>Долматов</td>\n",
       "      <td>Теория вероятностей</td>\n",
       "      <td>методики расчета и обработки статистических да...</td>\n",
       "    </tr>\n",
       "    <tr>\n",
       "      <th>1</th>\n",
       "      <td>563522</td>\n",
       "      <td>Станислав</td>\n",
       "      <td>Лем</td>\n",
       "      <td>Теория вероятностей</td>\n",
       "      <td>методики расчета и обработки статистических да...</td>\n",
       "    </tr>\n",
       "    <tr>\n",
       "      <th>2</th>\n",
       "      <td>657433</td>\n",
       "      <td>Юрий</td>\n",
       "      <td>Иванов</td>\n",
       "      <td>Базы данных</td>\n",
       "      <td>введение в построение баз данных предприятий</td>\n",
       "    </tr>\n",
       "    <tr>\n",
       "      <th>3</th>\n",
       "      <td>112234</td>\n",
       "      <td>Светлана</td>\n",
       "      <td>Герман</td>\n",
       "      <td>Программирование</td>\n",
       "      <td>расширенный курс по С#</td>\n",
       "    </tr>\n",
       "    <tr>\n",
       "      <th>4</th>\n",
       "      <td>112234</td>\n",
       "      <td>Всеволод</td>\n",
       "      <td>Кудряшев</td>\n",
       "      <td>Программирование</td>\n",
       "      <td>расширенный курс по С#</td>\n",
       "    </tr>\n",
       "    <tr>\n",
       "      <th>5</th>\n",
       "      <td>112234</td>\n",
       "      <td>Иван</td>\n",
       "      <td>Воронов</td>\n",
       "      <td>Программирование</td>\n",
       "      <td>расширенный курс по С#</td>\n",
       "    </tr>\n",
       "    <tr>\n",
       "      <th>6</th>\n",
       "      <td>865463</td>\n",
       "      <td>Дмитрий</td>\n",
       "      <td>Долгорукий</td>\n",
       "      <td>Анализ данных</td>\n",
       "      <td>анализ фондовых рынков</td>\n",
       "    </tr>\n",
       "    <tr>\n",
       "      <th>7</th>\n",
       "      <td>634366</td>\n",
       "      <td>Виктор</td>\n",
       "      <td>Тепляков</td>\n",
       "      <td>NaN</td>\n",
       "      <td>NaN</td>\n",
       "    </tr>\n",
       "  </tbody>\n",
       "</table>\n",
       "</div>"
      ],
      "text/plain": [
       "  subject_id        Имя     Фамилия       название курса  \\\n",
       "0     563522     Леонид    Долматов  Теория вероятностей   \n",
       "1     563522  Станислав         Лем  Теория вероятностей   \n",
       "2     657433       Юрий      Иванов          Базы данных   \n",
       "3     112234   Светлана      Герман     Программирование   \n",
       "4     112234   Всеволод    Кудряшев     Программирование   \n",
       "5     112234       Иван     Воронов     Программирование   \n",
       "6     865463    Дмитрий  Долгорукий        Анализ данных   \n",
       "7     634366     Виктор    Тепляков                  NaN   \n",
       "\n",
       "                                      описание курса  \n",
       "0  методики расчета и обработки статистических да...  \n",
       "1  методики расчета и обработки статистических да...  \n",
       "2       введение в построение баз данных предприятий  \n",
       "3                            расширенный курс по С#   \n",
       "4                            расширенный курс по С#   \n",
       "5                            расширенный курс по С#   \n",
       "6                             анализ фондовых рынков  \n",
       "7                                                NaN  "
      ]
     },
     "execution_count": 76,
     "metadata": {},
     "output_type": "execute_result"
    }
   ],
   "source": [
    "# Объедините два датафрейма по столбцу subject_id (внешний)\n",
    "names.merge(subjects,on='subject_id',how='outer')"
   ]
  },
  {
   "cell_type": "code",
   "execution_count": 80,
   "metadata": {
    "id": "A1VuG0VGCfp3"
   },
   "outputs": [],
   "source": [
    "#Добавьте в names еще 2 студентов\n",
    "new_row = {'subject_id':'563522','Имя':'Василий','Фамилия':'Теркин'}\n",
    "names = names.append(new_row,ignore_index=True)"
   ]
  },
  {
   "cell_type": "code",
   "execution_count": 81,
   "metadata": {
    "id": "lK6zGTn_eXI1"
   },
   "outputs": [
    {
     "data": {
      "text/html": [
       "<div>\n",
       "<style scoped>\n",
       "    .dataframe tbody tr th:only-of-type {\n",
       "        vertical-align: middle;\n",
       "    }\n",
       "\n",
       "    .dataframe tbody tr th {\n",
       "        vertical-align: top;\n",
       "    }\n",
       "\n",
       "    .dataframe thead th {\n",
       "        text-align: right;\n",
       "    }\n",
       "</style>\n",
       "<table border=\"1\" class=\"dataframe\">\n",
       "  <thead>\n",
       "    <tr style=\"text-align: right;\">\n",
       "      <th></th>\n",
       "      <th>subject_id</th>\n",
       "      <th>Имя</th>\n",
       "      <th>Фамилия</th>\n",
       "    </tr>\n",
       "  </thead>\n",
       "  <tbody>\n",
       "    <tr>\n",
       "      <th>0</th>\n",
       "      <td>563522</td>\n",
       "      <td>Леонид</td>\n",
       "      <td>Долматов</td>\n",
       "    </tr>\n",
       "    <tr>\n",
       "      <th>1</th>\n",
       "      <td>657433</td>\n",
       "      <td>Юрий</td>\n",
       "      <td>Иванов</td>\n",
       "    </tr>\n",
       "    <tr>\n",
       "      <th>2</th>\n",
       "      <td>112234</td>\n",
       "      <td>Светлана</td>\n",
       "      <td>Герман</td>\n",
       "    </tr>\n",
       "    <tr>\n",
       "      <th>3</th>\n",
       "      <td>865463</td>\n",
       "      <td>Дмитрий</td>\n",
       "      <td>Долгорукий</td>\n",
       "    </tr>\n",
       "    <tr>\n",
       "      <th>4</th>\n",
       "      <td>563522</td>\n",
       "      <td>Станислав</td>\n",
       "      <td>Лем</td>\n",
       "    </tr>\n",
       "    <tr>\n",
       "      <th>5</th>\n",
       "      <td>112234</td>\n",
       "      <td>Всеволод</td>\n",
       "      <td>Кудряшев</td>\n",
       "    </tr>\n",
       "    <tr>\n",
       "      <th>6</th>\n",
       "      <td>634366</td>\n",
       "      <td>Виктор</td>\n",
       "      <td>Тепляков</td>\n",
       "    </tr>\n",
       "    <tr>\n",
       "      <th>7</th>\n",
       "      <td>112234</td>\n",
       "      <td>Иван</td>\n",
       "      <td>Воронов</td>\n",
       "    </tr>\n",
       "    <tr>\n",
       "      <th>8</th>\n",
       "      <td>563522</td>\n",
       "      <td>Василий</td>\n",
       "      <td>Теркин</td>\n",
       "    </tr>\n",
       "  </tbody>\n",
       "</table>\n",
       "</div>"
      ],
      "text/plain": [
       "  subject_id        Имя     Фамилия\n",
       "0     563522     Леонид    Долматов\n",
       "1     657433       Юрий      Иванов\n",
       "2     112234   Светлана      Герман\n",
       "3     865463    Дмитрий  Долгорукий\n",
       "4     563522  Станислав         Лем\n",
       "5     112234   Всеволод    Кудряшев\n",
       "6     634366     Виктор    Тепляков\n",
       "7     112234       Иван     Воронов\n",
       "8     563522    Василий      Теркин"
      ]
     },
     "execution_count": 81,
     "metadata": {},
     "output_type": "execute_result"
    }
   ],
   "source": [
    "names"
   ]
  },
  {
   "cell_type": "code",
   "execution_count": 82,
   "metadata": {},
   "outputs": [],
   "source": [
    "new_row = {'subject_id':'563522','Имя':'Александра','Фамилия':'Власова'}\n",
    "names = names.append(new_row,ignore_index=True)"
   ]
  },
  {
   "cell_type": "code",
   "execution_count": 83,
   "metadata": {},
   "outputs": [
    {
     "data": {
      "text/html": [
       "<div>\n",
       "<style scoped>\n",
       "    .dataframe tbody tr th:only-of-type {\n",
       "        vertical-align: middle;\n",
       "    }\n",
       "\n",
       "    .dataframe tbody tr th {\n",
       "        vertical-align: top;\n",
       "    }\n",
       "\n",
       "    .dataframe thead th {\n",
       "        text-align: right;\n",
       "    }\n",
       "</style>\n",
       "<table border=\"1\" class=\"dataframe\">\n",
       "  <thead>\n",
       "    <tr style=\"text-align: right;\">\n",
       "      <th></th>\n",
       "      <th>subject_id</th>\n",
       "      <th>Имя</th>\n",
       "      <th>Фамилия</th>\n",
       "    </tr>\n",
       "  </thead>\n",
       "  <tbody>\n",
       "    <tr>\n",
       "      <th>0</th>\n",
       "      <td>563522</td>\n",
       "      <td>Леонид</td>\n",
       "      <td>Долматов</td>\n",
       "    </tr>\n",
       "    <tr>\n",
       "      <th>1</th>\n",
       "      <td>657433</td>\n",
       "      <td>Юрий</td>\n",
       "      <td>Иванов</td>\n",
       "    </tr>\n",
       "    <tr>\n",
       "      <th>2</th>\n",
       "      <td>112234</td>\n",
       "      <td>Светлана</td>\n",
       "      <td>Герман</td>\n",
       "    </tr>\n",
       "    <tr>\n",
       "      <th>3</th>\n",
       "      <td>865463</td>\n",
       "      <td>Дмитрий</td>\n",
       "      <td>Долгорукий</td>\n",
       "    </tr>\n",
       "    <tr>\n",
       "      <th>4</th>\n",
       "      <td>563522</td>\n",
       "      <td>Станислав</td>\n",
       "      <td>Лем</td>\n",
       "    </tr>\n",
       "    <tr>\n",
       "      <th>5</th>\n",
       "      <td>112234</td>\n",
       "      <td>Всеволод</td>\n",
       "      <td>Кудряшев</td>\n",
       "    </tr>\n",
       "    <tr>\n",
       "      <th>6</th>\n",
       "      <td>634366</td>\n",
       "      <td>Виктор</td>\n",
       "      <td>Тепляков</td>\n",
       "    </tr>\n",
       "    <tr>\n",
       "      <th>7</th>\n",
       "      <td>112234</td>\n",
       "      <td>Иван</td>\n",
       "      <td>Воронов</td>\n",
       "    </tr>\n",
       "    <tr>\n",
       "      <th>8</th>\n",
       "      <td>563522</td>\n",
       "      <td>Василий</td>\n",
       "      <td>Теркин</td>\n",
       "    </tr>\n",
       "    <tr>\n",
       "      <th>9</th>\n",
       "      <td>563522</td>\n",
       "      <td>Александра</td>\n",
       "      <td>Власова</td>\n",
       "    </tr>\n",
       "  </tbody>\n",
       "</table>\n",
       "</div>"
      ],
      "text/plain": [
       "  subject_id         Имя     Фамилия\n",
       "0     563522      Леонид    Долматов\n",
       "1     657433        Юрий      Иванов\n",
       "2     112234    Светлана      Герман\n",
       "3     865463     Дмитрий  Долгорукий\n",
       "4     563522   Станислав         Лем\n",
       "5     112234    Всеволод    Кудряшев\n",
       "6     634366      Виктор    Тепляков\n",
       "7     112234        Иван     Воронов\n",
       "8     563522     Василий      Теркин\n",
       "9     563522  Александра     Власова"
      ]
     },
     "execution_count": 83,
     "metadata": {},
     "output_type": "execute_result"
    }
   ],
   "source": [
    "names"
   ]
  },
  {
   "cell_type": "code",
   "execution_count": null,
   "metadata": {},
   "outputs": [],
   "source": [
    "#Вывести круговую диаграмму колонки subject_id"
   ]
  },
  {
   "cell_type": "code",
   "execution_count": 97,
   "metadata": {
    "id": "rCYTeYt0iFkg"
   },
   "outputs": [],
   "source": [
    "y = names['subject_id'].value_counts(sort=True,ascending=True)"
   ]
  },
  {
   "cell_type": "code",
   "execution_count": 98,
   "metadata": {},
   "outputs": [
    {
     "data": {
      "text/plain": [
       "657433    1\n",
       "865463    1\n",
       "634366    1\n",
       "112234    3\n",
       "563522    4\n",
       "Name: subject_id, dtype: int64"
      ]
     },
     "execution_count": 98,
     "metadata": {},
     "output_type": "execute_result"
    }
   ],
   "source": [
    "y"
   ]
  },
  {
   "cell_type": "code",
   "execution_count": 86,
   "metadata": {},
   "outputs": [
    {
     "data": {
      "text/plain": [
       "pandas.core.series.Series"
      ]
     },
     "execution_count": 86,
     "metadata": {},
     "output_type": "execute_result"
    }
   ],
   "source": [
    "type(y)"
   ]
  },
  {
   "cell_type": "code",
   "execution_count": 88,
   "metadata": {
    "colab": {
     "base_uri": "https://localhost:8080/"
    },
    "id": "Xox3uhzijU9u",
    "outputId": "f879de7b-cdc7-4b6f-c09f-cde5be04b66a"
   },
   "outputs": [
    {
     "data": {
      "text/plain": [
       "Index(['563522', '112234', '657433', '865463', '634366'], dtype='object')"
      ]
     },
     "execution_count": 88,
     "metadata": {},
     "output_type": "execute_result"
    }
   ],
   "source": [
    "y.index"
   ]
  },
  {
   "cell_type": "code",
   "execution_count": 92,
   "metadata": {
    "colab": {
     "base_uri": "https://localhost:8080/",
     "height": 248
    },
    "id": "wODXwV1Ye2Uj",
    "outputId": "db62066d-c880-4876-bef2-96a9780cbc12"
   },
   "outputs": [
    {
     "data": {
      "image/png": "[encoded data removed]",
      "text/plain": [
       "<Figure size 432x288 with 1 Axes>"
      ]
     },
     "metadata": {},
     "output_type": "display_data"
    }
   ],
   "source": [
    "plt.pie(y,labels=y.index,autopct='%1.1f%%') # autopct='%1.1f%%' процентное соотношение\n",
    "plt.show()"
   ]
  }
 ],
 "metadata": {
  "colab": {
   "collapsed_sections": [],
   "name": "Автоматизация_рутинных_процессов_7_лабораторная_работа",
   "provenance": []
  },
  "kernelspec": {
   "display_name": "Python 3 (ipykernel)",
   "language": "python",
   "name": "python3"
  },
  "language_info": {
   "codemirror_mode": {
    "name": "ipython",
    "version": 3
   },
   "file_extension": ".py",
   "mimetype": "text/x-python",
   "name": "python",
   "nbconvert_exporter": "python",
   "pygments_lexer": "ipython3",
   "version": "3.9.12"
  }
 },
 "nbformat": 4,
 "nbformat_minor": 1
}
