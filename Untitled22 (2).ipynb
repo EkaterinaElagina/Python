{
 "cells": [
  {
   "cell_type": "markdown",
   "id": "e7b77d30",
   "metadata": {},
   "source": [
    "## Задание 1\n",
    "Напишите функцию date_range, которая возвращает список дат за период от start_date до end_date. \n",
    "Даты должны вводиться в формате YYYY-MM-DD.\n",
    "В случае неверного формата или при start_date > end_date должен возвращаться пустой список."
   ]
  },
  {
   "cell_type": "code",
   "execution_count": 4,
   "id": "01f58c2f",
   "metadata": {},
   "outputs": [],
   "source": [
    "from datetime import datetime\n",
    "from datetime import timedelta"
   ]
  },
  {
   "cell_type": "code",
   "execution_count": 5,
   "id": "9c05e615",
   "metadata": {},
   "outputs": [],
   "source": [
    "def date_range(start_date, end_date):\n",
    "    date_list = []\n",
    "    try:\n",
    "        start_date = datetime.strptime(start_date, '%Y-%m-%d') \n",
    "        end_date = datetime.strptime(end_date, '%Y-%m-%d')\n",
    "        current_data = start_date\n",
    "        if start_date < end_date:\n",
    "            while current_data <= end_date:\n",
    "                date_list.append(current_data.strftime('%Y-%m-%d'))\n",
    "                current_data += timedelta(days=1)\n",
    "            print('Список дат:')\n",
    "            print('\\n'.join(date_list))\n",
    "        else:\n",
    "          print(date_list)\n",
    "    except:\n",
    "        print(date_list)"
   ]
  },
  {
   "cell_type": "markdown",
   "id": "0e2b5482",
   "metadata": {},
   "source": [
    "Преобразование input() в дату через datetime.strptime() нужно делать внутри блока try,\n",
    "в иначе блок except не будет работать, \n",
    "в текущей интепретации при неверном формате даты, except не работает."
   ]
  },
  {
   "cell_type": "code",
   "execution_count": 6,
   "id": "5d2f7228",
   "metadata": {},
   "outputs": [
    {
     "name": "stdout",
     "output_type": "stream",
     "text": [
      "[]\n",
      "None\n"
     ]
    }
   ],
   "source": [
    "print(date_range('2018-10-22', '2018-2-24'))"
   ]
  },
  {
   "cell_type": "markdown",
   "id": "27a66ad7",
   "metadata": {},
   "source": [
    "## Задание 2\n",
    "Ваш коллега прислал код функции:"
   ]
  },
  {
   "cell_type": "code",
   "execution_count": null,
   "id": "85803f0e",
   "metadata": {},
   "outputs": [],
   "source": [
    "DEFAULT_USER_COUNT = 3\n",
    "\n",
    "def delete_and_return_last_user(region, default_list=['A100', 'A101', 'A102']):\n",
    "    element_to_delete = default_list[-1]\n",
    "    default_list.remove(element_to_delete)\n",
    "    return default_list[DEFAULT_USER_COUNT-2]\n",
    "\n",
    "#Удаляет из списка default_list последнего пользователя и возвращает ID нового последнего пользователя.\n"
   ]
  },
  {
   "cell_type": "markdown",
   "id": "d2af0570",
   "metadata": {},
   "source": [
    "При однократном вызове этой функции все работает корректно:"
   ]
  },
  {
   "cell_type": "code",
   "execution_count": null,
   "id": "6dec1b36",
   "metadata": {},
   "outputs": [],
   "source": [
    "delete_and_return_last_user(1)"
   ]
  },
  {
   "cell_type": "code",
   "execution_count": null,
   "id": "05b1ebc5",
   "metadata": {},
   "outputs": [],
   "source": [
    "delete_and_return_last_user(1)"
   ]
  },
  {
   "cell_type": "markdown",
   "id": "afcdab71",
   "metadata": {},
   "source": [
    "Однако, при повторном вызове получается ошибка IndexError: list index out of range.\n",
    "\n",
    "1. Что значит ошибка list index out of range?\n",
    "2. Почему при первом запуске функция работает корректно, а при втором - нет?\n"
   ]
  },
  {
   "cell_type": "markdown",
   "id": "3110545f",
   "metadata": {},
   "source": [
    "Ответ:\n",
    "    1. Попытка обратиться к элементу списка с несуществующим индексом.\n",
    "    2. Потому что при первом вызове удалился элемент с номером 1 (в конкретном случае), а DEFAULT_USER_COUNT = 3, т.к. 3-2 = 1, происходит попытка обратиться к элементу с номер 1, которого уже не существует."
   ]
  }
 ],
 "metadata": {
  "kernelspec": {
   "display_name": "Python 3 (ipykernel)",
   "language": "python",
   "name": "python3"
  },
  "language_info": {
   "codemirror_mode": {
    "name": "ipython",
    "version": 3
   },
   "file_extension": ".py",
   "mimetype": "text/x-python",
   "name": "python",
   "nbconvert_exporter": "python",
   "pygments_lexer": "ipython3",
   "version": "3.9.12"
  }
 },
 "nbformat": 4,
 "nbformat_minor": 5
}
