{
 "cells": [
  {
   "cell_type": "markdown",
   "id": "e7b77d30",
   "metadata": {},
   "source": [
    "## Задание 1\n",
    "Напишите функцию date_range, которая возвращает список дат за период от start_date до end_date. \n",
    "Даты должны вводиться в формате YYYY-MM-DD.\n",
    "В случае неверного формата или при start_date > end_date должен возвращаться пустой список."
   ]
  },
  {
   "cell_type": "code",
   "execution_count": 2,
   "id": "01f58c2f",
   "metadata": {},
   "outputs": [],
   "source": [
    "from datetime import datetime\n",
    "from datetime import timedelta"
   ]
  },
  {
   "cell_type": "code",
   "execution_count": 3,
   "id": "9c05e615",
   "metadata": {},
   "outputs": [],
   "source": [
    "def date_range(start_date, end_date):\n",
    "    date_list = []\n",
    "    try:\n",
    "        start_date = datetime.strptime(start_date, '%Y-%m-%d') \n",
    "        end_date = datetime.strptime(end_date, '%Y-%m-%d')\n",
    "        current_data = start_date\n",
    "        if start_date < end_date:\n",
    "            while current_data <= end_date:\n",
    "                date_list.append(current_data.strftime('%Y-%m-%d'))\n",
    "                current_data += timedelta(days=1)\n",
    "            print('Список дат:')\n",
    "            print('\\n'.join(date_list))\n",
    "        else:\n",
    "          print(date_list)\n",
    "    except:\n",
    "        print(date_list)"
   ]
  },
  {
   "cell_type": "markdown",
   "id": "0e2b5482",
   "metadata": {},
   "source": [
    "Преобразование input() в дату через datetime.strptime() нужно делать внутри блока try,\n",
    "в иначе блок except не будет работать, \n",
    "в текущей интепретации при неверном формате даты, except не работает."
   ]
  },
  {
   "cell_type": "code",
   "execution_count": 4,
   "id": "5d2f7228",
   "metadata": {},
   "outputs": [
    {
     "name": "stdout",
     "output_type": "stream",
     "text": [
      "[]\n",
      "None\n"
     ]
    }
   ],
   "source": [
    "print(date_range('2018-10-22', '2018-2-24'))"
   ]
  },
  {
   "cell_type": "markdown",
   "id": "0b07e619",
   "metadata": {},
   "source": [
    "## Задание 2\n",
    "Напишите функцию, которая проверяет дату в формате YYYY-MM-DD на корректность. Функция должна возвращать True, если дата корректна, или False, если она некорректна.\n",
    "Проверьте даты из массива dateList на корректность.\n",
    "\n",
    "Формат вывода\n",
    "Cтроки (по количеству элементов в массиве), содержащие слово True или False.\n",
    "\n",
    "Для сдачи программы необходимо точно соблюдать требования к формату вывода, иначе тренажер не сможет проверить ваше решение и выдаст ошибку. Решение сдается для данных, которые указаны в начальном коде задания\n",
    "\n",
    "Пример вывода:\n",
    "True\n",
    "True\n",
    "False\n",
    "True\n",
    "\n",
    "В примере указаны случайные данные, которые демострируют правильный формат вывода, а не ответ на саму задачу.`"
   ]
  },
  {
   "cell_type": "code",
   "execution_count": 5,
   "id": "e147b04a",
   "metadata": {},
   "outputs": [
    {
     "name": "stdout",
     "output_type": "stream",
     "text": [
      "True\n",
      "False\n",
      "False\n",
      "True\n"
     ]
    }
   ],
   "source": [
    "dateList = ['2022-04-02', '2022-19-12', '2022-10-40', '3022-08-06']\n",
    "from datetime import datetime\n",
    "def check(dateList):\n",
    "    for i in dateList:\n",
    "        try:\n",
    "            date_string = datetime.strptime(i, '%Y-%m-%d')\n",
    "            print(True)\n",
    "        except:\n",
    "            print(False)\n",
    "            pass\n",
    "check(dateList)"
   ]
  },
  {
   "cell_type": "markdown",
   "id": "27a66ad7",
   "metadata": {},
   "source": [
    "## Задание 3\n",
    "Ваш коллега прислал код функции:"
   ]
  },
  {
   "cell_type": "code",
   "execution_count": 6,
   "id": "85803f0e",
   "metadata": {},
   "outputs": [],
   "source": [
    "DEFAULT_USER_COUNT = 3\n",
    "\n",
    "def delete_and_return_last_user(region, default_list=['A100', 'A101', 'A102']):\n",
    "    element_to_delete = default_list[-1]\n",
    "    default_list.remove(element_to_delete)\n",
    "    return default_list[DEFAULT_USER_COUNT-2]\n",
    "\n",
    "#Удаляет из списка default_list последнего пользователя и возвращает ID нового последнего пользователя.\n"
   ]
  },
  {
   "cell_type": "markdown",
   "id": "d2af0570",
   "metadata": {},
   "source": [
    "При однократном вызове этой функции все работает корректно:"
   ]
  },
  {
   "cell_type": "code",
   "execution_count": 7,
   "id": "6dec1b36",
   "metadata": {},
   "outputs": [
    {
     "data": {
      "text/plain": [
       "'A101'"
      ]
     },
     "execution_count": 7,
     "metadata": {},
     "output_type": "execute_result"
    }
   ],
   "source": [
    "delete_and_return_last_user(1)"
   ]
  },
  {
   "cell_type": "code",
   "execution_count": 8,
   "id": "05b1ebc5",
   "metadata": {},
   "outputs": [
    {
     "ename": "IndexError",
     "evalue": "list index out of range",
     "output_type": "error",
     "traceback": [
      "\u001b[1;31m---------------------------------------------------------------------------\u001b[0m",
      "\u001b[1;31mIndexError\u001b[0m                                Traceback (most recent call last)",
      "Input \u001b[1;32mIn [8]\u001b[0m, in \u001b[0;36m<cell line: 1>\u001b[1;34m()\u001b[0m\n\u001b[1;32m----> 1\u001b[0m \u001b[43mdelete_and_return_last_user\u001b[49m\u001b[43m(\u001b[49m\u001b[38;5;241;43m1\u001b[39;49m\u001b[43m)\u001b[49m\n",
      "Input \u001b[1;32mIn [6]\u001b[0m, in \u001b[0;36mdelete_and_return_last_user\u001b[1;34m(region, default_list)\u001b[0m\n\u001b[0;32m      4\u001b[0m element_to_delete \u001b[38;5;241m=\u001b[39m default_list[\u001b[38;5;241m-\u001b[39m\u001b[38;5;241m1\u001b[39m]\n\u001b[0;32m      5\u001b[0m default_list\u001b[38;5;241m.\u001b[39mremove(element_to_delete)\n\u001b[1;32m----> 6\u001b[0m \u001b[38;5;28;01mreturn\u001b[39;00m \u001b[43mdefault_list\u001b[49m\u001b[43m[\u001b[49m\u001b[43mDEFAULT_USER_COUNT\u001b[49m\u001b[38;5;241;43m-\u001b[39;49m\u001b[38;5;241;43m2\u001b[39;49m\u001b[43m]\u001b[49m\n",
      "\u001b[1;31mIndexError\u001b[0m: list index out of range"
     ]
    }
   ],
   "source": [
    "delete_and_return_last_user(1)"
   ]
  },
  {
   "cell_type": "markdown",
   "id": "afcdab71",
   "metadata": {},
   "source": [
    "Однако, при повторном вызове получается ошибка IndexError: list index out of range.\n",
    "\n",
    "1. Что значит ошибка list index out of range?\n",
    "2. Почему при первом запуске функция работает корректно, а при втором - нет?\n"
   ]
  },
  {
   "cell_type": "markdown",
   "id": "3110545f",
   "metadata": {},
   "source": [
    "Ответ:\n",
    "    1. Попытка обратиться к элементу списка с несуществующим индексом.\n",
    "    2. Потому что при первом вызове удалился элемент с номером 1 (в конкретном случае), а DEFAULT_USER_COUNT = 3, т.к. 3-2 = 1, происходит попытка обратиться к элементу с номер 1, которого уже не существует."
   ]
  }
 ],
 "metadata": {
  "kernelspec": {
   "display_name": "Python 3 (ipykernel)",
   "language": "python",
   "name": "python3"
  },
  "language_info": {
   "codemirror_mode": {
    "name": "ipython",
    "version": 3
   },
   "file_extension": ".py",
   "mimetype": "text/x-python",
   "name": "python",
   "nbconvert_exporter": "python",
   "pygments_lexer": "ipython3",
   "version": "3.9.12"
  }
 },
 "nbformat": 4,
 "nbformat_minor": 5
}
