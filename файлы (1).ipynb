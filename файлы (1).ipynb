{
 "cells": [
  {
   "cell_type": "markdown",
   "id": "e5058195",
   "metadata": {},
   "source": [
    "1. Переведите содержимое файла purchase_log.txt в словарь purchases вида:\n",
    "{‘1840e0b9d4’: ‘Продукты’, ...}\n",
    "\n",
    "2. Для каждого user_id в файле visit_log.csv определите третий столбец с категорией покупки (если покупка была, сам файл visit_log.csv изменять не надо). Запишите в файл funnel.csv визиты из файла visit_log.csv, в которых были покупки с указанием категории.\n",
    "\n",
    "Учтите условия на данные:\n",
    "\n",
    "содержимое purchase_log.txt помещается в оперативную память компьютера\n",
    "содержимое visit_log.csv - нет; используйте только построчную обработку этого файла"
   ]
  },
  {
   "cell_type": "code",
   "execution_count": null,
   "id": "7c4d31ce",
   "metadata": {},
   "outputs": [],
   "source": [
    "import json"
   ]
  },
  {
   "cell_type": "code",
   "execution_count": null,
   "id": "f707526e",
   "metadata": {},
   "outputs": [],
   "source": [
    "with open('C:/Users/User/Desktop/neto/purchase_log.txt', encoding = 'utf-8') as f:\n",
    "    for line in f.readlines(): \n",
    "        dict_ = json.loads(line)\n",
    "        print(dict_)"
   ]
  },
  {
   "cell_type": "code",
   "execution_count": null,
   "id": "f5a3d4f1",
   "metadata": {},
   "outputs": [],
   "source": [
    "with open('C:/Users/User/Desktop/neto/visit_log.csv') as log:\n",
    "    for line in log.readlines():\n",
    "        print(line, type)"
   ]
  },
  {
   "cell_type": "code",
   "execution_count": null,
   "id": "a08859ae",
   "metadata": {},
   "outputs": [],
   "source": [
    "with open('C:/Users/User/Desktop/neto/funnel.csv', 'w') as funnel:\n",
    "    with open('C:/Users/User/Desktop/neto/visit_log.csv') as log:\n",
    "        with open('C:/Users/User/Desktop/neto/purchase_log.txt', encoding = 'utf-8') as f:\n",
    "            for line in f.readlines():\n",
    "                dict_ = json.loads(line)\n",
    "                val, categ = dict_.values()\n",
    "                if val in log.readlines():\n",
    "                    funnel.write(dict_, sep = ',')\n",
    "                    funnel.write(categ)"
   ]
  },
  {
   "cell_type": "code",
   "execution_count": null,
   "id": "068637e1",
   "metadata": {},
   "outputs": [],
   "source": []
  }
 ],
 "metadata": {
  "kernelspec": {
   "display_name": "Python 3 (ipykernel)",
   "language": "python",
   "name": "python3"
  },
  "language_info": {
   "codemirror_mode": {
    "name": "ipython",
    "version": 3
   },
   "file_extension": ".py",
   "mimetype": "text/x-python",
   "name": "python",
   "nbconvert_exporter": "python",
   "pygments_lexer": "ipython3",
   "version": "3.9.12"
  }
 },
 "nbformat": 4,
 "nbformat_minor": 5
}
