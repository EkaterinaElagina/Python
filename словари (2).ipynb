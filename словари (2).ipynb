{
 "cells": [
  {
   "cell_type": "markdown",
   "id": "3476651b",
   "metadata": {},
   "source": [
    "## Задание 1\n",
    "Дана переменная, в которой хранится список поисковых запросов пользователя (пример структуры данных приведен ниже).\n",
    "Вам необходимо написать программу, \n",
    "которая выведет на экран распределение количества слов в запросах в требуемом виде."
   ]
  },
  {
   "cell_type": "code",
   "execution_count": 2,
   "id": "d847b97e",
   "metadata": {},
   "outputs": [
    {
     "name": "stdout",
     "output_type": "stream",
     "text": [
      "Поисковых запросов, содержащих 2 слов(а):  0.43 %\n",
      "Поисковых запросов, содержащих 3 слов(а):  0.57 %\n"
     ]
    }
   ],
   "source": [
    "queries = [\n",
    "    'смотреть сериалы онлайн',\n",
    "    'новости спорта',\n",
    "    'афиша кино',\n",
    "    'курс доллара',\n",
    "    'сериалы этим летом',\n",
    "    'курс по питону',\n",
    "    'сериалы про спорт'\n",
    "]\n",
    "\n",
    "len_list = [] #посчитаем длину каждого запроса\n",
    "for string in queries:\n",
    "    count = 0\n",
    "    s = string.split()\n",
    "    len_list.append(len(s))\n",
    "    \n",
    "len_dict = dict(zip(queries, len_list)) #создадим словарь {запрос : его длина} \n",
    "unique = set(len_list) #уникальные длины запросов\n",
    "\n",
    "for i in unique:\n",
    "    count = 0\n",
    "    for j in len_dict.values():\n",
    "        if j == i:\n",
    "            count+= 1\n",
    "    print(f'Поисковых запросов, содержащих {i} слов(а): ', round(count/len(len_list), 2), '%')"
   ]
  },
  {
   "cell_type": "markdown",
   "id": "17a776ae",
   "metadata": {},
   "source": [
    "## Задание 2\n",
    "\n",
    "Дана переменная, в которой хранится информация о затратах и доходе рекламных кампаний по различным источникам. \n",
    "Необходимо дополнить исходную структуру показателем ROI, \n",
    "который рассчитаем по формуле: (revenue / cost - 1) * 100"
   ]
  },
  {
   "cell_type": "code",
   "execution_count": null,
   "id": "5687273f",
   "metadata": {},
   "outputs": [],
   "source": [
    "results = {\n",
    "    'vk': {'revenue': 103, 'cost': 98},\n",
    "    'yandex': {'revenue': 179, 'cost': 153},\n",
    "    'facebook': {'revenue': 103, 'cost': 110},\n",
    "    'adwords': {'revenue': 35, 'cost': 34},\n",
    "    'twitter': {'revenue': 11, 'cost': 24},\n",
    "}\n",
    "\n",
    "for i in results.values():\n",
    "    revenue, cost = i.values()\n",
    "    i['ROI'] = round((revenue / cost - 1) * 100, 2)\n",
    "    \n",
    "results"
   ]
  }
 ],
 "metadata": {
  "kernelspec": {
   "display_name": "Python 3 (ipykernel)",
   "language": "python",
   "name": "python3"
  },
  "language_info": {
   "codemirror_mode": {
    "name": "ipython",
    "version": 3
   },
   "file_extension": ".py",
   "mimetype": "text/x-python",
   "name": "python",
   "nbconvert_exporter": "python",
   "pygments_lexer": "ipython3",
   "version": "3.9.12"
  }
 },
 "nbformat": 4,
 "nbformat_minor": 5
}
