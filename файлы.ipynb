{
 "cells": [
  {
   "cell_type": "markdown",
   "id": "a247be0a",
   "metadata": {
    "id": "a247be0a"
   },
   "source": [
    "1. Переведите содержимое файла purchase_log.txt в словарь purchases вида:\n",
    "{‘1840e0b9d4’: ‘Продукты’, ...}\n",
    "\n",
    "2. Для каждого user_id в файле visit_log.csv определите третий столбец с категорией покупки (если покупка была, сам файл visit_log.csv изменять не надо). Запишите в файл funnel.csv визиты из файла visit_log.csv, в которых были покупки с указанием категории.\n",
    "\n",
    "Учтите условия на данные:\n",
    "\n",
    "содержимое purchase_log.txt помещается в оперативную память компьютера\n",
    "содержимое visit_log.csv - нет; используйте только построчную обработку этого файла"
   ]
  },
  {
   "cell_type": "code",
   "execution_count": null,
   "id": "863a0d6d",
   "metadata": {
    "id": "863a0d6d"
   },
   "outputs": [],
   "source": [
    "import json"
   ]
  },
  {
   "cell_type": "code",
   "execution_count": null,
   "id": "8a01c1c2",
   "metadata": {
    "colab": {
     "base_uri": "https://localhost:8080/",
     "height": 235
    },
    "id": "8a01c1c2",
    "outputId": "71536fdc-011d-4733-c355-ae17bd0ef020"
   },
   "outputs": [],
   "source": [
    "user_categ = {}\n",
    "with open('C:/Users/User/Desktop/neto/purchase_log.txt', encoding = 'utf-8') as f:\n",
    "    for line in f.readlines(5000): \n",
    "        dict_ = json.loads(line)\n",
    "        user, category = dict_.values()\n",
    "        user_categ[user] = category\n",
    "    print (user_categ)"
   ]
  },
  {
   "cell_type": "code",
   "execution_count": null,
   "id": "de2ce8a0",
   "metadata": {
    "colab": {
     "base_uri": "https://localhost:8080/",
     "height": 200
    },
    "id": "de2ce8a0",
    "outputId": "00b0d7b9-41aa-4fb7-80f4-e3fd143cb5e6"
   },
   "outputs": [],
   "source": [
    "with open('C:/Users/User/Desktop/neto/visit_log.csv') as log:\n",
    "    for line in log.readlines():\n",
    "        print(line, type)"
   ]
  },
  {
   "cell_type": "code",
   "execution_count": null,
   "id": "dgfOKgLZmBDX",
   "metadata": {
    "id": "dgfOKgLZmBDX"
   },
   "outputs": [],
   "source": [
    "with open('C:/Users/User/Desktop/neto/visit_log.csv', 'rt') as log:\n",
    "    with open('C:/Users/User/Desktop/neto/funnel.csv', 'wt') as funnel:\n",
    "        for line in log:\n",
    "            user_id, source = line.strip().split(',')\n",
    "            if user_id in user_categ:\n",
    "                my_list = [user_id, source, user_categ[user_id], '\\n']\n",
    "                string = ','.join(my_list)\n",
    "                funnel.write(string)"
   ]
  },
  {
   "cell_type": "markdown",
   "id": "aEDFZcMilzAf",
   "metadata": {
    "id": "aEDFZcMilzAf"
   },
   "source": [
    "Иные варианты решения"
   ]
  },
  {
   "cell_type": "code",
   "execution_count": null,
   "id": "085de8d0",
   "metadata": {
    "id": "085de8d0"
   },
   "outputs": [],
   "source": [
    "with open('C:/Users/User/Desktop/neto/funnel.csv', 'wt') as funnel:\n",
    "    with open('C:/Users/User/Desktop/neto/visit_log.csv', 'rt') as log:\n",
    "        with open('C:/Users/User/Desktop/neto/purchase_log.txt', encoding = 'utf-8') as f:\n",
    "            user_categ = {}\n",
    "            for line in f.readlines(): \n",
    "                dict_ = json.loads(line)\n",
    "                user, category = dict_.values()\n",
    "                user_categ[user] = category\n",
    "            \n",
    "            for line in log.readlines():\n",
    "                user_id, source = line.strip().split(',')\n",
    "                for key in user_categ.keys():\n",
    "                    if key == user_id:\n",
    "                        my_list = [user_id, source, category, '\\n']\n",
    "                        string = ','.join(my_list)\n",
    "                        funnel.write(string)\n",
    "                "
   ]
  },
  {
   "cell_type": "code",
   "execution_count": null,
   "id": "4342a87f",
   "metadata": {
    "colab": {
     "base_uri": "https://localhost:8080/",
     "height": 235
    },
    "id": "4342a87f",
    "outputId": "b9f1a6f0-b3c3-4025-c165-2cfa5e5c029f"
   },
   "outputs": [],
   "source": [
    "with open('C:/Users/User/Desktop/neto/funnel.csv', 'w') as funnel:\n",
    "    with open('C:/Users/User/Desktop/neto/visit_log.csv') as log:\n",
    "        with open('C:/Users/User/Desktop/neto/purchase_log.txt', encoding = 'utf-8') as f:\n",
    "            for line in f.readlines():\n",
    "                dict_ = json.loads(line)\n",
    "                val, categ = dict_.values()\n",
    "                for l in log.readlines():\n",
    "                    log_list = l.splitlines() \n",
    "                    log_list = log_list[0].split(',')\n",
    "                    if val in log_list:\n",
    "                        log_list.append(categ)\n",
    "                        log_list = ','.join(log_list)\n",
    "                        funnel.write(log_list)"
   ]
  }
 ],
 "metadata": {
  "colab": {
   "provenance": []
  },
  "kernelspec": {
   "display_name": "Python 3 (ipykernel)",
   "language": "python",
   "name": "python3"
  },
  "language_info": {
   "codemirror_mode": {
    "name": "ipython",
    "version": 3
   },
   "file_extension": ".py",
   "mimetype": "text/x-python",
   "name": "python",
   "nbconvert_exporter": "python",
   "pygments_lexer": "ipython3",
   "version": "3.9.12"
  }
 },
 "nbformat": 4,
 "nbformat_minor": 5
}
