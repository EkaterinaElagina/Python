{
  "cells": [
    {
      "cell_type": "markdown",
      "metadata": {
        "id": "view-in-github",
        "colab_type": "text"
      },
      "source": [
        "<a href=\"https://colab.research.google.com/github/EkaterinaElagina/Python-training-projects/blob/main/%D1%84%D0%B0%D0%B9%D0%BB%D1%8B.ipynb\" target=\"_parent\"><img src=\"https://colab.research.google.com/assets/colab-badge.svg\" alt=\"Open In Colab\"/></a>"
      ]
    },
    {
      "cell_type": "markdown",
      "id": "a247be0a",
      "metadata": {
        "id": "a247be0a"
      },
      "source": [
        "1. Переведите содержимое файла purchase_log.txt в словарь purchases вида:\n",
        "{‘1840e0b9d4’: ‘Продукты’, ...}\n",
        "\n",
        "2. Для каждого user_id в файле visit_log.csv определите третий столбец с категорией покупки (если покупка была, сам файл visit_log.csv изменять не надо). Запишите в файл funnel.csv визиты из файла visit_log.csv, в которых были покупки с указанием категории.\n",
        "\n",
        "Учтите условия на данные:\n",
        "\n",
        "содержимое purchase_log.txt помещается в оперативную память компьютера\n",
        "содержимое visit_log.csv - нет; используйте только построчную обработку этого файла"
      ]
    },
    {
      "cell_type": "code",
      "execution_count": null,
      "id": "863a0d6d",
      "metadata": {
        "id": "863a0d6d"
      },
      "outputs": [],
      "source": [
        "import json"
      ]
    },
    {
      "cell_type": "code",
      "execution_count": null,
      "id": "8a01c1c2",
      "metadata": {
        "id": "8a01c1c2",
        "outputId": "71536fdc-011d-4733-c355-ae17bd0ef020",
        "colab": {
          "base_uri": "https://localhost:8080/",
          "height": 235
        }
      },
      "outputs": [
        {
          "output_type": "error",
          "ename": "FileNotFoundError",
          "evalue": "ignored",
          "traceback": [
            "\u001b[0;31m---------------------------------------------------------------------------\u001b[0m",
            "\u001b[0;31mFileNotFoundError\u001b[0m                         Traceback (most recent call last)",
            "\u001b[0;32m<ipython-input-2-af48a4c011e7>\u001b[0m in \u001b[0;36m<module>\u001b[0;34m\u001b[0m\n\u001b[1;32m      1\u001b[0m \u001b[0muser_categ\u001b[0m \u001b[0;34m=\u001b[0m \u001b[0;34m{\u001b[0m\u001b[0;34m}\u001b[0m\u001b[0;34m\u001b[0m\u001b[0;34m\u001b[0m\u001b[0m\n\u001b[0;32m----> 2\u001b[0;31m \u001b[0;32mwith\u001b[0m \u001b[0mopen\u001b[0m\u001b[0;34m(\u001b[0m\u001b[0;34m'C:/Users/User/Desktop/neto/purchase_log.txt'\u001b[0m\u001b[0;34m,\u001b[0m \u001b[0mencoding\u001b[0m \u001b[0;34m=\u001b[0m \u001b[0;34m'utf-8'\u001b[0m\u001b[0;34m)\u001b[0m \u001b[0;32mas\u001b[0m \u001b[0mf\u001b[0m\u001b[0;34m:\u001b[0m\u001b[0;34m\u001b[0m\u001b[0;34m\u001b[0m\u001b[0m\n\u001b[0m\u001b[1;32m      3\u001b[0m     \u001b[0;32mfor\u001b[0m \u001b[0mline\u001b[0m \u001b[0;32min\u001b[0m \u001b[0mf\u001b[0m\u001b[0;34m.\u001b[0m\u001b[0mreadlines\u001b[0m\u001b[0;34m(\u001b[0m\u001b[0;36m5000\u001b[0m\u001b[0;34m)\u001b[0m\u001b[0;34m:\u001b[0m\u001b[0;34m\u001b[0m\u001b[0;34m\u001b[0m\u001b[0m\n\u001b[1;32m      4\u001b[0m         \u001b[0mdict_\u001b[0m \u001b[0;34m=\u001b[0m \u001b[0mjson\u001b[0m\u001b[0;34m.\u001b[0m\u001b[0mloads\u001b[0m\u001b[0;34m(\u001b[0m\u001b[0mline\u001b[0m\u001b[0;34m)\u001b[0m\u001b[0;34m\u001b[0m\u001b[0;34m\u001b[0m\u001b[0m\n\u001b[1;32m      5\u001b[0m         \u001b[0muser\u001b[0m\u001b[0;34m,\u001b[0m \u001b[0mcategory\u001b[0m \u001b[0;34m=\u001b[0m \u001b[0mdict_\u001b[0m\u001b[0;34m.\u001b[0m\u001b[0mvalues\u001b[0m\u001b[0;34m(\u001b[0m\u001b[0;34m)\u001b[0m\u001b[0;34m\u001b[0m\u001b[0;34m\u001b[0m\u001b[0m\n",
            "\u001b[0;31mFileNotFoundError\u001b[0m: [Errno 2] No such file or directory: 'C:/Users/User/Desktop/neto/purchase_log.txt'"
          ]
        }
      ],
      "source": [
        "user_categ = {}\n",
        "with open('C:/Users/User/Desktop/neto/purchase_log.txt', encoding = 'utf-8') as f:\n",
        "    for line in f.readlines(5000): \n",
        "        dict_ = json.loads(line)\n",
        "        user, category = dict_.values()\n",
        "        user_categ[user] = category\n",
        "    print (user_categ)"
      ]
    },
    {
      "cell_type": "code",
      "execution_count": null,
      "id": "de2ce8a0",
      "metadata": {
        "id": "de2ce8a0",
        "outputId": "00b0d7b9-41aa-4fb7-80f4-e3fd143cb5e6",
        "colab": {
          "base_uri": "https://localhost:8080/",
          "height": 200
        }
      },
      "outputs": [
        {
          "output_type": "error",
          "ename": "FileNotFoundError",
          "evalue": "ignored",
          "traceback": [
            "\u001b[0;31m---------------------------------------------------------------------------\u001b[0m",
            "\u001b[0;31mFileNotFoundError\u001b[0m                         Traceback (most recent call last)",
            "\u001b[0;32m<ipython-input-5-0c3a34497a19>\u001b[0m in \u001b[0;36m<module>\u001b[0;34m\u001b[0m\n\u001b[0;32m----> 1\u001b[0;31m \u001b[0;32mwith\u001b[0m \u001b[0mopen\u001b[0m\u001b[0;34m(\u001b[0m\u001b[0;34m'C:/Users/User/Desktop/neto/visit_log.csv'\u001b[0m\u001b[0;34m)\u001b[0m \u001b[0;32mas\u001b[0m \u001b[0mlog\u001b[0m\u001b[0;34m:\u001b[0m\u001b[0;34m\u001b[0m\u001b[0;34m\u001b[0m\u001b[0m\n\u001b[0m\u001b[1;32m      2\u001b[0m     \u001b[0;32mfor\u001b[0m \u001b[0mline\u001b[0m \u001b[0;32min\u001b[0m \u001b[0mlog\u001b[0m\u001b[0;34m.\u001b[0m\u001b[0mreadlines\u001b[0m\u001b[0;34m(\u001b[0m\u001b[0;34m)\u001b[0m\u001b[0;34m:\u001b[0m\u001b[0;34m\u001b[0m\u001b[0;34m\u001b[0m\u001b[0m\n\u001b[1;32m      3\u001b[0m         \u001b[0mprint\u001b[0m\u001b[0;34m(\u001b[0m\u001b[0mline\u001b[0m\u001b[0;34m,\u001b[0m \u001b[0mtype\u001b[0m\u001b[0;34m)\u001b[0m\u001b[0;34m\u001b[0m\u001b[0;34m\u001b[0m\u001b[0m\n",
            "\u001b[0;31mFileNotFoundError\u001b[0m: [Errno 2] No such file or directory: 'C:/Users/User/Desktop/neto/visit_log.csv'"
          ]
        }
      ],
      "source": [
        "with open('C:/Users/User/Desktop/neto/visit_log.csv') as log:\n",
        "    for line in log.readlines():\n",
        "        print(line, type)"
      ]
    },
    {
      "cell_type": "code",
      "execution_count": null,
      "id": "4342a87f",
      "metadata": {
        "id": "4342a87f",
        "outputId": "b9f1a6f0-b3c3-4025-c165-2cfa5e5c029f",
        "colab": {
          "base_uri": "https://localhost:8080/",
          "height": 235
        }
      },
      "outputs": [
        {
          "output_type": "error",
          "ename": "FileNotFoundError",
          "evalue": "ignored",
          "traceback": [
            "\u001b[0;31m---------------------------------------------------------------------------\u001b[0m",
            "\u001b[0;31mFileNotFoundError\u001b[0m                         Traceback (most recent call last)",
            "\u001b[0;32m<ipython-input-1-39ba43f52ab3>\u001b[0m in \u001b[0;36m<module>\u001b[0;34m\u001b[0m\n\u001b[0;32m----> 1\u001b[0;31m \u001b[0;32mwith\u001b[0m \u001b[0mopen\u001b[0m\u001b[0;34m(\u001b[0m\u001b[0;34m'C:/Users/User/Desktop/neto/funnel.csv'\u001b[0m\u001b[0;34m,\u001b[0m \u001b[0;34m'w'\u001b[0m\u001b[0;34m)\u001b[0m \u001b[0;32mas\u001b[0m \u001b[0mfunnel\u001b[0m\u001b[0;34m:\u001b[0m\u001b[0;34m\u001b[0m\u001b[0;34m\u001b[0m\u001b[0m\n\u001b[0m\u001b[1;32m      2\u001b[0m     \u001b[0;32mwith\u001b[0m \u001b[0mopen\u001b[0m\u001b[0;34m(\u001b[0m\u001b[0;34m'C:/Users/User/Desktop/neto/visit_log.csv'\u001b[0m\u001b[0;34m)\u001b[0m \u001b[0;32mas\u001b[0m \u001b[0mlog\u001b[0m\u001b[0;34m:\u001b[0m\u001b[0;34m\u001b[0m\u001b[0;34m\u001b[0m\u001b[0m\n\u001b[1;32m      3\u001b[0m         \u001b[0;32mwith\u001b[0m \u001b[0mopen\u001b[0m\u001b[0;34m(\u001b[0m\u001b[0;34m'C:/Users/User/Desktop/neto/purchase_log.txt'\u001b[0m\u001b[0;34m,\u001b[0m \u001b[0mencoding\u001b[0m \u001b[0;34m=\u001b[0m \u001b[0;34m'utf-8'\u001b[0m\u001b[0;34m)\u001b[0m \u001b[0;32mas\u001b[0m \u001b[0mf\u001b[0m\u001b[0;34m:\u001b[0m\u001b[0;34m\u001b[0m\u001b[0;34m\u001b[0m\u001b[0m\n\u001b[1;32m      4\u001b[0m             \u001b[0;32mfor\u001b[0m \u001b[0mline\u001b[0m \u001b[0;32min\u001b[0m \u001b[0mf\u001b[0m\u001b[0;34m.\u001b[0m\u001b[0mreadlines\u001b[0m\u001b[0;34m(\u001b[0m\u001b[0;34m)\u001b[0m\u001b[0;34m:\u001b[0m\u001b[0;34m\u001b[0m\u001b[0;34m\u001b[0m\u001b[0m\n\u001b[1;32m      5\u001b[0m                 \u001b[0mdict_\u001b[0m \u001b[0;34m=\u001b[0m \u001b[0mjson\u001b[0m\u001b[0;34m.\u001b[0m\u001b[0mloads\u001b[0m\u001b[0;34m(\u001b[0m\u001b[0mline\u001b[0m\u001b[0;34m)\u001b[0m\u001b[0;34m\u001b[0m\u001b[0;34m\u001b[0m\u001b[0m\n",
            "\u001b[0;31mFileNotFoundError\u001b[0m: [Errno 2] No such file or directory: 'C:/Users/User/Desktop/neto/funnel.csv'"
          ]
        }
      ],
      "source": [
        "with open('C:/Users/User/Desktop/neto/funnel.csv', 'w') as funnel:\n",
        "    with open('C:/Users/User/Desktop/neto/visit_log.csv') as log:\n",
        "        with open('C:/Users/User/Desktop/neto/purchase_log.txt', encoding = 'utf-8') as f:\n",
        "            for line in f.readlines():\n",
        "                dict_ = json.loads(line)\n",
        "                val, categ = dict_.values()\n",
        "                for l in log.readlines():\n",
        "                    log_list = l.splitlines() #удалила перенос на новую строку поcле source\n",
        "                    log_list = log_list[0].split(',') #разбила на user_id и source\n",
        "                    if val in log_list:\n",
        "                        log_list.append(categ)\n",
        "                        log_list = ','.join(log_list)\n",
        "                        funnel.write(log_list\\n)\n",
        "                    \n",
        "### и тут выводит только val с первой итерации, т.е. не заходит на второй круг for line in f.readlines():, заканчивается на первом, хотя я сделала readlines.\n",
        "\n"
      ]
    },
    {
      "cell_type": "markdown",
      "source": [
        "Этот вариант работает, если я подставляю в for line in f.readlines() 5000, например.\n",
        "for line in f.readlines(5000)\n",
        "Без этого долго загружает, не отрабатывает"
      ],
      "metadata": {
        "id": "aEDFZcMilzAf"
      },
      "id": "aEDFZcMilzAf"
    },
    {
      "cell_type": "code",
      "execution_count": null,
      "id": "085de8d0",
      "metadata": {
        "id": "085de8d0"
      },
      "outputs": [],
      "source": [
        "with open('C:/Users/User/Desktop/neto/funnel.csv', 'wt') as funnel:\n",
        "    with open('C:/Users/User/Desktop/neto/visit_log.csv', 'rt') as log:\n",
        "        with open('C:/Users/User/Desktop/neto/purchase_log.txt', encoding = 'utf-8') as f:\n",
        "            user_categ = {}\n",
        "            for line in f.readlines(): \n",
        "                dict_ = json.loads(line)\n",
        "                user, category = dict_.values()\n",
        "                user_categ[user] = category\n",
        "            \n",
        "            for line in log.readlines():\n",
        "                user_id, source = line.strip().split(',')\n",
        "                for key in user_categ.keys():\n",
        "                    if key == user_id:\n",
        "                        my_list = [user_id, source, category, '\\n']\n",
        "                        string = ','.join(my_list)\n",
        "                        funnel.write(string)\n",
        "                "
      ]
    }
  ],
  "metadata": {
    "kernelspec": {
      "display_name": "Python 3 (ipykernel)",
      "language": "python",
      "name": "python3"
    },
    "language_info": {
      "codemirror_mode": {
        "name": "ipython",
        "version": 3
      },
      "file_extension": ".py",
      "mimetype": "text/x-python",
      "name": "python",
      "nbconvert_exporter": "python",
      "pygments_lexer": "ipython3",
      "version": "3.9.12"
    },
    "colab": {
      "provenance": [],
      "include_colab_link": true
    }
  },
  "nbformat": 4,
  "nbformat_minor": 5
}