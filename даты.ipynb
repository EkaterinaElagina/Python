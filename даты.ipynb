{
 "cells": [
  {
   "cell_type": "markdown",
   "id": "5139c4ec",
   "metadata": {},
   "source": [
    "Печатные газеты использовали свой формат дат для каждого выпуска.\n",
    "Для каждой газеты ниже переведите дату в формат YYYY-MM-DD HH:MM:SS\n",
    "\n",
    "The Moscow Times - Wednesday, October 2, 2002\n",
    "The Guardian - Friday, 11.10.13\n",
    "Daily News - Thursday, 18 August 1977\n",
    "Формат вывода\n",
    "Три строки в формате: YYYY-MM-DD HH:MM:SS\n",
    "\n",
    "Для сдачи программы необходимо точно соблюдать требования к формату вывода, иначе тренажер не сможет проверить ваше решение и выдаст ошибку. Решение сдается для данных, которые указаны в начальном коде задания\n",
    "\n",
    "Пример вывода для строки Sunday, 15.07.90\n",
    "1990-07-15 00:00:00\n",
    "\n",
    "В примере указаны случайные данные, которые демострируют правильный формат вывода, а не ответ на саму задачу."
   ]
  },
  {
   "cell_type": "code",
   "execution_count": 1,
   "id": "a6d11964",
   "metadata": {},
   "outputs": [
    {
     "name": "stdout",
     "output_type": "stream",
     "text": [
      "2002-10-02 00:00:00\n",
      "2013-10-11 00:00:00\n",
      "1977-08-18 00:00:00\n"
     ]
    }
   ],
   "source": [
    "from datetime import datetime\n",
    "moscow_times = 'Wednesday, October 2, 2002'\n",
    "guardian = 'Friday, 11.10.13'\n",
    "daily_news = 'Thursday, 18 August 1977'\n",
    "mt = datetime.strptime(moscow_times, '%A, %B %d, %Y')\n",
    "g = datetime.strptime(guardian, '%A, %d.%m.%y')\n",
    "dn = datetime.strptime(daily_news, '%A, %d %B %Y')\n",
    "print(mt)\n",
    "print(g)\n",
    "print(dn)"
   ]
  },
  {
   "cell_type": "markdown",
   "id": "14329984",
   "metadata": {},
   "source": [
    "Напишите функцию, которая проверяет дату в формате YYYY-MM-DD на корректность. Функция должна возвращать True, если дата корректна, или False, если она некорректна.\n",
    "Проверьте даты из массива dateList на корректность.\n",
    "\n",
    "Формат вывода\n",
    "Cтроки (по количеству элементов в массиве), содержащие слово True или False.\n",
    "\n",
    "Для сдачи программы необходимо точно соблюдать требования к формату вывода, иначе тренажер не сможет проверить ваше решение и выдаст ошибку. Решение сдается для данных, которые указаны в начальном коде задания\n",
    "\n",
    "Пример вывода\n",
    "True\n",
    "True\n",
    "False\n",
    "True\n",
    "\n",
    "В примере указаны случайные данные, которые демострируют правильный формат вывода, а не ответ на саму задачу.`\n",
    "\n"
   ]
  },
  {
   "cell_type": "markdown",
   "id": "fed02d57",
   "metadata": {},
   "source": [
    "Вариант I"
   ]
  },
  {
   "cell_type": "code",
   "execution_count": 2,
   "id": "392b4683",
   "metadata": {},
   "outputs": [
    {
     "name": "stdout",
     "output_type": "stream",
     "text": [
      "True\n",
      "False\n",
      "False\n",
      "True\n"
     ]
    }
   ],
   "source": [
    "dateList = ['2022-04-02', '2022-19-12', '2022-10-40', '3022-08-06']\n",
    "from datetime import datetime\n",
    "def check(dateList):\n",
    "    for i in dateList:\n",
    "        try:\n",
    "            date_string = datetime.strptime(i, '%Y-%m-%d')\n",
    "            print(True)\n",
    "        except:\n",
    "            print(False)\n",
    "            pass\n",
    "check(dateList)"
   ]
  },
  {
   "cell_type": "markdown",
   "id": "9dc3a959",
   "metadata": {},
   "source": [
    "Вариант II"
   ]
  },
  {
   "cell_type": "code",
   "execution_count": 3,
   "id": "244dc775",
   "metadata": {},
   "outputs": [
    {
     "data": {
      "text/plain": [
       "True"
      ]
     },
     "execution_count": 3,
     "metadata": {},
     "output_type": "execute_result"
    }
   ],
   "source": [
    "dateList = ['2022-04-02', '2022-19-12', '2022-10-40', '3022-08-06']\n",
    "from datetime import datetime\n",
    "def check(dateList):\n",
    "    for i in dateList:\n",
    "        try:\n",
    "            date_string = datetime.strptime(i, '%Y-%m-%d')\n",
    "            return(True)\n",
    "        except:\n",
    "            return(False)\n",
    "            pass\n",
    "check(dateList)"
   ]
  },
  {
   "cell_type": "code",
   "execution_count": 4,
   "id": "724c1f48",
   "metadata": {},
   "outputs": [],
   "source": [
    "def check_date(dateList):\n",
    "    return [check(dt) for dt in dateList]"
   ]
  },
  {
   "cell_type": "code",
   "execution_count": 5,
   "id": "a86b1a30",
   "metadata": {},
   "outputs": [
    {
     "data": {
      "text/plain": [
       "[False, False, False, False]"
      ]
     },
     "execution_count": 5,
     "metadata": {},
     "output_type": "execute_result"
    }
   ],
   "source": [
    "check_date(dateList)"
   ]
  },
  {
   "cell_type": "code",
   "execution_count": null,
   "id": "0d32924d",
   "metadata": {},
   "outputs": [],
   "source": []
  }
 ],
 "metadata": {
  "kernelspec": {
   "display_name": "Python 3 (ipykernel)",
   "language": "python",
   "name": "python3"
  },
  "language_info": {
   "codemirror_mode": {
    "name": "ipython",
    "version": 3
   },
   "file_extension": ".py",
   "mimetype": "text/x-python",
   "name": "python",
   "nbconvert_exporter": "python",
   "pygments_lexer": "ipython3",
   "version": "3.9.12"
  }
 },
 "nbformat": 4,
 "nbformat_minor": 5
}
