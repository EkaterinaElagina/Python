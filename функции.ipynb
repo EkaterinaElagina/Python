{
 "cells": [
  {
   "cell_type": "markdown",
   "id": "99616536",
   "metadata": {},
   "source": [
    "## Задание 1\n",
    "### Пункт 1. \n",
    "Пользователь по команде “p” может узнать владельца документа по его номеру\n",
    "\n",
    "Примеры работы:"
   ]
  },
  {
   "cell_type": "code",
   "execution_count": 38,
   "id": "d758defb",
   "metadata": {},
   "outputs": [],
   "source": [
    "documents = [\n",
    " {'type': 'passport', 'number': '2207 876234', 'name': 'Василий Гупкин'},\n",
    " {'type': 'invoice', 'number': '11-2', 'name': 'Геннадий Покемонов'},\n",
    " {'type': 'insurance', 'number': '10006', 'name': 'Аристарх Павлов'}\n",
    "]\n",
    "\n",
    "directories = {\n",
    " '1': ['2207 876234', '11-2'],\n",
    " '2': ['10006'],\n",
    " '3': []\n",
    "}"
   ]
  },
  {
   "cell_type": "code",
   "execution_count": null,
   "id": "42d8b744",
   "metadata": {},
   "outputs": [],
   "source": [
    "def doc(documents):\n",
    "    number = input('введите номер документа: ')\n",
    "    for i in documents:\n",
    "        doc_type, num, name = i.values() \n",
    "        if number == num:\n",
    "            print(name)\n",
    "            break\n",
    "    else:\n",
    "        print('Такого номера нет в базе!')"
   ]
  },
  {
   "cell_type": "code",
   "execution_count": null,
   "id": "7fbd7145",
   "metadata": {},
   "outputs": [],
   "source": [
    "doc(documents)"
   ]
  },
  {
   "cell_type": "markdown",
   "id": "f96e9d45",
   "metadata": {},
   "source": [
    "### Пункт 2. \n",
    "Пользователь по команде “s” может по номеру документа узнать на какой полке он хранится"
   ]
  },
  {
   "cell_type": "code",
   "execution_count": null,
   "id": "342fffdd",
   "metadata": {},
   "outputs": [],
   "source": [
    "def shelf(documents):  \n",
    "    number = input('введите номер документа: ')\n",
    "    count = 0\n",
    "    for i in directories.values(): \n",
    "        count += 1                 \n",
    "        if number in i:\n",
    "            print('Номер полки: ', count)\n",
    "            break\n",
    "    else: \n",
    "        print('Такого номера нет в базе!')"
   ]
  },
  {
   "cell_type": "code",
   "execution_count": null,
   "id": "e45cbc6a",
   "metadata": {},
   "outputs": [],
   "source": [
    "shelf(documents)"
   ]
  },
  {
   "cell_type": "markdown",
   "id": "ebb67dd4",
   "metadata": {},
   "source": [
    "### Пункт 3. \n",
    "Пользователь по команде “l” может увидеть полную информацию по всем документам"
   ]
  },
  {
   "cell_type": "code",
   "execution_count": null,
   "id": "59719582",
   "metadata": {},
   "outputs": [],
   "source": [
    "def full (documents):\n",
    "        for i in documents:   \n",
    "            type, number, name = i.values()\n",
    "            count = 0\n",
    "            for j in directories.values():\n",
    "                count += 1\n",
    "                if number in j:\n",
    "                    print('№: ', number, '; тип: ', type, '; владелец: ', name, '; номер полки: ', count, sep = '')"
   ]
  },
  {
   "cell_type": "code",
   "execution_count": null,
   "id": "f2652c30",
   "metadata": {},
   "outputs": [],
   "source": [
    "full(documents)"
   ]
  },
  {
   "cell_type": "markdown",
   "id": "e77b7752",
   "metadata": {},
   "source": [
    "### Пункт 4. \n",
    "Пользователь по команде “ads” может добавить новую полку"
   ]
  },
  {
   "cell_type": "code",
   "execution_count": null,
   "id": "e0169110",
   "metadata": {},
   "outputs": [],
   "source": [
    "def add (directories):\n",
    "    num = input('введите номер полки, которую хотите добавить: ')\n",
    "    num_list = ','.join(directories.keys())\n",
    "    if num not in num_list:          \n",
    "        directories[f'{num}'] = []\n",
    "        print(f'Полка с номером {num} добавлена')\n",
    "    else:\n",
    "        print('Такая полка уже существует!')"
   ]
  },
  {
   "cell_type": "code",
   "execution_count": null,
   "id": "09322121",
   "metadata": {},
   "outputs": [],
   "source": [
    "add(directories)"
   ]
  },
  {
   "cell_type": "code",
   "execution_count": null,
   "id": "d2454cd2",
   "metadata": {},
   "outputs": [],
   "source": [
    "directories"
   ]
  },
  {
   "cell_type": "markdown",
   "id": "f752cd4f",
   "metadata": {},
   "source": [
    "### Пункт 5. \n",
    "Пользователь по команде “ds” может удалить существующую полку из данных (только если она пустая)"
   ]
  },
  {
   "cell_type": "code",
   "execution_count": null,
   "id": "8abe50d3",
   "metadata": {},
   "outputs": [],
   "source": [
    "def delete(directories):\n",
    "    num = input('введите номер полки, которую хотите удалить: ')\n",
    "    num_list = ','.join(directories.keys())\n",
    "    if num in num_list and directories.get(f'{num}') == []:\n",
    "        directories.pop(num)\n",
    "        print('Удалено! Текущий список полок: ', directories)\n",
    "    elif num in num_list and directories.get(f'{num}') != []:\n",
    "        print('Удалить невозможно, полка не пустая!')  \n",
    "    else:                                                     \n",
    "        print('Такой полки не существует!')"
   ]
  },
  {
   "cell_type": "code",
   "execution_count": null,
   "id": "70fd34b0",
   "metadata": {},
   "outputs": [],
   "source": [
    " delete(directories)"
   ]
  },
  {
   "cell_type": "code",
   "execution_count": null,
   "id": "fe0d193a",
   "metadata": {},
   "outputs": [],
   "source": [
    "directories"
   ]
  },
  {
   "cell_type": "code",
   "execution_count": null,
   "id": "e13a6a71",
   "metadata": {},
   "outputs": [],
   "source": [
    "def main(): #почему-то возвращает после выполнения команды 'None'\n",
    "    letter = input()\n",
    "    while letter != 'q':\n",
    "        if letter == 'p':\n",
    "            print(doc(documents))\n",
    "        elif letter == 's':\n",
    "            print(shelf(documents))\n",
    "        elif letter == 'l':\n",
    "            print(full(documents))\n",
    "        elif letter == 'ads':\n",
    "            print(add(directories))\n",
    "        elif letter == 'ds':\n",
    "            print(delete(directories))\n",
    "        letter = input()"
   ]
  },
  {
   "cell_type": "markdown",
   "id": "6f6e6d65",
   "metadata": {},
   "source": [
    "## Задание 2 (необязательное)**\n",
    "\n",
    "Вам необходимо дополнить программу из задания 1 более продвинутыми командами.\n",
    "\n",
    "### Пункт 1. Пользователь по команде “ad” может добавить новый документ в данные\n"
   ]
  },
  {
   "cell_type": "code",
   "execution_count": 10,
   "id": "2f95efb6",
   "metadata": {},
   "outputs": [],
   "source": [
    "def add_info(documents):\n",
    "    doc_type = input('Введите тип документа: ')\n",
    "    name = input('Введите имя: ')\n",
    "    number = input('Введите номер документа: ')\n",
    "    shelf = input('Введите полку для хранения: ')\n",
    "    shelf_list = ','.join(directories.keys())\n",
    "    if shelf in shelf_list:\n",
    "        new_doc = {'type': f'{doc_type}', 'number': f'{number}', 'name': f'{name}'}\n",
    "        documents.append(new_doc)\n",
    "        directories[f'{shelf}'].append(number)"
   ]
  },
  {
   "cell_type": "code",
   "execution_count": 11,
   "id": "deda42a7",
   "metadata": {},
   "outputs": [
    {
     "name": "stdout",
     "output_type": "stream",
     "text": [
      "Введите тип документа: wertyui\n",
      "Введите имя: ewrtyuio\n",
      "Введите номер документа: 345678\n",
      "Введите полку для хранения: 2\n"
     ]
    }
   ],
   "source": [
    "add_info(documents)"
   ]
  },
  {
   "cell_type": "code",
   "execution_count": 12,
   "id": "4096804f",
   "metadata": {},
   "outputs": [
    {
     "data": {
      "text/plain": [
       "[{'type': 'passport', 'number': '2207 876234', 'name': 'Василий Гупкин'},\n",
       " {'type': 'invoice', 'number': '11-2', 'name': 'Геннадий Покемонов'},\n",
       " {'type': 'insurance', 'number': '10006', 'name': 'Аристарх Павлов'},\n",
       " {'type': 'dsfghjk', 'number': 'dfghjkl', 'name': 'fghjkl'},\n",
       " {'type': 'wertyui', 'number': '345678', 'name': 'ewrtyuio'}]"
      ]
     },
     "execution_count": 12,
     "metadata": {},
     "output_type": "execute_result"
    }
   ],
   "source": [
    "documents"
   ]
  },
  {
   "cell_type": "code",
   "execution_count": 13,
   "id": "b88e76e1",
   "metadata": {},
   "outputs": [
    {
     "data": {
      "text/plain": [
       "{'1': ['2207 876234', '11-2'], '2': ['10006', '345678'], '3': []}"
      ]
     },
     "execution_count": 13,
     "metadata": {},
     "output_type": "execute_result"
    }
   ],
   "source": [
    "directories"
   ]
  },
  {
   "cell_type": "markdown",
   "id": "a8a0ab73",
   "metadata": {},
   "source": [
    "### Пункт 2. \n",
    "Пользователь по команде “d” может удалить документ из данных"
   ]
  },
  {
   "cell_type": "code",
   "execution_count": 39,
   "id": "1136a6b7",
   "metadata": {},
   "outputs": [],
   "source": [
    "def del_info(documents):\n",
    "    number = input('Введите номер документа: ')\n",
    "    for doc in documents:\n",
    "        if number in doc.values(): #если введенный номер = номеру документа, то...\n",
    "            doc_type, number, name = doc.values()\n",
    "            new_doc = {'type': f'{doc_type}', 'number': f'{number}', 'name': f'{name}'} #собираем новый словарь на основе номера\n",
    "            documents.remove(new_doc) #удаляем этот словарь как элемент списка\n",
    "    print()\n",
    "    print('Текущий список документов: ')\n",
    "    for m in documents:\n",
    "        print (m)"
   ]
  },
  {
   "cell_type": "code",
   "execution_count": 40,
   "id": "1ad9160b",
   "metadata": {},
   "outputs": [
    {
     "name": "stdout",
     "output_type": "stream",
     "text": [
      "Введите номер документа: 10006\n",
      "{'type': 'insurance', 'number': '10006', 'name': 'Аристарх Павлов'}\n",
      "\n",
      "Текущий список документов: \n",
      "{'type': 'passport', 'number': '2207 876234', 'name': 'Василий Гупкин'}\n",
      "{'type': 'invoice', 'number': '11-2', 'name': 'Геннадий Покемонов'}\n"
     ]
    }
   ],
   "source": [
    "del_info(documents)"
   ]
  },
  {
   "cell_type": "markdown",
   "id": "8dae5c37",
   "metadata": {},
   "source": [
    "### Пункт 3. \n",
    "Пользователь по команде “m” может переместить документ с полки на полку\n"
   ]
  },
  {
   "cell_type": "code",
   "execution_count": null,
   "id": "a8fa23df",
   "metadata": {},
   "outputs": [],
   "source": [
    "В данном пункте мы должны проверить наличие полки.\n",
    "Если полка есть, то с сохраняем номер документа в переменную, удаляем с текущей полки, \n",
    "в реализации может потребовать цикл for, \n",
    "и добавляем на новую полку которую ввел пользователь"
   ]
  },
  {
   "cell_type": "code",
   "execution_count": 60,
   "id": "351b05a4",
   "metadata": {},
   "outputs": [],
   "source": [
    "def change(directories):\n",
    "    number = input('Введите номер документа: ')\n",
    "    shelf = input ('Введите номер полки: ')\n",
    "    sh = ','.join(directories.keys())\n",
    "    if shelf in sh:\n",
    "        for i in directories.values():\n",
    "            if number in i:\n",
    "                i.remove(number)          \n",
    "        for item in directories.items(): \n",
    "            if item[0] == shelf:\n",
    "                item[1].append(number)\n",
    "        print()        \n",
    "        print('Замена осуществлена!')\n",
    "    else:\n",
    "        print()\n",
    "        print('Такой полки не существует!')"
   ]
  },
  {
   "cell_type": "code",
   "execution_count": 61,
   "id": "d283c638",
   "metadata": {},
   "outputs": [
    {
     "name": "stdout",
     "output_type": "stream",
     "text": [
      "Введите номер документа: 10006\n",
      "Введите номер полки: 1\n",
      "Замена осуществлена!\n"
     ]
    }
   ],
   "source": [
    "change(directories)"
   ]
  },
  {
   "cell_type": "code",
   "execution_count": 62,
   "id": "ba7be755",
   "metadata": {},
   "outputs": [
    {
     "data": {
      "text/plain": [
       "{'1': ['2207 876234', '11-2', '10006'], '2': [], '3': []}"
      ]
     },
     "execution_count": 62,
     "metadata": {},
     "output_type": "execute_result"
    }
   ],
   "source": [
    "directories"
   ]
  },
  {
   "cell_type": "code",
   "execution_count": null,
   "id": "9d2a1ea3",
   "metadata": {},
   "outputs": [],
   "source": [
    "change(directories)"
   ]
  },
  {
   "cell_type": "code",
   "execution_count": null,
   "id": "438757b4",
   "metadata": {},
   "outputs": [],
   "source": []
  }
 ],
 "metadata": {
  "kernelspec": {
   "display_name": "Python 3 (ipykernel)",
   "language": "python",
   "name": "python3"
  },
  "language_info": {
   "codemirror_mode": {
    "name": "ipython",
    "version": 3
   },
   "file_extension": ".py",
   "mimetype": "text/x-python",
   "name": "python",
   "nbconvert_exporter": "python",
   "pygments_lexer": "ipython3",
   "version": "3.9.12"
  }
 },
 "nbformat": 4,
 "nbformat_minor": 5
}
