{
 "cells": [
  {
   "cell_type": "markdown",
   "id": "99616536",
   "metadata": {},
   "source": [
    "## Задание 1\n",
    "### Пункт 1. \n",
    "Пользователь по команде “p” может узнать владельца документа по его номеру\n",
    "\n",
    "Примеры работы:"
   ]
  },
  {
   "cell_type": "code",
   "execution_count": 2,
   "id": "d758defb",
   "metadata": {},
   "outputs": [],
   "source": [
    "documents = [\n",
    " {'type': 'passport', 'number': '2207 876234', 'name': 'Василий Гупкин'},\n",
    " {'type': 'invoice', 'number': '11-2', 'name': 'Геннадий Покемонов'},\n",
    " {'type': 'insurance', 'number': '10006', 'name': 'Аристарх Павлов'}\n",
    "]\n",
    "\n",
    "directories = {\n",
    " '1': ['2207 876234', '11-2'],\n",
    " '2': ['10006'],\n",
    " '3': []\n",
    "}"
   ]
  },
  {
   "cell_type": "code",
   "execution_count": null,
   "id": "42d8b744",
   "metadata": {},
   "outputs": [],
   "source": [
    "def doc(documents):\n",
    "    letter = input('введите команду: ')\n",
    "    if letter == 'p':\n",
    "        number = input('введите номер документа: ')\n",
    "        for i in documents:\n",
    "            type, num, name = i.values() \n",
    "            if number == num:\n",
    "                print(name)\n",
    "        else:\n",
    "            print('Такого номера нет в базе!')"
   ]
  },
  {
   "cell_type": "code",
   "execution_count": null,
   "id": "7fbd7145",
   "metadata": {},
   "outputs": [],
   "source": [
    "doc(documents)"
   ]
  },
  {
   "cell_type": "markdown",
   "id": "f96e9d45",
   "metadata": {},
   "source": [
    "### Пункт 2. \n",
    "Пользователь по команде “s” может по номеру документа узнать на какой полке он хранится"
   ]
  },
  {
   "cell_type": "code",
   "execution_count": null,
   "id": "342fffdd",
   "metadata": {},
   "outputs": [],
   "source": [
    "def shelf(documents): #я не знаю, может, мне надо сюда записать directories? \n",
    "    letter = input('введите команду: ') #или вообще никаких аргументов не писать, если у меня глобальные переменные\n",
    "    if letter == 's':\n",
    "        number = input('введите номер документа: ')\n",
    "        count = 0\n",
    "        for i in directories.values(): #можно было подавать на вход directories, здесь бы он срабатывал, возможно,\n",
    "            count += 1                  #для использования это было бы логичнее\n",
    "            if number in i:\n",
    "                print(count)\n",
    "        else:\n",
    "            print('Такого номера нет в базе!')"
   ]
  },
  {
   "cell_type": "code",
   "execution_count": null,
   "id": "e45cbc6a",
   "metadata": {},
   "outputs": [],
   "source": [
    "shelf(documents)"
   ]
  },
  {
   "cell_type": "markdown",
   "id": "ebb67dd4",
   "metadata": {},
   "source": [
    "### Пункт 3. \n",
    "Пользователь по команде “l” может увидеть полную информацию по всем документам"
   ]
  },
  {
   "cell_type": "code",
   "execution_count": null,
   "id": "59719582",
   "metadata": {},
   "outputs": [],
   "source": [
    "def full (documents):\n",
    "    letter = input('введите команду: ')\n",
    "    if letter == 'l':\n",
    "        for i in documents:\n",
    "            type, number, name = i.values()\n",
    "            print('№: ', number, '; тип: ', type, '; владелец: ', name, sep = '')\n",
    "                "
   ]
  },
  {
   "cell_type": "code",
   "execution_count": null,
   "id": "f2652c30",
   "metadata": {},
   "outputs": [],
   "source": [
    "full(documents)"
   ]
  },
  {
   "cell_type": "markdown",
   "id": "e77b7752",
   "metadata": {},
   "source": [
    "### Пункт 4. \n",
    "Пользователь по команде “ads” может добавить новую полку"
   ]
  },
  {
   "cell_type": "code",
   "execution_count": null,
   "id": "e0169110",
   "metadata": {},
   "outputs": [],
   "source": [
    "def add (directories):\n",
    "    letter = input('введите команду: ')\n",
    "    if letter == 'ads':\n",
    "        num = input('введите номер полки, которую хотите добавить: ')\n",
    "        num_list = []  #номера уже существующих полок\n",
    "        for i in directories.keys():\n",
    "            num_list.append(i)\n",
    "        if num not in num_list:          \n",
    "            directories[f'{num}'] = []\n",
    "            print(f'Полка с номером {num} добавлена')\n",
    "        else:\n",
    "            print('Такая полка уже существует!')"
   ]
  },
  {
   "cell_type": "code",
   "execution_count": null,
   "id": "09322121",
   "metadata": {},
   "outputs": [],
   "source": [
    "add(directories)"
   ]
  },
  {
   "cell_type": "code",
   "execution_count": null,
   "id": "d2454cd2",
   "metadata": {},
   "outputs": [],
   "source": [
    "directories"
   ]
  },
  {
   "cell_type": "markdown",
   "id": "f752cd4f",
   "metadata": {},
   "source": [
    "### Пункт 5. \n",
    "Пользователь по команде “ds” может удалить существующую полку из данных (только если она пустая)"
   ]
  },
  {
   "cell_type": "code",
   "execution_count": null,
   "id": "99202b2c",
   "metadata": {},
   "outputs": [],
   "source": [
    "def delete(directories): #неверное решение, но я его прикрепляю, тк я в нем запуталась и хочу разобраться\n",
    "    letter = input('введите команду: ')\n",
    "    if letter == 'ds':    \n",
    "        num = int(input('введите номер полки, которую хотите удалить: '))\n",
    "        count = 0\n",
    "        for i in directories.values():\n",
    "            count +=1\n",
    "            if count == num and i == []:\n",
    "                directories.pop(?) #вот что мне удалять в таком случае? \n",
    "                                #если я буду удалять по значению, то у меня же все пустые строки удалятся?\n",
    "                                #а я хочу только вот эту конкретную"
   ]
  },
  {
   "cell_type": "code",
   "execution_count": null,
   "id": "77d6a433",
   "metadata": {},
   "outputs": [],
   "source": [
    "delete(directories)"
   ]
  },
  {
   "cell_type": "code",
   "execution_count": null,
   "id": "8abe50d3",
   "metadata": {},
   "outputs": [],
   "source": [
    "def delete(directories):\n",
    "    letter = input('введите команду: ')\n",
    "    if letter == 'ds':    \n",
    "        num = input('введите номер полки, которую хотите удалить: ')\n",
    "        for i in directories.keys():\n",
    "            if i == num and directories.get(f'{i}') == []:\n",
    "                directories.pop(i, None) #он удаляет верно, но выдает RuntimeError: dictionary changed size during iteration\n",
    "                                        #что мне с этим сделать? проверку от ошибок except?\n",
    "        if directories.get(f'{i}') != []:\n",
    "                    print('Удалить невозможно, полка не пустая!') #почему-то у меня не получается сделать elif; \n",
    "        else:                                                     #понимаю, что это из-за цикла, но не понимаю, почему некорректно работает :(\n",
    "            print('Такой полки не существует!')"
   ]
  },
  {
   "cell_type": "code",
   "execution_count": null,
   "id": "70fd34b0",
   "metadata": {},
   "outputs": [],
   "source": [
    " delete(directories)"
   ]
  },
  {
   "cell_type": "code",
   "execution_count": null,
   "id": "fe0d193a",
   "metadata": {},
   "outputs": [],
   "source": [
    "directories"
   ]
  },
  {
   "cell_type": "markdown",
   "id": "6f6e6d65",
   "metadata": {},
   "source": [
    "## Задание 2 (необязательное)**\n",
    "\n",
    "Вам необходимо дополнить программу из задания 1 более продвинутыми командами.\n",
    "\n",
    "### Пункт 1. Пользователь по команде “ad” может добавить новый документ в данные\n"
   ]
  },
  {
   "cell_type": "code",
   "execution_count": null,
   "id": "2f95efb6",
   "metadata": {},
   "outputs": [],
   "source": [
    "def add_info(documents):\n",
    "    letter = input('введите команду: ')\n",
    "    if letter == 'ad':  \n",
    "        type = input('Введите тип документа: ')\n",
    "        name = input('Введите имя: ')\n",
    "        number = input('Введите номер документа: ')\n",
    "        shelf = input('Введите полку для хранения: ')\n",
    "        new_doc = {'type': f'{type}', 'number': f'{number}', 'name': f'{name}'}\n",
    "        directories[f'{shelf}'] = [number]\n",
    "        documents.append(new_doc)"
   ]
  },
  {
   "cell_type": "code",
   "execution_count": null,
   "id": "deda42a7",
   "metadata": {},
   "outputs": [],
   "source": [
    "add_info(documents)"
   ]
  },
  {
   "cell_type": "code",
   "execution_count": null,
   "id": "4096804f",
   "metadata": {},
   "outputs": [],
   "source": [
    "documents"
   ]
  },
  {
   "cell_type": "code",
   "execution_count": null,
   "id": "b88e76e1",
   "metadata": {},
   "outputs": [],
   "source": [
    "directories"
   ]
  },
  {
   "cell_type": "markdown",
   "id": "a8a0ab73",
   "metadata": {},
   "source": [
    "### Пункт 2. \n",
    "Пользователь по команде “d” может удалить документ из данных"
   ]
  },
  {
   "cell_type": "code",
   "execution_count": null,
   "id": "1136a6b7",
   "metadata": {},
   "outputs": [],
   "source": [
    "def del_info(documents):\n",
    "    letter = input('введите команду: ')\n",
    "    if letter == 'd':  \n",
    "        number = input('Введите номер документа: ')\n",
    "        for str in documents: #перебор списка документов\n",
    "            type, num, name = str.values() #распаковка значений документов\n",
    "            if number == num: #если введенный номер = номеру документа, то...\n",
    "                new_doc = {'type': f'{type}', 'number': f'{number}', 'name': f'{name}'} #собираем новый словарь на основе номера\n",
    "                print()\n",
    "                for i in documents: #перебираем список документов\n",
    "                    if i == new_doc: #очевидно, что один словарь в документах = нашему словарю\n",
    "                        documents.remove(new_doc) #удаляем этот словарь как элемент списка\n",
    "                print('Текущий список документов: ')\n",
    "                for m in documents:\n",
    "                    print (m)"
   ]
  },
  {
   "cell_type": "code",
   "execution_count": null,
   "id": "1ad9160b",
   "metadata": {},
   "outputs": [],
   "source": [
    "del_info(documents)"
   ]
  },
  {
   "cell_type": "code",
   "execution_count": null,
   "id": "1fc22d4d",
   "metadata": {},
   "outputs": [],
   "source": [
    "documents"
   ]
  },
  {
   "cell_type": "markdown",
   "id": "8dae5c37",
   "metadata": {},
   "source": [
    "### Пункт 3. \n",
    "Пользователь по команде “m” может переместить документ с полки на полку\n"
   ]
  },
  {
   "cell_type": "code",
   "execution_count": null,
   "id": "351b05a4",
   "metadata": {},
   "outputs": [],
   "source": [
    "def change(directories):\n",
    "    letter = input('введите команду: ')\n",
    "    if letter == 'm':  \n",
    "        number = input('Введите номер документа: ')\n",
    "        shelf = input ('Введите номер полки: ')\n",
    "        for sh in directories.values(): #перебор списка документов\n",
    "            if number in sh: #если введенный номер есть на полке, то...\n",
    "                sh.remove(number) #удаляем этот номер как элемент списка           \n",
    "        for item in directories.items(): #перебираем ключи со значениями\n",
    "            if item[0] == shelf: #если ключ = номеру полки, который мы ввели, то\n",
    "                item[1].append(number) #добавляем к значению номер нашего документа\n",
    "        else:\n",
    "            directories[f'{shelf}'] = [number] #если такой полки еще не существует, создаем полку с нашим документов\n",
    "            \n",
    "#моя логика такова: в словаре всегда есть ключ и значение, значит ключ - это всегда item[0], а значение всегда item[1], \n",
    "#это не зависит от того, что стоит на месте значения; но у нас стоит на месте значения список, поэтому я делала append  "
   ]
  },
  {
   "cell_type": "code",
   "execution_count": null,
   "id": "d283c638",
   "metadata": {},
   "outputs": [],
   "source": [
    "change(directories)"
   ]
  },
  {
   "cell_type": "code",
   "execution_count": null,
   "id": "ba7be755",
   "metadata": {},
   "outputs": [],
   "source": [
    "directories"
   ]
  },
  {
   "cell_type": "code",
   "execution_count": 21,
   "id": "386c2ba6",
   "metadata": {},
   "outputs": [
    {
     "ename": "SyntaxError",
     "evalue": "'break' outside loop (419048071.py, line 10)",
     "output_type": "error",
     "traceback": [
      "\u001b[1;36m  Input \u001b[1;32mIn [21]\u001b[1;36m\u001b[0m\n\u001b[1;33m    break\u001b[0m\n\u001b[1;37m    ^\u001b[0m\n\u001b[1;31mSyntaxError\u001b[0m\u001b[1;31m:\u001b[0m 'break' outside loop\n"
     ]
    }
   ],
   "source": [
    "def change(directories):\n",
    "    letter = input('введите команду: ')\n",
    "    if letter == 'm':  \n",
    "        number = input('Введите номер документа: ')\n",
    "        shelf = input ('Введите номер полки: ')\n",
    "        for sh in directories.values(): #перебор списка документов\n",
    "            if number in sh: #если введенный номер есть на полке, то...\n",
    "                sh.remove(number) #удаляем этот номер как элемент списка \n",
    "        else:\n",
    "            print('Такого документа не существует')\n",
    "            break #хочу поставить сюда break, но он не работает почему-то :(( если такого номера вообще нет, то заканчиваем\n",
    "        for item in directories.items(): #перебираем ключи со значениями\n",
    "            if item[0] == shelf: #если ключ = номеру полки, который мы ввели, то\n",
    "                item[1].append(number) #добавляем к значению номер нашего документа\n",
    "        else:\n",
    "            print()\n",
    "            print('Такой полки не существует!')"
   ]
  },
  {
   "cell_type": "code",
   "execution_count": 19,
   "id": "9d2a1ea3",
   "metadata": {},
   "outputs": [
    {
     "name": "stdout",
     "output_type": "stream",
     "text": [
      "введите команду: m\n",
      "Введите номер документа: 1267890\n",
      "Введите номер полки: 1\n",
      "Такого документа не существует\n",
      "\n",
      "Такой полки не существует!\n"
     ]
    }
   ],
   "source": [
    "change(directories)"
   ]
  },
  {
   "cell_type": "code",
   "execution_count": null,
   "id": "438757b4",
   "metadata": {},
   "outputs": [],
   "source": []
  }
 ],
 "metadata": {
  "kernelspec": {
   "display_name": "Python 3 (ipykernel)",
   "language": "python",
   "name": "python3"
  },
  "language_info": {
   "codemirror_mode": {
    "name": "ipython",
    "version": 3
   },
   "file_extension": ".py",
   "mimetype": "text/x-python",
   "name": "python",
   "nbconvert_exporter": "python",
   "pygments_lexer": "ipython3",
   "version": "3.9.12"
  }
 },
 "nbformat": 4,
 "nbformat_minor": 5
}
