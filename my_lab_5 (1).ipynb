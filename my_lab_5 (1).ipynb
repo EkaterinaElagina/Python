{
 "cells": [
  {
   "cell_type": "code",
   "execution_count": 14,
   "id": "36c3daf2",
   "metadata": {},
   "outputs": [
    {
     "name": "stdout",
     "output_type": "stream",
     "text": [
      "[-3, -7, -9, -12, 5, 7, 23, 34, 65]\n"
     ]
    }
   ],
   "source": [
    "a = [5, 7, -3, -7, 65, 34, 23, -12, -9]\n",
    "\n",
    "neg = []\n",
    "pos = []\n",
    "\n",
    "for i in a:\n",
    "    if i < 0:\n",
    "        neg.append(i)\n",
    "    else:\n",
    "        pos.append(i)\n",
    "        \n",
    "for i in range (len(pos)):\n",
    "    for j in range (len(pos)-1):\n",
    "        if pos [j] > pos [j+1]:\n",
    "            pos [j], pos [j+1] = pos [j+1], pos [j]\n",
    "    \n",
    "for n in range (len(neg)):\n",
    "    for m in range (len(neg)-1):\n",
    "        if neg [m] > neg [m+1]:\n",
    "            neg [m], neg [m+1] = neg [m+1], neg [m]\n",
    "\n",
    "neg.sort(reverse = True)            \n",
    "            \n",
    "result = neg\n",
    "result.extend(pos)\n",
    "    \n",
    "print (result)"
   ]
  },
  {
   "cell_type": "code",
   "execution_count": 15,
   "id": "25fda788",
   "metadata": {},
   "outputs": [
    {
     "name": "stdout",
     "output_type": "stream",
     "text": [
      "[2, 5, 4, 3, 1]\n",
      "[2, 4, 5, 3, 1]\n",
      "[2, 3, 4, 5, 1]\n",
      "[1, 2, 3, 4, 5]\n"
     ]
    }
   ],
   "source": [
    "a  = [5, 2, 4, 3, 1]\n",
    "\n",
    "for i in range(1, len(a)):\n",
    "    insert = a[i]\n",
    "    j = i - 1\n",
    "    while j >= 0 and a[j] > insert:\n",
    "        a [j + 1] = a [j]\n",
    "        j -= 1\n",
    "    a [j + 1] = insert\n",
    "    print(a)"
   ]
  }
 ],
 "metadata": {
  "kernelspec": {
   "display_name": "Python 3 (ipykernel)",
   "language": "python",
   "name": "python3"
  },
  "language_info": {
   "codemirror_mode": {
    "name": "ipython",
    "version": 3
   },
   "file_extension": ".py",
   "mimetype": "text/x-python",
   "name": "python",
   "nbconvert_exporter": "python",
   "pygments_lexer": "ipython3",
   "version": "3.9.12"
  }
 },
 "nbformat": 4,
 "nbformat_minor": 5
}
