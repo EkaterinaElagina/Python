{
  "cells": [
    {
      "cell_type": "markdown",
      "id": "1dec378f",
      "metadata": {
        "id": "1dec378f"
      },
      "source": [
        "## Задание 1\n",
        "Дана переменная, в которой хранится слово из латинских букв. Напишите код, который выводит на экран:\n",
        "\n",
        "среднюю букву, если число букв в слове нечетное;\n",
        "две средних буквы, если число букв четное.\n",
        "Примеры работы программы:"
      ]
    },
    {
      "cell_type": "code",
      "execution_count": null,
      "id": "1f7e1655",
      "metadata": {
        "id": "1f7e1655"
      },
      "outputs": [],
      "source": [
        "word = 'testing'\n",
        "count = len(word)\n",
        "if count%2 == 0:\n",
        "    med = int(count/2)\n",
        "    print(word[med-1:med+1])\n",
        "else:\n",
        "    med = int(count/2)\n",
        "    print(word[med])   "
      ]
    },
    {
      "cell_type": "markdown",
      "id": "5ece5fae",
      "metadata": {
        "id": "5ece5fae"
      },
      "source": [
        "## Задание 2\n",
        "\n",
        "Напишите программу, которая последовательно запрашивает у пользователя числа (по одному за раз) \n",
        "и после первого нуля выводит сумму всех ранее введенных чисел."
      ]
    },
    {
      "cell_type": "code",
      "execution_count": null,
      "id": "d3bb7f0d",
      "metadata": {
        "id": "d3bb7f0d"
      },
      "outputs": [],
      "source": [
        "number = int(input('Введите целое число: '))\n",
        "sum_list = []\n",
        "sum_list.append(number)\n",
        "while number != 0:\n",
        "    number = int(input('Введите целое число: '))\n",
        "    sum_list.append(number)\n",
        "    \n",
        "print(sum(sum_list))"
      ]
    },
    {
      "cell_type": "markdown",
      "id": "7cc6259d",
      "metadata": {
        "id": "7cc6259d"
      },
      "source": [
        "## Задание 3\n",
        "\n",
        "Напишите программу, которая у пользователя запрашивает набор чисел разделенных пробелом. \n",
        "В результате программа в отсортированном порядке выводит числа, \n",
        "которые повторяются в вводе более одного раза."
      ]
    },
    {
      "cell_type": "code",
      "execution_count": null,
      "id": "b75eb0c4",
      "metadata": {
        "id": "b75eb0c4",
        "outputId": "a502a8e3-8f43-4193-9008-19ecfe07405f"
      },
      "outputs": [
        {
          "name": "stdout",
          "output_type": "stream",
          "text": [
            "Запишите числа через пробел и нажмите ENTER: 5 4 6 5 4 7\n",
            "4 5 "
          ]
        }
      ],
      "source": [
        "num = input('Запишите числа через пробел и нажмите ENTER: ')\n",
        "num_list = num.split(' ')\n",
        "first_list = []\n",
        "repeat_list = []\n",
        "for i in num_list:\n",
        "    if i not in first_list:\n",
        "        first_list.append(i)\n",
        "for i in first_list:\n",
        "    num_list.remove(i)\n",
        "    \n",
        "unique = sorted(num_list)\n",
        "\n",
        "for k in unique:\n",
        "    print(k, end = ' ')"
      ]
    }
  ],
  "metadata": {
    "kernelspec": {
      "display_name": "Python 3 (ipykernel)",
      "language": "python",
      "name": "python3"
    },
    "language_info": {
      "codemirror_mode": {
        "name": "ipython",
        "version": 3
      },
      "file_extension": ".py",
      "mimetype": "text/x-python",
      "name": "python",
      "nbconvert_exporter": "python",
      "pygments_lexer": "ipython3",
      "version": "3.9.12"
    },
    "colab": {
      "provenance": []
    }
  },
  "nbformat": 4,
  "nbformat_minor": 5
}