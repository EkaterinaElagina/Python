{
  "cells": [
    {
      "cell_type": "markdown",
      "id": "3476651b",
      "metadata": {
        "id": "3476651b"
      },
      "source": [
        "## Задание 1\n",
        "Дана переменная, в которой хранится список поисковых запросов пользователя (пример структуры данных приведен ниже).\n",
        "Вам необходимо написать программу, \n",
        "которая выведет на экран распределение количества слов в запросах в требуемом виде."
      ]
    },
    {
      "cell_type": "code",
      "execution_count": 5,
      "id": "d847b97e",
      "metadata": {
        "colab": {
          "base_uri": "https://localhost:8080/"
        },
        "id": "d847b97e",
        "outputId": "fa020951-657f-4a77-8e8d-eec2cb9baec8"
      },
      "outputs": [
        {
          "output_type": "stream",
          "name": "stdout",
          "text": [
            "Поисковых запросов, содержащих 2 слов(а):  42.86 %\n",
            "Поисковых запросов, содержащих 3 слов(а):  57.14 %\n"
          ]
        }
      ],
      "source": [
        "queries = [\n",
        "    'смотреть сериалы онлайн',\n",
        "    'новости спорта',\n",
        "    'афиша кино',\n",
        "    'курс доллара',\n",
        "    'сериалы этим летом',\n",
        "    'курс по питону',\n",
        "    'сериалы про спорт'\n",
        "]\n",
        "\n",
        "len_list = [] #посчитаем длину каждого запроса\n",
        "for string in queries:\n",
        "    count = 0\n",
        "    s = string.split()\n",
        "    len_list.append(len(s))\n",
        "    \n",
        "len_dict = dict(zip(queries, len_list)) #создадим словарь {запрос : его длина} \n",
        "unique = set(len_list) #уникальные длины запросов\n",
        "\n",
        "for i in unique: #каждое значение уникальной длины сравниваем с длиной каждого запроса\n",
        "    count = 0\n",
        "    for j in len_dict.values(): #перебор длин запроса\n",
        "        if j == i:\n",
        "            count+= 1\n",
        "    print(f'Поисковых запросов, содержащих {i} слов(а): ', round(100* count/len(len_list), 2), '%')"
      ]
    },
    {
      "cell_type": "markdown",
      "source": [
        "Иной вариант решения:"
      ],
      "metadata": {
        "id": "PeEJ-5wWFM4v"
      },
      "id": "PeEJ-5wWFM4v"
    },
    {
      "cell_type": "code",
      "source": [
        "result = {}\n",
        "\n",
        "for q in queries:\n",
        "    word_count = len(q.split())\n",
        "    result[word_count] = result.get(word_count, 0)+1\n",
        "    \n",
        "for word_count, query_count in result.items():\n",
        "    summ = sum(result.values())\n",
        "    print(f'Поисковых запросов, содержащих {word_count} слов(а): ', round(query_count/summ * 100, 2), '%')"
      ],
      "metadata": {
        "id": "Ib3OMQpDFLqc"
      },
      "id": "Ib3OMQpDFLqc",
      "execution_count": null,
      "outputs": []
    },
    {
      "cell_type": "markdown",
      "id": "17a776ae",
      "metadata": {
        "id": "17a776ae"
      },
      "source": [
        "## Задание 2\n",
        "\n",
        "Дана переменная, в которой хранится информация о затратах и доходе рекламных кампаний по различным источникам. \n",
        "Необходимо дополнить исходную структуру показателем ROI, \n",
        "который рассчитаем по формуле: (revenue / cost - 1) * 100"
      ]
    },
    {
      "cell_type": "code",
      "execution_count": null,
      "id": "5687273f",
      "metadata": {
        "id": "5687273f",
        "outputId": "66e413d1-e5d8-408b-ec60-a73e90dda463"
      },
      "outputs": [
        {
          "data": {
            "text/plain": [
              "{'vk': {'revenue': 103, 'cost': 98, 'ROI': 5.1},\n",
              " 'yandex': {'revenue': 179, 'cost': 153, 'ROI': 16.99},\n",
              " 'facebook': {'revenue': 103, 'cost': 110, 'ROI': -6.36},\n",
              " 'adwords': {'revenue': 35, 'cost': 34, 'ROI': 2.94},\n",
              " 'twitter': {'revenue': 11, 'cost': 24, 'ROI': -54.17}}"
            ]
          },
          "execution_count": 6,
          "metadata": {},
          "output_type": "execute_result"
        }
      ],
      "source": [
        "results = {\n",
        "    'vk': {'revenue': 103, 'cost': 98},\n",
        "    'yandex': {'revenue': 179, 'cost': 153},\n",
        "    'facebook': {'revenue': 103, 'cost': 110},\n",
        "    'adwords': {'revenue': 35, 'cost': 34},\n",
        "    'twitter': {'revenue': 11, 'cost': 24},\n",
        "}\n",
        "\n",
        "for i in results.values():\n",
        "    revenue, cost = i.values()\n",
        "    i['ROI'] = round((revenue / cost - 1) * 100, 2)\n",
        "    \n",
        "results"
      ]
    }
  ],
  "metadata": {
    "kernelspec": {
      "display_name": "Python 3 (ipykernel)",
      "language": "python",
      "name": "python3"
    },
    "language_info": {
      "codemirror_mode": {
        "name": "ipython",
        "version": 3
      },
      "file_extension": ".py",
      "mimetype": "text/x-python",
      "name": "python",
      "nbconvert_exporter": "python",
      "pygments_lexer": "ipython3",
      "version": "3.9.12"
    },
    "colab": {
      "provenance": []
    }
  },
  "nbformat": 4,
  "nbformat_minor": 5
}
